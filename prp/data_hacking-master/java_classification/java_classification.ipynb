{
 "metadata": {
  "name": "",
  "signature": "sha256:b0eb9b534082cfefbc26df49a4e010771e27afb7ad25a9e4b43276f6c5ea724e"
 },
 "nbformat": 3,
 "nbformat_minor": 0,
 "worksheets": [
  {
   "cells": [
    {
     "cell_type": "markdown",
     "metadata": {},
     "source": [
      "<div style=\"float: right; padding: 20px 0px 0px 20px;\"><img src=\"images/coffee-icon.png\" width=\"250px\"></div>\n",
      "# Java Class File Analysis\n",
      "<font size=4>In this notebook we're going to explore, understand, and classify java class files as being 'benign' or 'malicious'.  We will explore the data, apply machine learning algorithms to the data, add new features, do more machine learning.  Then we will test our classifier on a large amount of files to measure it's effectiveness.\n",
      "</font>\n",
      "### References\n",
      "<font size=4>\n",
      "<ul>\n",
      "    <li>http://docs.oracle.com/javase/specs/jvms/se7/html/jvms-4.html</li>\n",
      "</ul>\n",
      "</font>\n",
      "### Python Modules Used:\n",
      "<font size=4>\n",
      "<ul>\n",
      "<li>Pandas: Python Data Analysis Library (http://pandas.pydata.org)\n",
      "<li>Scikit Learn (http://scikit-learn.org) Scikit-learn: Machine Learning in Python, Pedregosa et al., JMLR 12, pp. 2825-2830, 2011.\n",
      "<li>Matplotlib: Python 2D plotting library (http://matplotlib.org)\n",
      "</ul>\n",
      "</font>\n",
      "### IPython Notebook for this talk: http://clicksecurity.github.io/data_hacking\n",
      "<br>"
     ]
    },
    {
     "cell_type": "markdown",
     "metadata": {},
     "source": [
      "### Imports and plot defaults"
     ]
    },
    {
     "cell_type": "code",
     "collapsed": false,
     "input": [
      "import pandas as pd\n",
      "print 'pandas version is', pd.__version__\n",
      "import numpy as np\n",
      "print 'numpy version is', np.__version__\n",
      "import sklearn\n",
      "print 'scikit-learn version is', sklearn.__version__\n",
      "import matplotlib\n",
      "print 'matplotlib version is', matplotlib.__version__\n",
      "import matplotlib.pyplot as plt"
     ],
     "language": "python",
     "metadata": {},
     "outputs": [
      {
       "output_type": "stream",
       "stream": "stdout",
       "text": [
        "pandas version is 0.13.0\n",
        "numpy version is 1.7.1\n",
        "scikit-learn version is 0.14.1\n",
        "matplotlib version is 1.4.1\n"
       ]
      }
     ],
     "prompt_number": 117
    },
    {
     "cell_type": "markdown",
     "metadata": {},
     "source": [
      "### Plotting defaults and helper functions"
     ]
    },
    {
     "cell_type": "code",
     "collapsed": false,
     "input": [
      "%matplotlib inline\n",
      "plt.rcParams['font.size'] = 18.0\n",
      "plt.rcParams['figure.figsize'] = 16.0, 5.0"
     ],
     "language": "python",
     "metadata": {},
     "outputs": [],
     "prompt_number": 118
    },
    {
     "cell_type": "code",
     "collapsed": false,
     "input": [
      "def plot_cm(cm, labels):\n",
      "    # Compute percentanges\n",
      "    percent = (cm*100.0)/np.array(np.matrix(cm.sum(axis=1)).T)\n",
      "    print 'Confusion Matrix Stats'\n",
      "    for i, label_i in enumerate(labels):\n",
      "        for j, label_j in enumerate(labels):\n",
      "            print \"%s/%s: %.2f%% (%d/%d)\" % (label_i, label_j, (percent[i][j]), cm[i][j], cm[i].sum())\n",
      "\n",
      "    # Show confusion matrix\n",
      "    # Thanks to kermit666 from stackoverflow\n",
      "    fig = plt.figure()\n",
      "    ax = fig.add_subplot(111)\n",
      "    ax.grid(b=False)\n",
      "    cax = ax.matshow(percent, cmap='coolwarm',vmin=0,vmax=100)\n",
      "    plt.title('')\n",
      "    fig.colorbar(cax)\n",
      "    ax.set_xticklabels([''] + labels)\n",
      "    ax.set_yticklabels([''] + labels)\n",
      "    plt.xlabel('Predicted')\n",
      "    plt.ylabel('True')\n",
      "    plt.show()"
     ],
     "language": "python",
     "metadata": {},
     "outputs": [],
     "prompt_number": 119
    },
    {
     "cell_type": "code",
     "collapsed": false,
     "input": [
      "def extract_character_info(string):\n",
      "    lowercase_runs = []\n",
      "    uppercase_runs = []\n",
      "    digit_runs = []\n",
      "    lower = map(str.islower, str(string))\n",
      "    upper = map(str.isupper, str(string))\n",
      "    digits = map(str.isdigit, str(string))\n",
      "    \n",
      "    current_length = 0\n",
      "    current = False\n",
      "    for l in lower:\n",
      "        if l:\n",
      "            current_length += 1\n",
      "            current = True\n",
      "        else:\n",
      "            if current:\n",
      "                lowercase_runs.append(current_length)\n",
      "                current_length = 0\n",
      "            current = False\n",
      "    if current:\n",
      "        lowercase_runs.append(current_length)\n",
      "\n",
      "    current_length = 0\n",
      "    current = False\n",
      "    for u in upper:\n",
      "        if u:\n",
      "            current_length += 1\n",
      "            current = True\n",
      "        else:\n",
      "            if current:\n",
      "                uppercase_runs.append(current_length)\n",
      "                current_length = 0\n",
      "            current = False\n",
      "    if current:\n",
      "        uppercase_runs.append(current_length)\n",
      "\n",
      "    current_length = 0\n",
      "    current = False\n",
      "    for d in digits:\n",
      "        if d:\n",
      "            current_length += 1\n",
      "            current = True\n",
      "        else:\n",
      "            if current:\n",
      "                digit_runs.append(current_length)\n",
      "                current_length = 0\n",
      "            current = False\n",
      "    if current:\n",
      "        digit_runs.append(current_length)\n",
      "    \n",
      "    return lowercase_runs, uppercase_runs, digit_runs"
     ],
     "language": "python",
     "metadata": {},
     "outputs": [],
     "prompt_number": 120
    },
    {
     "cell_type": "markdown",
     "metadata": {},
     "source": [
      "### Function to extract out the features we are interested with from the json blob"
     ]
    },
    {
     "cell_type": "code",
     "collapsed": false,
     "input": [
      "def extract_features(data):\n",
      "    features = {}\n",
      "    try:\n",
      "        features['sha256'] = data['metadata']['sha256']\n",
      "        features['size'] = data['metadata']['file_size']\n",
      "        features['entropy'] = data['metadata']['entropy']\n",
      "        if 'sourcefile' in data['characteristics']['java']:\n",
      "            features['source file'] = data['characteristics']['java']['sourcefile']\n",
      "        else:\n",
      "            features['source file'] = 'No Source File'\n",
      "        if 'access_permissions' in data['characteristics']['java']:\n",
      "            features['ap_count'] = len(data['characteristics']['java']['access_permissions'])\n",
      "            for ap in data['characteristics']['java']['access_permissions']:\n",
      "                features[str.lower(str(ap).replace(\" \", \"_\"))] = 1\n",
      "        features['class name'] = data['characteristics']['java']['class_name']\n",
      "        features['class_name_slash_count'] = features['class name'].count('/')\n",
      "        features['class_name_length'] = len(features['class name'])\n",
      "        cn_lowercase_runs, cn_uppercase_runs, cn_digit_runs = extract_character_info(features['class name'])\n",
      "        cn_lowercase_run_longest = 0\n",
      "        cn_lowercase_run_average = 0\n",
      "        cn_uppercase_run_longest = 0\n",
      "        cn_uppercase_run_average = 0\n",
      "        cn_digit_run_longest = 0\n",
      "        cn_digit_run_average = 0\n",
      "        if cn_lowercase_runs:\n",
      "            cn_lowercase_run_longest = np.max(cn_lowercase_runs)\n",
      "            cn_lowercase_run_average = np.mean(cn_lowercase_runs)\n",
      "        features['class_name_lowercase_run_longest'] = cn_lowercase_run_longest\n",
      "        features['class_name_lowercase_run_avg'] = cn_lowercase_run_average\n",
      "                    \n",
      "        if cn_uppercase_runs:\n",
      "            cn_uppercase_run_longest = np.max(cn_uppercase_runs)\n",
      "            cn_uppercase_run_average = np.mean(cn_uppercase_runs)\n",
      "        features['class_name_uppercase_run_longest'] = cn_uppercase_run_longest\n",
      "        features['class_name_uppercase_run_avg'] = cn_uppercase_run_average\n",
      "\n",
      "        if cn_digit_runs:\n",
      "            cn_digit_run_longest = np.max(cn_digit_runs)\n",
      "            cn_digit_run_average = np.mean(cn_digit_runs)\n",
      "        features['class_name_digit_run_longest'] = cn_digit_run_longest\n",
      "        features['class_name_digit_run_avg'] = cn_digit_run_average\n",
      "        \n",
      "        features['major version'] = data['characteristics']['java']['major_version']\n",
      "        features['minor version'] = data['characteristics']['java']['minor_version']\n",
      "        if 'method_names' in data['characteristics']['java']:\n",
      "            features['method names'] = data['characteristics']['java']['method_names']\n",
      "        else:\n",
      "            features['method names'] = []\n",
      "        features['methods_count'] = len(features['method names'])\n",
      "        lowercase_run_longest = 0\n",
      "        lowercase_run_average = 0 \n",
      "        lowercase_runs = []\n",
      "        uppercase_run_longest = 0\n",
      "        uppercase_run_average = 0 \n",
      "        uppercase_runs = []\n",
      "        digit_run_longest = 0\n",
      "        digit_run_average = 0\n",
      "        digit_runs = []\n",
      "\n",
      "        for method in features['method names']:\n",
      "            lc, uc, d = extract_character_info(method)\n",
      "            lowercase_runs.extend(lc)\n",
      "            uppercase_runs.extend(uc)\n",
      "            digit_runs.extend(d)\n",
      "            \n",
      "        if lowercase_runs:\n",
      "            lowercase_run_longest = np.max(lowercase_runs)\n",
      "            lowercase_run_average = np.mean(lowercase_runs)\n",
      "        features['method_name_lowercase_run_longest'] = lowercase_run_longest\n",
      "        features['method_name_lowercase_run_avg'] = lowercase_run_average\n",
      "                    \n",
      "        if uppercase_runs:\n",
      "            uppercase_run_longest = np.max(uppercase_runs)\n",
      "            uppercase_run_average = np.mean(uppercase_runs)\n",
      "        features['method_name_uppercase_run_longest'] = uppercase_run_longest\n",
      "        features['method_name_uppercase_run_avg'] = uppercase_run_average\n",
      "\n",
      "        if digit_runs:\n",
      "            digit_run_longest = np.max(digit_runs)\n",
      "            digit_run_average = np.mean(digit_runs)\n",
      "        features['method_name_digit_run_longest'] = digit_run_longest\n",
      "        features['method_name_digit_run_avg'] = digit_run_average\n",
      "        \n",
      "        if 'interfaces' in data['characteristics']['java']:\n",
      "            features['interfaces'] = data['characteristics']['java']['interfaces']\n",
      "        else:\n",
      "            features['interfaces'] = []\n",
      "        features['interface_count'] = len(features['interfaces'])\n",
      "        features['constant_pool_count'] = data['characteristics']['java']['const_pool_count']\n",
      "\n",
      "    except KeyError as ke:\n",
      "        print 'ERROR:', ke, data['metadata']['sha256']\n",
      "    return features"
     ],
     "language": "python",
     "metadata": {},
     "outputs": [],
     "prompt_number": 121
    },
    {
     "cell_type": "code",
     "collapsed": false,
     "input": [
      "def load_files(file_list):\n",
      "    import json\n",
      "    features_list = []\n",
      "    for filename in file_list:\n",
      "        with open(filename,'rb') as f:\n",
      "            features = extract_features(json.loads(f.read()))\n",
      "            features_list.append(features)\n",
      "    return features_list"
     ],
     "language": "python",
     "metadata": {},
     "outputs": [],
     "prompt_number": 122
    },
    {
     "cell_type": "markdown",
     "metadata": {},
     "source": [
      "#### We read in the benign and malicious files"
     ]
    },
    {
     "cell_type": "code",
     "collapsed": false,
     "input": [
      "# Good files\n",
      "import glob\n",
      "\n",
      "good_list = glob.glob('data/clean/*.results')\n",
      "good_features = load_files(good_list)\n",
      "print \"Files:\", len(good_list)"
     ],
     "language": "python",
     "metadata": {},
     "outputs": [
      {
       "output_type": "stream",
       "stream": "stdout",
       "text": [
        "Files: 500\n"
       ]
      }
     ],
     "prompt_number": 123
    },
    {
     "cell_type": "code",
     "collapsed": false,
     "input": [
      "# Bad files\n",
      "bad_list = glob.glob('data/malicious/*.results')\n",
      "bad_features = load_files(bad_list)\n",
      "print \"Files:\", len(bad_list)"
     ],
     "language": "python",
     "metadata": {},
     "outputs": [
      {
       "output_type": "stream",
       "stream": "stdout",
       "text": [
        "Files: 520\n"
       ]
      }
     ],
     "prompt_number": 124
    },
    {
     "cell_type": "code",
     "collapsed": false,
     "input": [
      "df_good = pd.DataFrame.from_records(good_features)\n",
      "df_good.fillna(0, inplace=True)\n",
      "df_good['label'] = 'benign'\n",
      "df_good.head()"
     ],
     "language": "python",
     "metadata": {},
     "outputs": [
      {
       "html": [
        "<div style=\"max-height:1000px;max-width:1500px;overflow:auto;\">\n",
        "<table border=\"1\" class=\"dataframe\">\n",
        "  <thead>\n",
        "    <tr style=\"text-align: right;\">\n",
        "      <th></th>\n",
        "      <th>acc_abstract</th>\n",
        "      <th>acc_annotation</th>\n",
        "      <th>acc_enum</th>\n",
        "      <th>acc_final</th>\n",
        "      <th>acc_interface</th>\n",
        "      <th>acc_public</th>\n",
        "      <th>acc_super</th>\n",
        "      <th>acc_synthetic</th>\n",
        "      <th>ap_count</th>\n",
        "      <th>class name</th>\n",
        "      <th>class_name_digit_run_avg</th>\n",
        "      <th>class_name_digit_run_longest</th>\n",
        "      <th>class_name_length</th>\n",
        "      <th>class_name_lowercase_run_avg</th>\n",
        "      <th>class_name_lowercase_run_longest</th>\n",
        "      <th>class_name_slash_count</th>\n",
        "      <th>class_name_uppercase_run_avg</th>\n",
        "      <th>class_name_uppercase_run_longest</th>\n",
        "      <th>constant_pool_count</th>\n",
        "      <th>entropy</th>\n",
        "      <th></th>\n",
        "    </tr>\n",
        "  </thead>\n",
        "  <tbody>\n",
        "    <tr>\n",
        "      <th>0</th>\n",
        "      <td> 1</td>\n",
        "      <td> 0</td>\n",
        "      <td> 0</td>\n",
        "      <td> 0</td>\n",
        "      <td> 0</td>\n",
        "      <td> 1</td>\n",
        "      <td> 1</td>\n",
        "      <td> 0</td>\n",
        "      <td> 3</td>\n",
        "      <td> com/google/common/collect/ForwardingConcurrentMap</td>\n",
        "      <td> 0</td>\n",
        "      <td> 0</td>\n",
        "      <td> 49</td>\n",
        "      <td> 6.000000</td>\n",
        "      <td>  9</td>\n",
        "      <td> 4</td>\n",
        "      <td> 1.0</td>\n",
        "      <td> 1</td>\n",
        "      <td>  54</td>\n",
        "      <td> 4.990507</td>\n",
        "      <td>...</td>\n",
        "    </tr>\n",
        "    <tr>\n",
        "      <th>1</th>\n",
        "      <td> 0</td>\n",
        "      <td> 0</td>\n",
        "      <td> 0</td>\n",
        "      <td> 0</td>\n",
        "      <td> 0</td>\n",
        "      <td> 0</td>\n",
        "      <td> 1</td>\n",
        "      <td> 0</td>\n",
        "      <td> 1</td>\n",
        "      <td> org/apache/hadoop/io/compress/GzipCodec$GzipOu...</td>\n",
        "      <td> 0</td>\n",
        "      <td> 0</td>\n",
        "      <td> 82</td>\n",
        "      <td> 4.846154</td>\n",
        "      <td>  8</td>\n",
        "      <td> 5</td>\n",
        "      <td> 1.5</td>\n",
        "      <td> 5</td>\n",
        "      <td>  39</td>\n",
        "      <td> 5.205063</td>\n",
        "      <td>...</td>\n",
        "    </tr>\n",
        "    <tr>\n",
        "      <th>2</th>\n",
        "      <td> 0</td>\n",
        "      <td> 0</td>\n",
        "      <td> 0</td>\n",
        "      <td> 1</td>\n",
        "      <td> 0</td>\n",
        "      <td> 0</td>\n",
        "      <td> 1</td>\n",
        "      <td> 0</td>\n",
        "      <td> 2</td>\n",
        "      <td> com/google/common/collect/Multisets$Unmodifiab...</td>\n",
        "      <td> 0</td>\n",
        "      <td> 0</td>\n",
        "      <td> 62</td>\n",
        "      <td> 6.625000</td>\n",
        "      <td> 11</td>\n",
        "      <td> 4</td>\n",
        "      <td> 1.0</td>\n",
        "      <td> 1</td>\n",
        "      <td> 131</td>\n",
        "      <td> 4.996721</td>\n",
        "      <td>...</td>\n",
        "    </tr>\n",
        "    <tr>\n",
        "      <th>3</th>\n",
        "      <td> 0</td>\n",
        "      <td> 0</td>\n",
        "      <td> 0</td>\n",
        "      <td> 0</td>\n",
        "      <td> 0</td>\n",
        "      <td> 0</td>\n",
        "      <td> 1</td>\n",
        "      <td> 0</td>\n",
        "      <td> 1</td>\n",
        "      <td>        hu/openig/mechanics/StaticDefensePlanner$1</td>\n",
        "      <td> 1</td>\n",
        "      <td> 1</td>\n",
        "      <td> 42</td>\n",
        "      <td> 5.666667</td>\n",
        "      <td>  9</td>\n",
        "      <td> 3</td>\n",
        "      <td> 1.0</td>\n",
        "      <td> 1</td>\n",
        "      <td>  56</td>\n",
        "      <td> 5.282413</td>\n",
        "      <td>...</td>\n",
        "    </tr>\n",
        "    <tr>\n",
        "      <th>4</th>\n",
        "      <td> 0</td>\n",
        "      <td> 0</td>\n",
        "      <td> 0</td>\n",
        "      <td> 0</td>\n",
        "      <td> 0</td>\n",
        "      <td> 1</td>\n",
        "      <td> 1</td>\n",
        "      <td> 0</td>\n",
        "      <td> 2</td>\n",
        "      <td>                org/apache/commons/io/LineIterator</td>\n",
        "      <td> 0</td>\n",
        "      <td> 0</td>\n",
        "      <td> 34</td>\n",
        "      <td> 4.666667</td>\n",
        "      <td>  7</td>\n",
        "      <td> 4</td>\n",
        "      <td> 1.0</td>\n",
        "      <td> 1</td>\n",
        "      <td>  95</td>\n",
        "      <td> 5.285082</td>\n",
        "      <td>...</td>\n",
        "    </tr>\n",
        "  </tbody>\n",
        "</table>\n",
        "<p>5 rows \u00d7 36 columns</p>\n",
        "</div>"
       ],
       "metadata": {},
       "output_type": "pyout",
       "prompt_number": 125,
       "text": [
        "   acc_abstract  acc_annotation  acc_enum  acc_final  acc_interface  \\\n",
        "0             1               0         0          0              0   \n",
        "1             0               0         0          0              0   \n",
        "2             0               0         0          1              0   \n",
        "3             0               0         0          0              0   \n",
        "4             0               0         0          0              0   \n",
        "\n",
        "   acc_public  acc_super  acc_synthetic  ap_count  \\\n",
        "0           1          1              0         3   \n",
        "1           0          1              0         1   \n",
        "2           0          1              0         2   \n",
        "3           0          1              0         1   \n",
        "4           1          1              0         2   \n",
        "\n",
        "                                          class name  \\\n",
        "0  com/google/common/collect/ForwardingConcurrentMap   \n",
        "1  org/apache/hadoop/io/compress/GzipCodec$GzipOu...   \n",
        "2  com/google/common/collect/Multisets$Unmodifiab...   \n",
        "3         hu/openig/mechanics/StaticDefensePlanner$1   \n",
        "4                 org/apache/commons/io/LineIterator   \n",
        "\n",
        "   class_name_digit_run_avg  class_name_digit_run_longest  class_name_length  \\\n",
        "0                         0                             0                 49   \n",
        "1                         0                             0                 82   \n",
        "2                         0                             0                 62   \n",
        "3                         1                             1                 42   \n",
        "4                         0                             0                 34   \n",
        "\n",
        "   class_name_lowercase_run_avg  class_name_lowercase_run_longest  \\\n",
        "0                      6.000000                                 9   \n",
        "1                      4.846154                                 8   \n",
        "2                      6.625000                                11   \n",
        "3                      5.666667                                 9   \n",
        "4                      4.666667                                 7   \n",
        "\n",
        "   class_name_slash_count  class_name_uppercase_run_avg  \\\n",
        "0                       4                           1.0   \n",
        "1                       5                           1.5   \n",
        "2                       4                           1.0   \n",
        "3                       3                           1.0   \n",
        "4                       4                           1.0   \n",
        "\n",
        "   class_name_uppercase_run_longest  constant_pool_count   entropy      \n",
        "0                                 1                   54  4.990507 ...  \n",
        "1                                 5                   39  5.205063 ...  \n",
        "2                                 1                  131  4.996721 ...  \n",
        "3                                 1                   56  5.282413 ...  \n",
        "4                                 1                   95  5.285082 ...  \n",
        "\n",
        "[5 rows x 36 columns]"
       ]
      }
     ],
     "prompt_number": 125
    },
    {
     "cell_type": "code",
     "collapsed": false,
     "input": [
      "df_bad = pd.DataFrame.from_records(bad_features)\n",
      "df_bad.fillna(0, inplace=True)\n",
      "df_bad['label'] = 'malicious'\n",
      "df_bad.head()"
     ],
     "language": "python",
     "metadata": {},
     "outputs": [
      {
       "html": [
        "<div style=\"max-height:1000px;max-width:1500px;overflow:auto;\">\n",
        "<table border=\"1\" class=\"dataframe\">\n",
        "  <thead>\n",
        "    <tr style=\"text-align: right;\">\n",
        "      <th></th>\n",
        "      <th>acc_final</th>\n",
        "      <th>acc_public</th>\n",
        "      <th>acc_super</th>\n",
        "      <th>ap_count</th>\n",
        "      <th>class name</th>\n",
        "      <th>class_name_digit_run_avg</th>\n",
        "      <th>class_name_digit_run_longest</th>\n",
        "      <th>class_name_length</th>\n",
        "      <th>class_name_lowercase_run_avg</th>\n",
        "      <th>class_name_lowercase_run_longest</th>\n",
        "      <th>class_name_slash_count</th>\n",
        "      <th>class_name_uppercase_run_avg</th>\n",
        "      <th>class_name_uppercase_run_longest</th>\n",
        "      <th>constant_pool_count</th>\n",
        "      <th>entropy</th>\n",
        "      <th>interface_count</th>\n",
        "      <th>interfaces</th>\n",
        "      <th>major version</th>\n",
        "      <th>method names</th>\n",
        "      <th>method_name_digit_run_avg</th>\n",
        "      <th></th>\n",
        "    </tr>\n",
        "  </thead>\n",
        "  <tbody>\n",
        "    <tr>\n",
        "      <th>0</th>\n",
        "      <td> 0</td>\n",
        "      <td> 1</td>\n",
        "      <td> 1</td>\n",
        "      <td> 2</td>\n",
        "      <td>                        Main</td>\n",
        "      <td> 0</td>\n",
        "      <td> 0</td>\n",
        "      <td>  4</td>\n",
        "      <td>  3.0</td>\n",
        "      <td>  3</td>\n",
        "      <td> 0</td>\n",
        "      <td> 1.000000</td>\n",
        "      <td> 1</td>\n",
        "      <td>  86</td>\n",
        "      <td> 6.114522</td>\n",
        "      <td> 0</td>\n",
        "      <td> []</td>\n",
        "      <td> 48</td>\n",
        "      <td>                                    [&lt;init&gt;, init]</td>\n",
        "      <td> 0</td>\n",
        "      <td>...</td>\n",
        "    </tr>\n",
        "    <tr>\n",
        "      <th>1</th>\n",
        "      <td> 0</td>\n",
        "      <td> 0</td>\n",
        "      <td> 1</td>\n",
        "      <td> 1</td>\n",
        "      <td>            YdCdHX/VcZaXVjyy</td>\n",
        "      <td> 0</td>\n",
        "      <td> 0</td>\n",
        "      <td> 16</td>\n",
        "      <td>  1.4</td>\n",
        "      <td>  3</td>\n",
        "      <td> 1</td>\n",
        "      <td> 1.333333</td>\n",
        "      <td> 2</td>\n",
        "      <td>  52</td>\n",
        "      <td> 5.539514</td>\n",
        "      <td> 0</td>\n",
        "      <td> []</td>\n",
        "      <td> 49</td>\n",
        "      <td>                      [&lt;init&gt;, ktCgxlqo, &lt;clinit&gt;]</td>\n",
        "      <td> 0</td>\n",
        "      <td>...</td>\n",
        "    </tr>\n",
        "    <tr>\n",
        "      <th>2</th>\n",
        "      <td> 0</td>\n",
        "      <td> 1</td>\n",
        "      <td> 1</td>\n",
        "      <td> 2</td>\n",
        "      <td>                      aOcMSp</td>\n",
        "      <td> 0</td>\n",
        "      <td> 0</td>\n",
        "      <td>  6</td>\n",
        "      <td>  1.0</td>\n",
        "      <td>  1</td>\n",
        "      <td> 0</td>\n",
        "      <td> 1.500000</td>\n",
        "      <td> 2</td>\n",
        "      <td> 159</td>\n",
        "      <td> 5.953528</td>\n",
        "      <td> 0</td>\n",
        "      <td> []</td>\n",
        "      <td> 49</td>\n",
        "      <td>                         [&lt;init&gt;, gvuNr, &lt;clinit&gt;]</td>\n",
        "      <td> 0</td>\n",
        "      <td>...</td>\n",
        "    </tr>\n",
        "    <tr>\n",
        "      <th>3</th>\n",
        "      <td> 0</td>\n",
        "      <td> 0</td>\n",
        "      <td> 1</td>\n",
        "      <td> 1</td>\n",
        "      <td>         a/zylasqwjlpbqyrwrr</td>\n",
        "      <td> 0</td>\n",
        "      <td> 0</td>\n",
        "      <td> 19</td>\n",
        "      <td>  9.0</td>\n",
        "      <td> 17</td>\n",
        "      <td> 1</td>\n",
        "      <td> 0.000000</td>\n",
        "      <td> 0</td>\n",
        "      <td> 478</td>\n",
        "      <td> 6.348531</td>\n",
        "      <td> 0</td>\n",
        "      <td> []</td>\n",
        "      <td> 49</td>\n",
        "      <td> [&lt;init&gt;, eiaxyercdfvbgscpbv, yginlmcynkyuohnfh...</td>\n",
        "      <td> 0</td>\n",
        "      <td>...</td>\n",
        "    </tr>\n",
        "    <tr>\n",
        "      <th>4</th>\n",
        "      <td> 0</td>\n",
        "      <td> 1</td>\n",
        "      <td> 1</td>\n",
        "      <td> 2</td>\n",
        "      <td> tljpjunbjwtqlywm/sdnrybknlf</td>\n",
        "      <td> 0</td>\n",
        "      <td> 0</td>\n",
        "      <td> 27</td>\n",
        "      <td> 13.0</td>\n",
        "      <td> 16</td>\n",
        "      <td> 1</td>\n",
        "      <td> 0.000000</td>\n",
        "      <td> 0</td>\n",
        "      <td> 122</td>\n",
        "      <td> 5.376762</td>\n",
        "      <td> 0</td>\n",
        "      <td> []</td>\n",
        "      <td> 49</td>\n",
        "      <td>                        [&lt;init&gt;, dvvwse, &lt;clinit&gt;]</td>\n",
        "      <td> 0</td>\n",
        "      <td>...</td>\n",
        "    </tr>\n",
        "  </tbody>\n",
        "</table>\n",
        "<p>5 rows \u00d7 31 columns</p>\n",
        "</div>"
       ],
       "metadata": {},
       "output_type": "pyout",
       "prompt_number": 126,
       "text": [
        "   acc_final  acc_public  acc_super  ap_count                   class name  \\\n",
        "0          0           1          1         2                         Main   \n",
        "1          0           0          1         1             YdCdHX/VcZaXVjyy   \n",
        "2          0           1          1         2                       aOcMSp   \n",
        "3          0           0          1         1          a/zylasqwjlpbqyrwrr   \n",
        "4          0           1          1         2  tljpjunbjwtqlywm/sdnrybknlf   \n",
        "\n",
        "   class_name_digit_run_avg  class_name_digit_run_longest  class_name_length  \\\n",
        "0                         0                             0                  4   \n",
        "1                         0                             0                 16   \n",
        "2                         0                             0                  6   \n",
        "3                         0                             0                 19   \n",
        "4                         0                             0                 27   \n",
        "\n",
        "   class_name_lowercase_run_avg  class_name_lowercase_run_longest  \\\n",
        "0                           3.0                                 3   \n",
        "1                           1.4                                 3   \n",
        "2                           1.0                                 1   \n",
        "3                           9.0                                17   \n",
        "4                          13.0                                16   \n",
        "\n",
        "   class_name_slash_count  class_name_uppercase_run_avg  \\\n",
        "0                       0                      1.000000   \n",
        "1                       1                      1.333333   \n",
        "2                       0                      1.500000   \n",
        "3                       1                      0.000000   \n",
        "4                       1                      0.000000   \n",
        "\n",
        "   class_name_uppercase_run_longest  constant_pool_count   entropy  \\\n",
        "0                                 1                   86  6.114522   \n",
        "1                                 2                   52  5.539514   \n",
        "2                                 2                  159  5.953528   \n",
        "3                                 0                  478  6.348531   \n",
        "4                                 0                  122  5.376762   \n",
        "\n",
        "   interface_count interfaces  major version  \\\n",
        "0                0         []             48   \n",
        "1                0         []             49   \n",
        "2                0         []             49   \n",
        "3                0         []             49   \n",
        "4                0         []             49   \n",
        "\n",
        "                                        method names  \\\n",
        "0                                     [<init>, init]   \n",
        "1                       [<init>, ktCgxlqo, <clinit>]   \n",
        "2                          [<init>, gvuNr, <clinit>]   \n",
        "3  [<init>, eiaxyercdfvbgscpbv, yginlmcynkyuohnfh...   \n",
        "4                         [<init>, dvvwse, <clinit>]   \n",
        "\n",
        "   method_name_digit_run_avg      \n",
        "0                          0 ...  \n",
        "1                          0 ...  \n",
        "2                          0 ...  \n",
        "3                          0 ...  \n",
        "4                          0 ...  \n",
        "\n",
        "[5 rows x 31 columns]"
       ]
      }
     ],
     "prompt_number": 126
    },
    {
     "cell_type": "code",
     "collapsed": false,
     "input": [
      "df = pd.concat([df_bad, df_good], ignore_index=True)\n",
      "df.fillna(0, inplace=True)"
     ],
     "language": "python",
     "metadata": {},
     "outputs": [],
     "prompt_number": 127
    },
    {
     "cell_type": "markdown",
     "metadata": {},
     "source": [
      "### Let's explore the data.\n",
      "\n",
      "#### We start by comparing the file sizes."
     ]
    },
    {
     "cell_type": "code",
     "collapsed": false,
     "input": [
      "df.boxplot(column='size', by='label')\n",
      "plt.ylabel('File Size')\n",
      "plt.xlabel('')\n",
      "plt.title('')\n",
      "plt.suptitle('')"
     ],
     "language": "python",
     "metadata": {},
     "outputs": [
      {
       "metadata": {},
       "output_type": "pyout",
       "prompt_number": 129,
       "text": [
        "<matplotlib.text.Text at 0x12b873d90>"
       ]
      },
      {
       "metadata": {},
       "output_type": "display_data",
       "png": "[encoded data removed]",
       "text": [
        "<matplotlib.figure.Figure at 0x12b500890>"
       ]
      }
     ],
     "prompt_number": 129
    },
    {
     "cell_type": "markdown",
     "metadata": {},
     "source": [
      "#### Let's zoom in.  We can see some separation between the files here."
     ]
    },
    {
     "cell_type": "code",
     "collapsed": false,
     "input": [
      "df.boxplot(column='size', by='label')\n",
      "plt.ylabel('File Size')\n",
      "plt.xlabel('')\n",
      "plt.title('')\n",
      "plt.suptitle('')\n",
      "plt.ylim(0, 15000)"
     ],
     "language": "python",
     "metadata": {},
     "outputs": [
      {
       "metadata": {},
       "output_type": "pyout",
       "prompt_number": 130,
       "text": [
        "(0, 15000)"
       ]
      },
      {
       "metadata": {},
       "output_type": "display_data",
       "png": "[encoded data removed]",
       "text": [
        "<matplotlib.figure.Figure at 0x12b86ad50>"
       ]
      }
     ],
     "prompt_number": 130
    },
    {
     "cell_type": "markdown",
     "metadata": {},
     "source": [
      "#### Next we compare the entropy."
     ]
    },
    {
     "cell_type": "code",
     "collapsed": false,
     "input": [
      "df.boxplot('entropy', 'label')\n",
      "plt.ylabel('Entropy')\n",
      "plt.xlabel('')\n",
      "plt.title('')\n",
      "plt.suptitle('')"
     ],
     "language": "python",
     "metadata": {},
     "outputs": [
      {
       "metadata": {},
       "output_type": "pyout",
       "prompt_number": 131,
       "text": [
        "<matplotlib.text.Text at 0x12b8ab5d0>"
       ]
      },
      {
       "metadata": {},
       "output_type": "display_data",
       "png": "[encoded data removed]",
       "text": [
        "<matplotlib.figure.Figure at 0x12b60b9d0>"
       ]
      }
     ],
     "prompt_number": 131
    },
    {
     "cell_type": "markdown",
     "metadata": {},
     "source": [
      "#### Next we compare the number of items in the constant pool"
     ]
    },
    {
     "cell_type": "code",
     "collapsed": false,
     "input": [
      "df.boxplot(column='constant_pool_count', by='label')\n",
      "plt.ylabel('Constant Pool Count')\n",
      "plt.xlabel('')\n",
      "plt.title('')\n",
      "plt.suptitle('')"
     ],
     "language": "python",
     "metadata": {},
     "outputs": [
      {
       "metadata": {},
       "output_type": "pyout",
       "prompt_number": 132,
       "text": [
        "<matplotlib.text.Text at 0x12b8b8650>"
       ]
      },
      {
       "metadata": {},
       "output_type": "display_data",
       "png": "[encoded data removed]",
       "text": [
        "<matplotlib.figure.Figure at 0x12b8b6cd0>"
       ]
      }
     ],
     "prompt_number": 132
    },
    {
     "cell_type": "markdown",
     "metadata": {},
     "source": [
      "#### It's hard to see the detail, so we zoom in"
     ]
    },
    {
     "cell_type": "code",
     "collapsed": false,
     "input": [
      "df.boxplot(column='constant_pool_count', by='label')\n",
      "plt.xlabel('')\n",
      "plt.ylabel('Constant Pool Count')\n",
      "plt.title('')\n",
      "plt.suptitle('')\n",
      "plt.ylim(0, 1000)"
     ],
     "language": "python",
     "metadata": {},
     "outputs": [
      {
       "metadata": {},
       "output_type": "pyout",
       "prompt_number": 133,
       "text": [
        "(0, 1000)"
       ]
      },
      {
       "metadata": {},
       "output_type": "display_data",
       "png": "[encoded data removed]",
       "text": [
        "<matplotlib.figure.Figure at 0x12b763910>"
       ]
      }
     ],
     "prompt_number": 133
    },
    {
     "cell_type": "markdown",
     "metadata": {},
     "source": [
      "#### Here we see the number of methods the class file has."
     ]
    },
    {
     "cell_type": "code",
     "collapsed": false,
     "input": [
      "df.boxplot(column='methods_count', by='label')\n",
      "plt.ylabel('Number of Methods')\n",
      "plt.xlabel('')\n",
      "plt.title('')\n",
      "plt.suptitle('')"
     ],
     "language": "python",
     "metadata": {},
     "outputs": [
      {
       "metadata": {},
       "output_type": "pyout",
       "prompt_number": 134,
       "text": [
        "<matplotlib.text.Text at 0x12b8b1210>"
       ]
      },
      {
       "metadata": {},
       "output_type": "display_data",
       "png": "[encoded data removed]",
       "text": [
        "<matplotlib.figure.Figure at 0x12b6cd7d0>"
       ]
      }
     ],
     "prompt_number": 134
    },
    {
     "cell_type": "markdown",
     "metadata": {},
     "source": [
      "#### Finally, we check out the number of interfaces the class file has."
     ]
    },
    {
     "cell_type": "code",
     "collapsed": false,
     "input": [
      "df.boxplot(column='interface_count', by='label')\n",
      "plt.ylabel('Number of Interfaces')\n",
      "plt.xlabel('')\n",
      "plt.title('')\n",
      "plt.suptitle('')"
     ],
     "language": "python",
     "metadata": {},
     "outputs": [
      {
       "metadata": {},
       "output_type": "pyout",
       "prompt_number": 135,
       "text": [
        "<matplotlib.text.Text at 0x12b68ced0>"
       ]
      },
      {
       "metadata": {},
       "output_type": "display_data",
       "png": "[encoded data removed]",
       "text": [
        "<matplotlib.figure.Figure at 0x12b8b11d0>"
       ]
      }
     ],
     "prompt_number": 135
    },
    {
     "cell_type": "markdown",
     "metadata": {},
     "source": [
      "#### First we try classifying binaries just based on some simple features we already have"
     ]
    },
    {
     "cell_type": "code",
     "collapsed": false,
     "input": [
      "my_seed = 1022\n",
      "my_tsize = .2"
     ],
     "language": "python",
     "metadata": {},
     "outputs": [],
     "prompt_number": 136
    },
    {
     "cell_type": "code",
     "collapsed": false,
     "input": [
      "import sklearn.ensemble\n",
      "clf_simple = sklearn.ensemble.RandomForestClassifier(n_estimators=50)\n",
      "simple_features = ['acc_abstract', 'acc_annotation', 'acc_enum', 'acc_final', 'acc_interface',\n",
      "                    'acc_public', 'acc_super', 'acc_synthetic', 'ap_count', 'constant_pool_count',\n",
      "                    'entropy', 'size', 'interface_count', 'major version', 'methods_count', 'minor version']\n",
      "\n",
      "X = df.as_matrix(simple_features)\n",
      "y = np.array(df['label'].tolist())\n",
      "\n",
      "scores = sklearn.cross_validation.cross_val_score(clf_simple, X, y, cv=10)\n",
      "print(\"Accuracy: %0.3f (+/- %0.3f)\" % (scores.mean(), scores.std() * 2))"
     ],
     "language": "python",
     "metadata": {},
     "outputs": [
      {
       "output_type": "stream",
       "stream": "stdout",
       "text": [
        "Accuracy: 0.927 (+/- 0.044)\n"
       ]
      }
     ],
     "prompt_number": 137
    },
    {
     "cell_type": "markdown",
     "metadata": {},
     "source": [
      "#### Not terribly great, but we're just getting started."
     ]
    },
    {
     "cell_type": "code",
     "collapsed": false,
     "input": [
      "import sklearn.ensemble\n",
      "from sklearn.metrics import confusion_matrix\n",
      "from sklearn.cross_validation import train_test_split\n",
      "\n",
      "# 80/20 Split for predictive test\n",
      "X_train, X_test, y_train, y_test = train_test_split(X, y, test_size=0.2)\n",
      "clf_simple.fit(X_train, y_train)\n",
      "y_pred = clf_simple.predict(X_test)\n",
      "labels = ['benign', 'malicious']\n",
      "cm = confusion_matrix(y_test, y_pred, labels)\n",
      "plot_cm(cm, labels)"
     ],
     "language": "python",
     "metadata": {},
     "outputs": [
      {
       "output_type": "stream",
       "stream": "stdout",
       "text": [
        "Confusion Matrix Stats\n",
        "benign/benign: 93.07% (94/101)\n",
        "benign/malicious: 6.93% (7/101)\n",
        "malicious/benign: 10.68% (11/103)\n",
        "malicious/malicious: 89.32% (92/103)\n"
       ]
      },
      {
       "metadata": {},
       "output_type": "display_data",
       "png": "[encoded data removed]",
       "text": [
        "<matplotlib.figure.Figure at 0x12b67fe10>"
       ]
      }
     ],
     "prompt_number": 138
    },
    {
     "cell_type": "markdown",
     "metadata": {},
     "source": [
      "#### Here we have the classifier tell use which features were most important and how important they were.  The entropy and constant pool count are the two most important features by far."
     ]
    },
    {
     "cell_type": "code",
     "collapsed": false,
     "input": [
      "importances = zip(simple_features, clf_simple.feature_importances_)\n",
      "importances.sort(key=lambda k:k[1], reverse=True)\n",
      "for idx, im in enumerate(importances):\n",
      "    print (str(idx+1) + ':').ljust(4), im[0].ljust(20), round(im[1], 5)"
     ],
     "language": "python",
     "metadata": {},
     "outputs": [
      {
       "output_type": "stream",
       "stream": "stdout",
       "text": [
        "1:   entropy              0.29813\n",
        "2:   constant_pool_count  0.24814\n",
        "3:   size                 0.14489\n",
        "4:   methods_count        0.08492\n",
        "5:   interface_count      0.08152\n",
        "6:   major version        0.05055\n",
        "7:   ap_count             0.02908\n",
        "8:   acc_public           0.02446\n",
        "9:   acc_final            0.01284\n",
        "10:  acc_abstract         0.00982\n",
        "11:  minor version        0.00623\n",
        "12:  acc_super            0.00541\n",
        "13:  acc_interface        0.00275\n",
        "14:  acc_enum             0.00125\n",
        "15:  acc_synthetic        2e-05\n",
        "16:  acc_annotation       -0.0\n"
       ]
      }
     ],
     "prompt_number": 139
    },
    {
     "cell_type": "markdown",
     "metadata": {},
     "source": [
      "### What about the method names?\n",
      "\n",
      "#### Next we will explore the names of the methods"
     ]
    },
    {
     "cell_type": "code",
     "collapsed": false,
     "input": [
      "bad = []\n",
      "good = []\n",
      "for strings, label in zip(df['method names'], df['label']):\n",
      "    for name in strings:\n",
      "        d = {'method name': name}\n",
      "        if label == 'malicious' and d not in bad:\n",
      "            bad.append(d)\n",
      "        elif label == 'benign' and d not in good:\n",
      "            good.append(d)\n",
      "\n",
      "df_method_names_bad = pd.DataFrame.from_records(bad)\n",
      "df_method_names_good = pd.DataFrame.from_records(good)"
     ],
     "language": "python",
     "metadata": {},
     "outputs": [],
     "prompt_number": 145
    },
    {
     "cell_type": "code",
     "collapsed": false,
     "input": [
      "df_method_names_bad.head(50)"
     ],
     "language": "python",
     "metadata": {},
     "outputs": [
      {
       "html": [
        "<div style=\"max-height:1000px;max-width:1500px;overflow:auto;\">\n",
        "<table border=\"1\" class=\"dataframe\">\n",
        "  <thead>\n",
        "    <tr style=\"text-align: right;\">\n",
        "      <th></th>\n",
        "      <th>method name</th>\n",
        "    </tr>\n",
        "  </thead>\n",
        "  <tbody>\n",
        "    <tr>\n",
        "      <th>0 </th>\n",
        "      <td>                &lt;init&gt;</td>\n",
        "    </tr>\n",
        "    <tr>\n",
        "      <th>1 </th>\n",
        "      <td>                  init</td>\n",
        "    </tr>\n",
        "    <tr>\n",
        "      <th>2 </th>\n",
        "      <td>              ktCgxlqo</td>\n",
        "    </tr>\n",
        "    <tr>\n",
        "      <th>3 </th>\n",
        "      <td>              &lt;clinit&gt;</td>\n",
        "    </tr>\n",
        "    <tr>\n",
        "      <th>4 </th>\n",
        "      <td>                 gvuNr</td>\n",
        "    </tr>\n",
        "    <tr>\n",
        "      <th>5 </th>\n",
        "      <td>    eiaxyercdfvbgscpbv</td>\n",
        "    </tr>\n",
        "    <tr>\n",
        "      <th>6 </th>\n",
        "      <td>    yginlmcynkyuohnfhe</td>\n",
        "    </tr>\n",
        "    <tr>\n",
        "      <th>7 </th>\n",
        "      <td>       mtyvzetsjhvnbyz</td>\n",
        "    </tr>\n",
        "    <tr>\n",
        "      <th>8 </th>\n",
        "      <td>    fxxhgjttqfavlooxcb</td>\n",
        "    </tr>\n",
        "    <tr>\n",
        "      <th>9 </th>\n",
        "      <td>   wyjgamzmowywjihkuuf</td>\n",
        "    </tr>\n",
        "    <tr>\n",
        "      <th>10</th>\n",
        "      <td> kgthsnqdqutacivcptong</td>\n",
        "    </tr>\n",
        "    <tr>\n",
        "      <th>11</th>\n",
        "      <td> qgasjqrogibkblyzourtq</td>\n",
        "    </tr>\n",
        "    <tr>\n",
        "      <th>12</th>\n",
        "      <td>   glfouhczfxzyskaystx</td>\n",
        "    </tr>\n",
        "    <tr>\n",
        "      <th>13</th>\n",
        "      <td>      mikczoanebdkwpyb</td>\n",
        "    </tr>\n",
        "    <tr>\n",
        "      <th>14</th>\n",
        "      <td>      bwssduenvebnvgix</td>\n",
        "    </tr>\n",
        "    <tr>\n",
        "      <th>15</th>\n",
        "      <td>   wafrcwijizypmitodmb</td>\n",
        "    </tr>\n",
        "    <tr>\n",
        "      <th>16</th>\n",
        "      <td>     bfznyeevclzzxxqbw</td>\n",
        "    </tr>\n",
        "    <tr>\n",
        "      <th>17</th>\n",
        "      <td>       jmzisxwtxhekbkl</td>\n",
        "    </tr>\n",
        "    <tr>\n",
        "      <th>18</th>\n",
        "      <td>    szivddjiptybevduli</td>\n",
        "    </tr>\n",
        "    <tr>\n",
        "      <th>19</th>\n",
        "      <td>   forwnxmgnutbtdwvptj</td>\n",
        "    </tr>\n",
        "    <tr>\n",
        "      <th>20</th>\n",
        "      <td>     mwwmrvljafpkwzdiy</td>\n",
        "    </tr>\n",
        "    <tr>\n",
        "      <th>21</th>\n",
        "      <td>     vvpbdzrhvvnzaieyi</td>\n",
        "    </tr>\n",
        "    <tr>\n",
        "      <th>22</th>\n",
        "      <td>     qkkxoygluwwlnwbxu</td>\n",
        "    </tr>\n",
        "    <tr>\n",
        "      <th>23</th>\n",
        "      <td>                dvvwse</td>\n",
        "    </tr>\n",
        "    <tr>\n",
        "      <th>24</th>\n",
        "      <td>                     c</td>\n",
        "    </tr>\n",
        "    <tr>\n",
        "      <th>25</th>\n",
        "      <td>                     k</td>\n",
        "    </tr>\n",
        "    <tr>\n",
        "      <th>26</th>\n",
        "      <td>                  main</td>\n",
        "    </tr>\n",
        "    <tr>\n",
        "      <th>27</th>\n",
        "      <td>     writeEmbeddedFile</td>\n",
        "    </tr>\n",
        "    <tr>\n",
        "      <th>28</th>\n",
        "      <td>             bootstrap</td>\n",
        "    </tr>\n",
        "    <tr>\n",
        "      <th>29</th>\n",
        "      <td>      getJreExecutable</td>\n",
        "    </tr>\n",
        "    <tr>\n",
        "      <th>30</th>\n",
        "      <td>          addExtension</td>\n",
        "    </tr>\n",
        "    <tr>\n",
        "      <th>31</th>\n",
        "      <td>             findInDir</td>\n",
        "    </tr>\n",
        "    <tr>\n",
        "      <th>32</th>\n",
        "      <td>             normalize</td>\n",
        "    </tr>\n",
        "    <tr>\n",
        "      <th>33</th>\n",
        "      <td>               dissect</td>\n",
        "    </tr>\n",
        "    <tr>\n",
        "      <th>34</th>\n",
        "      <td>                class$</td>\n",
        "    </tr>\n",
        "    <tr>\n",
        "      <th>35</th>\n",
        "      <td>              tgznSIAR</td>\n",
        "    </tr>\n",
        "    <tr>\n",
        "      <th>36</th>\n",
        "      <td>               kWfVWtw</td>\n",
        "    </tr>\n",
        "    <tr>\n",
        "      <th>37</th>\n",
        "      <td>              BodFzDax</td>\n",
        "    </tr>\n",
        "    <tr>\n",
        "      <th>38</th>\n",
        "      <td>                xXVBwx</td>\n",
        "    </tr>\n",
        "    <tr>\n",
        "      <th>39</th>\n",
        "      <td>             VdJiGyZfj</td>\n",
        "    </tr>\n",
        "    <tr>\n",
        "      <th>40</th>\n",
        "      <td>            taddhnwrkj</td>\n",
        "    </tr>\n",
        "    <tr>\n",
        "      <th>41</th>\n",
        "      <td>                     C</td>\n",
        "    </tr>\n",
        "    <tr>\n",
        "      <th>42</th>\n",
        "      <td>         ALLATORI_DEMO</td>\n",
        "    </tr>\n",
        "    <tr>\n",
        "      <th>43</th>\n",
        "      <td>      jvsamhqyvgekftsj</td>\n",
        "    </tr>\n",
        "    <tr>\n",
        "      <th>44</th>\n",
        "      <td>                 knjkb</td>\n",
        "    </tr>\n",
        "    <tr>\n",
        "      <th>45</th>\n",
        "      <td>                     B</td>\n",
        "    </tr>\n",
        "    <tr>\n",
        "      <th>46</th>\n",
        "      <td>                cmjnkr</td>\n",
        "    </tr>\n",
        "    <tr>\n",
        "      <th>47</th>\n",
        "      <td>                jmdpes</td>\n",
        "    </tr>\n",
        "    <tr>\n",
        "      <th>48</th>\n",
        "      <td>             tqffjybms</td>\n",
        "    </tr>\n",
        "    <tr>\n",
        "      <th>49</th>\n",
        "      <td>                vtvtmh</td>\n",
        "    </tr>\n",
        "  </tbody>\n",
        "</table>\n",
        "<p>50 rows \u00d7 1 columns</p>\n",
        "</div>"
       ],
       "metadata": {},
       "output_type": "pyout",
       "prompt_number": 146,
       "text": [
        "              method name\n",
        "0                  <init>\n",
        "1                    init\n",
        "2                ktCgxlqo\n",
        "3                <clinit>\n",
        "4                   gvuNr\n",
        "5      eiaxyercdfvbgscpbv\n",
        "6      yginlmcynkyuohnfhe\n",
        "7         mtyvzetsjhvnbyz\n",
        "8      fxxhgjttqfavlooxcb\n",
        "9     wyjgamzmowywjihkuuf\n",
        "10  kgthsnqdqutacivcptong\n",
        "11  qgasjqrogibkblyzourtq\n",
        "12    glfouhczfxzyskaystx\n",
        "13       mikczoanebdkwpyb\n",
        "14       bwssduenvebnvgix\n",
        "15    wafrcwijizypmitodmb\n",
        "16      bfznyeevclzzxxqbw\n",
        "17        jmzisxwtxhekbkl\n",
        "18     szivddjiptybevduli\n",
        "19    forwnxmgnutbtdwvptj\n",
        "20      mwwmrvljafpkwzdiy\n",
        "21      vvpbdzrhvvnzaieyi\n",
        "22      qkkxoygluwwlnwbxu\n",
        "23                 dvvwse\n",
        "24                      c\n",
        "25                      k\n",
        "26                   main\n",
        "27      writeEmbeddedFile\n",
        "28              bootstrap\n",
        "29       getJreExecutable\n",
        "30           addExtension\n",
        "31              findInDir\n",
        "32              normalize\n",
        "33                dissect\n",
        "34                 class$\n",
        "35               tgznSIAR\n",
        "36                kWfVWtw\n",
        "37               BodFzDax\n",
        "38                 xXVBwx\n",
        "39              VdJiGyZfj\n",
        "40             taddhnwrkj\n",
        "41                      C\n",
        "42          ALLATORI_DEMO\n",
        "43       jvsamhqyvgekftsj\n",
        "44                  knjkb\n",
        "45                      B\n",
        "46                 cmjnkr\n",
        "47                 jmdpes\n",
        "48              tqffjybms\n",
        "49                 vtvtmh\n",
        "\n",
        "[50 rows x 1 columns]"
       ]
      }
     ],
     "prompt_number": 146
    },
    {
     "cell_type": "code",
     "collapsed": false,
     "input": [
      "df_method_names_good.head(50)"
     ],
     "language": "python",
     "metadata": {},
     "outputs": [
      {
       "html": [
        "<div style=\"max-height:1000px;max-width:1500px;overflow:auto;\">\n",
        "<table border=\"1\" class=\"dataframe\">\n",
        "  <thead>\n",
        "    <tr style=\"text-align: right;\">\n",
        "      <th></th>\n",
        "      <th>method name</th>\n",
        "    </tr>\n",
        "  </thead>\n",
        "  <tbody>\n",
        "    <tr>\n",
        "      <th>0 </th>\n",
        "      <td>             &lt;init&gt;</td>\n",
        "    </tr>\n",
        "    <tr>\n",
        "      <th>1 </th>\n",
        "      <td>           delegate</td>\n",
        "    </tr>\n",
        "    <tr>\n",
        "      <th>2 </th>\n",
        "      <td>        putIfAbsent</td>\n",
        "    </tr>\n",
        "    <tr>\n",
        "      <th>3 </th>\n",
        "      <td>             remove</td>\n",
        "    </tr>\n",
        "    <tr>\n",
        "      <th>4 </th>\n",
        "      <td>            replace</td>\n",
        "    </tr>\n",
        "    <tr>\n",
        "      <th>5 </th>\n",
        "      <td>         resetState</td>\n",
        "    </tr>\n",
        "    <tr>\n",
        "      <th>6 </th>\n",
        "      <td>         comparator</td>\n",
        "    </tr>\n",
        "    <tr>\n",
        "      <th>7 </th>\n",
        "      <td>   createElementSet</td>\n",
        "    </tr>\n",
        "    <tr>\n",
        "      <th>8 </th>\n",
        "      <td>         elementSet</td>\n",
        "    </tr>\n",
        "    <tr>\n",
        "      <th>9 </th>\n",
        "      <td> descendingMultiset</td>\n",
        "    </tr>\n",
        "    <tr>\n",
        "      <th>10</th>\n",
        "      <td>         firstEntry</td>\n",
        "    </tr>\n",
        "    <tr>\n",
        "      <th>11</th>\n",
        "      <td>          lastEntry</td>\n",
        "    </tr>\n",
        "    <tr>\n",
        "      <th>12</th>\n",
        "      <td>     pollFirstEntry</td>\n",
        "    </tr>\n",
        "    <tr>\n",
        "      <th>13</th>\n",
        "      <td>      pollLastEntry</td>\n",
        "    </tr>\n",
        "    <tr>\n",
        "      <th>14</th>\n",
        "      <td>       headMultiset</td>\n",
        "    </tr>\n",
        "    <tr>\n",
        "      <th>15</th>\n",
        "      <td>        subMultiset</td>\n",
        "    </tr>\n",
        "    <tr>\n",
        "      <th>16</th>\n",
        "      <td>       tailMultiset</td>\n",
        "    </tr>\n",
        "    <tr>\n",
        "      <th>17</th>\n",
        "      <td>             invoke</td>\n",
        "    </tr>\n",
        "    <tr>\n",
        "      <th>18</th>\n",
        "      <td>            hasNext</td>\n",
        "    </tr>\n",
        "    <tr>\n",
        "      <th>19</th>\n",
        "      <td>        isValidLine</td>\n",
        "    </tr>\n",
        "    <tr>\n",
        "      <th>20</th>\n",
        "      <td>               next</td>\n",
        "    </tr>\n",
        "    <tr>\n",
        "      <th>21</th>\n",
        "      <td>           nextLine</td>\n",
        "    </tr>\n",
        "    <tr>\n",
        "      <th>22</th>\n",
        "      <td>              close</td>\n",
        "    </tr>\n",
        "    <tr>\n",
        "      <th>23</th>\n",
        "      <td>       closeQuietly</td>\n",
        "    </tr>\n",
        "    <tr>\n",
        "      <th>24</th>\n",
        "      <td>               exec</td>\n",
        "    </tr>\n",
        "    <tr>\n",
        "      <th>25</th>\n",
        "      <td>         getInitial</td>\n",
        "    </tr>\n",
        "    <tr>\n",
        "      <th>26</th>\n",
        "      <td>        getIntermed</td>\n",
        "    </tr>\n",
        "    <tr>\n",
        "      <th>27</th>\n",
        "      <td>           getFinal</td>\n",
        "    </tr>\n",
        "    <tr>\n",
        "      <th>28</th>\n",
        "      <td>                max</td>\n",
        "    </tr>\n",
        "    <tr>\n",
        "      <th>29</th>\n",
        "      <td>       outputSchema</td>\n",
        "    </tr>\n",
        "    <tr>\n",
        "      <th>30</th>\n",
        "      <td>     estimateLength</td>\n",
        "    </tr>\n",
        "    <tr>\n",
        "      <th>31</th>\n",
        "      <td>           appendTo</td>\n",
        "    </tr>\n",
        "    <tr>\n",
        "      <th>32</th>\n",
        "      <td>           getXPath</td>\n",
        "    </tr>\n",
        "    <tr>\n",
        "      <th>33</th>\n",
        "      <td>                run</td>\n",
        "    </tr>\n",
        "    <tr>\n",
        "      <th>34</th>\n",
        "      <td>           secToHMS</td>\n",
        "    </tr>\n",
        "    <tr>\n",
        "      <th>35</th>\n",
        "      <td>         contribute</td>\n",
        "    </tr>\n",
        "    <tr>\n",
        "      <th>36</th>\n",
        "      <td>     onBeforeRender</td>\n",
        "    </tr>\n",
        "    <tr>\n",
        "      <th>37</th>\n",
        "      <td>      setCloseEvent</td>\n",
        "    </tr>\n",
        "    <tr>\n",
        "      <th>38</th>\n",
        "      <td>     setSelectEvent</td>\n",
        "    </tr>\n",
        "    <tr>\n",
        "      <th>39</th>\n",
        "      <td>     setChangeEvent</td>\n",
        "    </tr>\n",
        "    <tr>\n",
        "      <th>40</th>\n",
        "      <td>          setSource</td>\n",
        "    </tr>\n",
        "    <tr>\n",
        "      <th>41</th>\n",
        "      <td>          statement</td>\n",
        "    </tr>\n",
        "    <tr>\n",
        "      <th>42</th>\n",
        "      <td> setDocumentLocator</td>\n",
        "    </tr>\n",
        "    <tr>\n",
        "      <th>43</th>\n",
        "      <td>      startDocument</td>\n",
        "    </tr>\n",
        "    <tr>\n",
        "      <th>44</th>\n",
        "      <td>        endDocument</td>\n",
        "    </tr>\n",
        "    <tr>\n",
        "      <th>45</th>\n",
        "      <td> startPrefixMapping</td>\n",
        "    </tr>\n",
        "    <tr>\n",
        "      <th>46</th>\n",
        "      <td>   endPrefixMapping</td>\n",
        "    </tr>\n",
        "    <tr>\n",
        "      <th>47</th>\n",
        "      <td>       startElement</td>\n",
        "    </tr>\n",
        "    <tr>\n",
        "      <th>48</th>\n",
        "      <td>         endElement</td>\n",
        "    </tr>\n",
        "    <tr>\n",
        "      <th>49</th>\n",
        "      <td>         characters</td>\n",
        "    </tr>\n",
        "  </tbody>\n",
        "</table>\n",
        "<p>50 rows \u00d7 1 columns</p>\n",
        "</div>"
       ],
       "metadata": {},
       "output_type": "pyout",
       "prompt_number": 147,
       "text": [
        "           method name\n",
        "0               <init>\n",
        "1             delegate\n",
        "2          putIfAbsent\n",
        "3               remove\n",
        "4              replace\n",
        "5           resetState\n",
        "6           comparator\n",
        "7     createElementSet\n",
        "8           elementSet\n",
        "9   descendingMultiset\n",
        "10          firstEntry\n",
        "11           lastEntry\n",
        "12      pollFirstEntry\n",
        "13       pollLastEntry\n",
        "14        headMultiset\n",
        "15         subMultiset\n",
        "16        tailMultiset\n",
        "17              invoke\n",
        "18             hasNext\n",
        "19         isValidLine\n",
        "20                next\n",
        "21            nextLine\n",
        "22               close\n",
        "23        closeQuietly\n",
        "24                exec\n",
        "25          getInitial\n",
        "26         getIntermed\n",
        "27            getFinal\n",
        "28                 max\n",
        "29        outputSchema\n",
        "30      estimateLength\n",
        "31            appendTo\n",
        "32            getXPath\n",
        "33                 run\n",
        "34            secToHMS\n",
        "35          contribute\n",
        "36      onBeforeRender\n",
        "37       setCloseEvent\n",
        "38      setSelectEvent\n",
        "39      setChangeEvent\n",
        "40           setSource\n",
        "41           statement\n",
        "42  setDocumentLocator\n",
        "43       startDocument\n",
        "44         endDocument\n",
        "45  startPrefixMapping\n",
        "46    endPrefixMapping\n",
        "47        startElement\n",
        "48          endElement\n",
        "49          characters\n",
        "\n",
        "[50 rows x 1 columns]"
       ]
      }
     ],
     "prompt_number": 147
    },
    {
     "cell_type": "markdown",
     "metadata": {},
     "source": [
      "#### When we look at method names, we see that the benign ones look \"normal\" and while some of the malicioius ones look \"normal\", some look like gibberish.  To try to capture that feature, we extract the longest run of consecutive lowercase, uppercase, and digits from the methods name.  We also calculate the average run of these sequences as well."
     ]
    },
    {
     "cell_type": "code",
     "collapsed": false,
     "input": [
      "df.boxplot('method_name_lowercase_run_longest', 'label')\n",
      "plt.ylabel('Max length of lower case letters')\n",
      "plt.xlabel('')\n",
      "plt.title('')\n",
      "plt.suptitle('')"
     ],
     "language": "python",
     "metadata": {},
     "outputs": [
      {
       "metadata": {},
       "output_type": "pyout",
       "prompt_number": 148,
       "text": [
        "<matplotlib.text.Text at 0x112560510>"
       ]
      },
      {
       "metadata": {},
       "output_type": "display_data",
       "png": "[encoded data removed]",
       "text": [
        "<matplotlib.figure.Figure at 0x12b67fb90>"
       ]
      }
     ],
     "prompt_number": 148
    },
    {
     "cell_type": "code",
     "collapsed": false,
     "input": [
      "df.boxplot('method_name_lowercase_run_avg', 'label')\n",
      "plt.ylabel('Avg length of lower case letters')\n",
      "plt.xlabel('')\n",
      "plt.title('')\n",
      "plt.suptitle('')"
     ],
     "language": "python",
     "metadata": {},
     "outputs": [
      {
       "metadata": {},
       "output_type": "pyout",
       "prompt_number": 149,
       "text": [
        "<matplotlib.text.Text at 0x113767090>"
       ]
      },
      {
       "metadata": {},
       "output_type": "display_data",
       "png": "[encoded data removed]",
       "text": [
        "<matplotlib.figure.Figure at 0x112765fd0>"
       ]
      }
     ],
     "prompt_number": 149
    },
    {
     "cell_type": "code",
     "collapsed": false,
     "input": [
      "df.boxplot('method_name_uppercase_run_longest', 'label')\n",
      "plt.ylabel('Max length of upper case letters')\n",
      "plt.xlabel('')\n",
      "plt.title('')\n",
      "plt.suptitle('')"
     ],
     "language": "python",
     "metadata": {},
     "outputs": [
      {
       "metadata": {},
       "output_type": "pyout",
       "prompt_number": 150,
       "text": [
        "<matplotlib.text.Text at 0x1136dd650>"
       ]
      },
      {
       "metadata": {},
       "output_type": "display_data",
       "png": "[encoded data removed]",
       "text": [
        "<matplotlib.figure.Figure at 0x1136fabd0>"
       ]
      }
     ],
     "prompt_number": 150
    },
    {
     "cell_type": "code",
     "collapsed": false,
     "input": [
      "df.boxplot('method_name_uppercase_run_avg', 'label')\n",
      "plt.ylabel('Avg length of upper case letters')\n",
      "plt.xlabel('')\n",
      "plt.title('')\n",
      "plt.suptitle('')"
     ],
     "language": "python",
     "metadata": {},
     "outputs": [
      {
       "metadata": {},
       "output_type": "pyout",
       "prompt_number": 151,
       "text": [
        "<matplotlib.text.Text at 0x10ea06190>"
       ]
      },
      {
       "metadata": {},
       "output_type": "display_data",
       "png": "[encoded data removed]",
       "text": [
        "<matplotlib.figure.Figure at 0x1136dda50>"
       ]
      }
     ],
     "prompt_number": 151
    },
    {
     "cell_type": "code",
     "collapsed": false,
     "input": [
      "df.boxplot('method_name_digit_run_longest', 'label')\n",
      "plt.ylabel('Max length of digits')\n",
      "plt.xlabel('')\n",
      "plt.title('')\n",
      "plt.suptitle('')"
     ],
     "language": "python",
     "metadata": {},
     "outputs": [
      {
       "metadata": {},
       "output_type": "pyout",
       "prompt_number": 152,
       "text": [
        "<matplotlib.text.Text at 0x10ea53810>"
       ]
      },
      {
       "metadata": {},
       "output_type": "display_data",
       "png": "[encoded data removed]",
       "text": [
        "<matplotlib.figure.Figure at 0x10e9ecbd0>"
       ]
      }
     ],
     "prompt_number": 152
    },
    {
     "cell_type": "code",
     "collapsed": false,
     "input": [
      "df.boxplot('method_name_digit_run_avg', 'label')\n",
      "plt.ylabel('Avg length of digits')\n",
      "plt.xlabel('')\n",
      "plt.title('')\n",
      "plt.suptitle('')"
     ],
     "language": "python",
     "metadata": {},
     "outputs": [
      {
       "metadata": {},
       "output_type": "pyout",
       "prompt_number": 153,
       "text": [
        "<matplotlib.text.Text at 0x10eabb2d0>"
       ]
      },
      {
       "metadata": {},
       "output_type": "display_data",
       "png": "[encoded data removed]",
       "text": [
        "<matplotlib.figure.Figure at 0x10ea1c590>"
       ]
      }
     ],
     "prompt_number": 153
    },
    {
     "cell_type": "markdown",
     "metadata": {},
     "source": [
      "#### We train the classifier using these new features."
     ]
    },
    {
     "cell_type": "code",
     "collapsed": false,
     "input": [
      "import sklearn.ensemble\n",
      "clf_methods = sklearn.ensemble.RandomForestClassifier(n_estimators=50)\n",
      "method_name_features = ['acc_abstract', 'acc_annotation', 'acc_enum', 'acc_final', 'acc_interface',\n",
      "                    'acc_public', 'acc_super', 'acc_synthetic', 'ap_count', 'constant_pool_count',\n",
      "                    'entropy', 'size', 'interface_count', 'major version', 'methods_count',\n",
      "                    'minor version',\n",
      "                    'method_name_digit_run_avg', 'method_name_digit_run_longest',\n",
      "                    'method_name_lowercase_run_avg', 'method_name_lowercase_run_longest',\n",
      "                    'method_name_uppercase_run_avg', 'method_name_uppercase_run_longest']\n",
      "\n",
      "X = df.as_matrix(method_name_features)\n",
      "y = np.array(df['label'].tolist())\n",
      "\n",
      "scores = sklearn.cross_validation.cross_val_score(clf_methods, X, y, cv=10)\n",
      "print(\"Accuracy: %0.3f (+/- %0.3f)\" % (scores.mean(), scores.std() * 2))"
     ],
     "language": "python",
     "metadata": {},
     "outputs": [
      {
       "output_type": "stream",
       "stream": "stdout",
       "text": [
        "Accuracy: 0.950 (+/- 0.037)\n"
       ]
      }
     ],
     "prompt_number": 154
    },
    {
     "cell_type": "markdown",
     "metadata": {},
     "source": [
      "#### We do see improvement in the classifier, so that is encouraging.  But definitely still work to be done."
     ]
    },
    {
     "cell_type": "code",
     "collapsed": false,
     "input": [
      "import sklearn.ensemble\n",
      "from sklearn.metrics import confusion_matrix\n",
      "from sklearn.cross_validation import train_test_split\n",
      "\n",
      "# 80/20 Split for predictive test\n",
      "X_train, X_test, y_train, y_test = train_test_split(X, y, test_size=0.2)\n",
      "clf_methods.fit(X_train, y_train)\n",
      "y_pred = clf_methods.predict(X_test)\n",
      "labels = ['benign', 'malicious']\n",
      "cm = confusion_matrix(y_test, y_pred, labels)\n",
      "plot_cm(cm, labels)"
     ],
     "language": "python",
     "metadata": {},
     "outputs": [
      {
       "output_type": "stream",
       "stream": "stdout",
       "text": [
        "Confusion Matrix Stats\n",
        "benign/benign: 94.90% (93/98)\n",
        "benign/malicious: 5.10% (5/98)\n",
        "malicious/benign: 10.38% (11/106)\n",
        "malicious/malicious: 89.62% (95/106)\n"
       ]
      },
      {
       "metadata": {},
       "output_type": "display_data",
       "png": "[encoded data removed]",
       "text": [
        "<matplotlib.figure.Figure at 0x12b62fe50>"
       ]
      }
     ],
     "prompt_number": 155
    },
    {
     "cell_type": "markdown",
     "metadata": {},
     "source": [
      "#### We check the importance from the classifier again.  The method names features are not the most important features, but they rank relatively relatively high in importance.  This explains the only slight improvement in the classifier."
     ]
    },
    {
     "cell_type": "markdown",
     "metadata": {},
     "source": [
      "importances = zip(method_name_features, clf_methods.feature_importances_)\n",
      "importances.sort(key=lambda k:k[1], reverse=True)\n",
      "for idx, im in enumerate(importances[0:15]):\n",
      "    print (str(idx+1) + ':').ljust(4), im[0].ljust(35), round(im[1], 5)"
     ]
    },
    {
     "cell_type": "markdown",
     "metadata": {},
     "source": [
      "### What about the class names?"
     ]
    },
    {
     "cell_type": "code",
     "collapsed": false,
     "input": [
      "for idx, gcn in enumerate(df_good['class name']):\n",
      "    print gcn\n",
      "    if idx == 19:\n",
      "        break"
     ],
     "language": "python",
     "metadata": {},
     "outputs": [
      {
       "output_type": "stream",
       "stream": "stdout",
       "text": [
        "com/google/common/collect/ForwardingConcurrentMap\n",
        "org/apache/hadoop/io/compress/GzipCodec$GzipOutputStream$ResetableGZIPOutputStream\n",
        "com/google/common/collect/Multisets$UnmodifiableSortedMultiset\n",
        "hu/openig/mechanics/StaticDefensePlanner$1\n",
        "org/apache/commons/io/LineIterator\n",
        "org/apache/pig/builtin/IntMax\n",
        "org/apache/commons/lang/time/FastDateFormat$StringLiteral\n",
        "hu/openig/screen/items/ResearchProductionScreen$15\n",
        "org/dom4j/XPathException\n",
        "threadWordlistExec\n",
        "org/odlabs/wiquery/ui/autocomplete/AbstractAutocompleteComponent$InnerAutocomplete\n",
        "org/xml/sax/ContentHandler\n",
        "org/apache/commons/httpclient/protocol/SSLProtocolSocketFactory\n",
        "org/apache/pig/PigException\n",
        "org/junit/runners/Enclosed\n",
        "org/jets3t/service/io/ProgressMonitoredInputStream\n",
        "org/apache/pig/impl/util/CastUtils\n",
        "com/google/common/base/Joiner$2\n",
        "com/google/common/io/CharStreams\n",
        "org/apache/commons/compress/archivers/cpio/CpioArchiveOutputStream\n"
       ]
      }
     ],
     "prompt_number": 157
    },
    {
     "cell_type": "code",
     "collapsed": false,
     "input": [
      "for idx, gcn in enumerate(df_bad['class name']):\n",
      "    print gcn\n",
      "    if idx == 19:\n",
      "        break"
     ],
     "language": "python",
     "metadata": {},
     "outputs": [
      {
       "output_type": "stream",
       "stream": "stdout",
       "text": [
        "Main\n",
        "YdCdHX/VcZaXVjyy\n",
        "aOcMSp\n",
        "a/zylasqwjlpbqyrwrr\n",
        "tljpjunbjwtqlywm/sdnrybknlf\n",
        "Mainer\n",
        "Main\n",
        "mNIJnGIOkm/Payload\n",
        "aHrMCrboe/chspSxY\n",
        "Main\n",
        "OSrAfQWThe/SHLeanN\n",
        "hhIji/XQDODV\n",
        "a/dwrwbjyhllzu\n",
        "H\n",
        "enudwwlhl/wsshvntsenuwajehdujlchpms\n",
        "Main\n",
        "iACVKaBQCV/HhtBSGn\n",
        "GondadGondadExp\n",
        "Main\n",
        "enudwwlhl/yhfwcgjacjjauyvut\n"
       ]
      }
     ],
     "prompt_number": 158
    },
    {
     "cell_type": "markdown",
     "metadata": {},
     "source": [
      "#### Much like the method names, the malicious class names look like gibberish.  They also seem shorter and do not have a lot of slashes."
     ]
    },
    {
     "cell_type": "code",
     "collapsed": false,
     "input": [
      "df.boxplot('class_name_length', 'label')\n",
      "plt.ylabel('Class Name Length')\n",
      "plt.xlabel('')\n",
      "plt.title('')\n",
      "plt.suptitle('')"
     ],
     "language": "python",
     "metadata": {},
     "outputs": [
      {
       "metadata": {},
       "output_type": "pyout",
       "prompt_number": 159,
       "text": [
        "<matplotlib.text.Text at 0x12b7d9590>"
       ]
      },
      {
       "metadata": {},
       "output_type": "display_data",
       "png": "[encoded data removed]",
       "text": [
        "<matplotlib.figure.Figure at 0x10eac8410>"
       ]
      }
     ],
     "prompt_number": 159
    },
    {
     "cell_type": "code",
     "collapsed": false,
     "input": [
      "df.boxplot('class_name_slash_count', 'label')\n",
      "plt.ylabel('Class Name Slash Count')\n",
      "plt.xlabel('')\n",
      "plt.title('')\n",
      "plt.suptitle('')"
     ],
     "language": "python",
     "metadata": {},
     "outputs": [
      {
       "metadata": {},
       "output_type": "pyout",
       "prompt_number": 160,
       "text": [
        "<matplotlib.text.Text at 0x12b64ee10>"
       ]
      },
      {
       "metadata": {},
       "output_type": "display_data",
       "png": "[encoded data removed]",
       "text": [
        "<matplotlib.figure.Figure at 0x12b7dc590>"
       ]
      }
     ],
     "prompt_number": 160
    },
    {
     "cell_type": "code",
     "collapsed": false,
     "input": [
      "df.boxplot('class_name_lowercase_run_longest', 'label')\n",
      "plt.ylabel('Max Run of Lower Case Letters')\n",
      "plt.xlabel('')\n",
      "plt.title('')\n",
      "plt.suptitle('')"
     ],
     "language": "python",
     "metadata": {},
     "outputs": [
      {
       "metadata": {},
       "output_type": "pyout",
       "prompt_number": 161,
       "text": [
        "<matplotlib.text.Text at 0x11278b750>"
       ]
      },
      {
       "metadata": {},
       "output_type": "display_data",
       "png": "[encoded data removed]",
       "text": [
        "<matplotlib.figure.Figure at 0x12b650490>"
       ]
      }
     ],
     "prompt_number": 161
    },
    {
     "cell_type": "code",
     "collapsed": false,
     "input": [
      "df.boxplot('class_name_lowercase_run_avg', 'label')\n",
      "plt.ylabel('Avg Run of Lower Case Letters')\n",
      "plt.xlabel('')\n",
      "plt.title('')\n",
      "plt.suptitle('')"
     ],
     "language": "python",
     "metadata": {},
     "outputs": [
      {
       "metadata": {},
       "output_type": "pyout",
       "prompt_number": 162,
       "text": [
        "<matplotlib.text.Text at 0x1127ce7d0>"
       ]
      },
      {
       "metadata": {},
       "output_type": "display_data",
       "png": "[encoded data removed]",
       "text": [
        "<matplotlib.figure.Figure at 0x112791b50>"
       ]
      }
     ],
     "prompt_number": 162
    },
    {
     "cell_type": "code",
     "collapsed": false,
     "input": [
      "import sklearn.ensemble\n",
      "from sklearn.metrics import confusion_matrix\n",
      "from sklearn.cross_validation import train_test_split\n",
      "\n",
      "clf_all = sklearn.ensemble.RandomForestClassifier(n_estimators=75)\n",
      "all_features = ['acc_abstract', 'acc_annotation', 'acc_enum', 'acc_final', 'acc_interface',\n",
      "                    'acc_public', 'acc_super', 'acc_synthetic', 'ap_count', 'constant_pool_count',\n",
      "                    'entropy', 'interface_count', 'major version', 'methods_count',\n",
      "                    'size', 'minor version',\n",
      "                    'method_name_digit_run_avg', 'method_name_digit_run_longest',\n",
      "                    'method_name_lowercase_run_avg', 'method_name_lowercase_run_longest',\n",
      "                    'method_name_uppercase_run_avg', 'method_name_uppercase_run_longest',\n",
      "                    'class_name_digit_run_avg', 'class_name_digit_run_longest',\n",
      "                    'class_name_length', 'class_name_lowercase_run_avg',\n",
      "                    'class_name_lowercase_run_longest', 'class_name_slash_count',\n",
      "                    'class_name_uppercase_run_avg', 'class_name_uppercase_run_longest']                \n",
      "\n",
      "X = df.as_matrix(all_features)\n",
      "y = np.array(df['label'].tolist())\n",
      "labels = ['good', 'bad']\n",
      "\n",
      "scores = sklearn.cross_validation.cross_val_score(clf_all, X, y, cv=10)\n",
      "print(\"Accuracy: %0.3f (+/- %0.3f)\" % (scores.mean(), scores.std() * 2))"
     ],
     "language": "python",
     "metadata": {},
     "outputs": [
      {
       "output_type": "stream",
       "stream": "stdout",
       "text": [
        "Accuracy: 0.993 (+/- 0.018)\n"
       ]
      }
     ],
     "prompt_number": 163
    },
    {
     "cell_type": "markdown",
     "metadata": {},
     "source": [
      "#### Finally some significant improvment."
     ]
    },
    {
     "cell_type": "code",
     "collapsed": false,
     "input": [
      "import sklearn.ensemble\n",
      "from sklearn.metrics import confusion_matrix\n",
      "from sklearn.cross_validation import train_test_split\n",
      "\n",
      "# 80/20 Split for predictive test\n",
      "X_train, X_test, y_train, y_test = train_test_split(X, y, test_size=0.2)\n",
      "clf_all.fit(X_train, y_train)\n",
      "y_pred = clf_all.predict(X_test)\n",
      "labels = ['benign', 'malicious']\n",
      "cm = confusion_matrix(y_test, y_pred, labels)\n",
      "plot_cm(cm, labels)"
     ],
     "language": "python",
     "metadata": {},
     "outputs": [
      {
       "output_type": "stream",
       "stream": "stdout",
       "text": [
        "Confusion Matrix Stats\n",
        "benign/benign: 97.06% (99/102)\n",
        "benign/malicious: 2.94% (3/102)\n",
        "malicious/benign: 0.00% (0/102)\n",
        "malicious/malicious: 100.00% (102/102)\n"
       ]
      },
      {
       "metadata": {},
       "output_type": "display_data",
       "png": "[encoded data removed]",
       "text": [
        "<matplotlib.figure.Figure at 0x11b72bcd0>"
       ]
      }
     ],
     "prompt_number": 172
    },
    {
     "cell_type": "markdown",
     "metadata": {},
     "source": [
      "#### One of the features of the classifier is the ability to give a probability that the feature set belongs to a specific class.  In the code below, we are asking the classifier to give us the probability the feature set (file) belongs to the malicious class and only marking the file as malicious if 80% of the trees declare it malicious."
     ]
    },
    {
     "cell_type": "code",
     "collapsed": false,
     "input": [
      "y_probs = clf_all.predict_proba(X_test)[:,1]\n",
      "thres = .80 # This can be set to whatever you'd like\n",
      "y_pred[y_probs>thres] = 'malicious'\n",
      "y_pred[y_probs<=thres] = 'benign'\n",
      "cm = confusion_matrix(y_test, y_pred, labels)\n",
      "plot_cm(cm, labels)"
     ],
     "language": "python",
     "metadata": {},
     "outputs": [
      {
       "output_type": "stream",
       "stream": "stdout",
       "text": [
        "Confusion Matrix Stats\n",
        "benign/benign: 99.02% (101/102)\n",
        "benign/malicious: 0.98% (1/102)\n",
        "malicious/benign: 2.94% (3/102)\n",
        "malicious/malicious: 97.06% (99/102)\n"
       ]
      },
      {
       "metadata": {},
       "output_type": "display_data",
       "png": "[encoded data removed]",
       "text": [
        "<matplotlib.figure.Figure at 0x11b5fb6d0>"
       ]
      }
     ],
     "prompt_number": 173
    },
    {
     "cell_type": "code",
     "collapsed": false,
     "input": [
      "#### We do the same, but set the threshold lower, to only 20%"
     ],
     "language": "python",
     "metadata": {},
     "outputs": [],
     "prompt_number": 9
    },
    {
     "cell_type": "code",
     "collapsed": false,
     "input": [
      "y_probs = clf_all.predict_proba(X_test)[:,1]\n",
      "thres = .20 # This can be set to whatever you'd like\n",
      "y_pred[y_probs>thres] = 'malicious'\n",
      "y_pred[y_probs<=thres] = 'benign'\n",
      "cm = confusion_matrix(y_test, y_pred, labels)\n",
      "plot_cm(cm, labels)"
     ],
     "language": "python",
     "metadata": {},
     "outputs": [
      {
       "output_type": "stream",
       "stream": "stdout",
       "text": [
        "Confusion Matrix Stats\n",
        "benign/benign: 95.10% (97/102)\n",
        "benign/malicious: 4.90% (5/102)\n",
        "malicious/benign: 0.00% (0/102)\n",
        "malicious/malicious: 100.00% (102/102)\n"
       ]
      },
      {
       "metadata": {},
       "output_type": "display_data",
       "png": "[encoded data removed]",
       "text": [
        "<matplotlib.figure.Figure at 0x11b738690>"
       ]
      }
     ],
     "prompt_number": 174
    },
    {
     "cell_type": "markdown",
     "metadata": {},
     "source": [
      "#### You can see that we still get good results even when modifying the threshold level.  When we plot the scores, we see that most of the scores are either near 0 or 1.  This indicates that the classifier is confident about most of the labels."
     ]
    },
    {
     "cell_type": "code",
     "collapsed": false,
     "input": [
      "scores = clf_all.predict_proba(X_test)[:,1]\n",
      "plt.hist(scores, bins=20)\n",
      "plt.grid(True)\n",
      "plt.show()"
     ],
     "language": "python",
     "metadata": {},
     "outputs": [
      {
       "metadata": {},
       "output_type": "display_data",
       "png": "[encoded data removed]",
       "text": [
        "<matplotlib.figure.Figure at 0x11b977ad0>"
       ]
      }
     ],
     "prompt_number": 175
    },
    {
     "cell_type": "markdown",
     "metadata": {},
     "source": [
      "#### We ask the classifier to tell the importance again, and we see the features extracted from the class name now totally dominate the classifier.  On one hand, we got great results with this classifier, on the other, we see that is almost completely reliant on one major feature of the file."
     ]
    },
    {
     "cell_type": "code",
     "collapsed": false,
     "input": [
      "importances = zip(all_features, clf_all.feature_importances_)\n",
      "importances.sort(key=lambda k:k[1], reverse=True)\n",
      "sum = 0\n",
      "for idx, im in enumerate(importances):\n",
      "    sum += round(im[1], 5)\n",
      "    print (str(idx+1) + ':').ljust(4), im[0].ljust(35), round(im[1], 5), sum"
     ],
     "language": "python",
     "metadata": {},
     "outputs": [
      {
       "output_type": "stream",
       "stream": "stdout",
       "text": [
        "1:   class_name_slash_count              0.31448 0.31448\n",
        "2:   class_name_length                   0.28798 0.60246\n",
        "3:   class_name_lowercase_run_longest    0.08185 0.68431\n",
        "4:   entropy                             0.06346 0.74777\n",
        "5:   class_name_lowercase_run_avg        0.06043 0.8082\n",
        "6:   constant_pool_count                 0.03532 0.84352\n",
        "7:   size                                0.02862 0.87214\n",
        "8:   class_name_uppercase_run_longest    0.02839 0.90053\n",
        "9:   class_name_uppercase_run_avg        0.02537 0.9259\n",
        "10:  method_name_lowercase_run_avg       0.01137 0.93727\n",
        "11:  interface_count                     0.01073 0.948\n",
        "12:  class_name_digit_run_avg            0.00947 0.95747\n",
        "13:  method_name_lowercase_run_longest   0.00751 0.96498\n",
        "14:  acc_public                          0.00604 0.97102\n",
        "15:  methods_count                       0.00509 0.97611\n",
        "16:  method_name_uppercase_run_longest   0.00459 0.9807\n",
        "17:  ap_count                            0.0039 0.9846\n",
        "18:  class_name_digit_run_longest        0.00336 0.98796\n",
        "19:  major version                       0.00286 0.99082\n",
        "20:  method_name_uppercase_run_avg       0.00277 0.99359\n",
        "21:  acc_abstract                        0.00181 0.9954\n",
        "22:  method_name_digit_run_avg           0.00148 0.99688\n",
        "23:  acc_final                           0.00105 0.99793\n",
        "24:  method_name_digit_run_longest       0.00103 0.99896\n",
        "25:  minor version                       0.00054 0.9995\n",
        "26:  acc_interface                       0.0005 1.0\n",
        "27:  acc_super                           1e-05 1.00001\n",
        "28:  acc_annotation                      0.0 1.00001\n",
        "29:  acc_enum                            0.0 1.00001\n",
        "30:  acc_synthetic                       0.0 1.00001\n"
       ]
      }
     ],
     "prompt_number": 176
    },
    {
     "cell_type": "markdown",
     "metadata": {},
     "source": [
      "###Using a different classifier\n",
      "<font size=3>\n",
      "Let's try a different classifier: Extra Trees Classifier (like RandomForest, but even more random).<br>\n",
      "http://scikit-learn.org/stable/modules/generated/sklearn.ensemble.ExtraTreesClassifier.html\n"
     ]
    },
    {
     "cell_type": "code",
     "collapsed": false,
     "input": [
      "clf_er = sklearn.ensemble.ExtraTreesClassifier(n_estimators=50)\n",
      "X_er = df.as_matrix(all_features)\n",
      "y_er = np.array(df['label'].tolist())\n",
      "labels = ['benign', 'malicious']\n",
      "\n",
      "scores = sklearn.cross_validation.cross_val_score(clf_er, X_er, y_er, cv=10)\n",
      "print(\"Accuracy: %0.3f (+/- %0.3f)\" % (scores.mean(), scores.std() * 2))"
     ],
     "language": "python",
     "metadata": {},
     "outputs": [
      {
       "output_type": "stream",
       "stream": "stdout",
       "text": [
        "Accuracy: 0.997 (+/- 0.013)\n"
       ]
      }
     ],
     "prompt_number": 179
    },
    {
     "cell_type": "code",
     "collapsed": false,
     "input": [
      "# 80/20 Split for predictive test\n",
      "X_train, X_test, y_train, y_test = train_test_split(X_er, y_er, test_size=my_tsize, random_state=my_seed)\n",
      "clf_er.fit(X_train, y_train)\n",
      "y_pred = clf_er.predict(X_test)\n",
      "cm = confusion_matrix(y_test, y_pred, labels)\n",
      "plot_cm(cm, labels)"
     ],
     "language": "python",
     "metadata": {},
     "outputs": [
      {
       "output_type": "stream",
       "stream": "stdout",
       "text": [
        "Confusion Matrix Stats\n",
        "benign/benign: 100.00% (90/90)\n",
        "benign/malicious: 0.00% (0/90)\n",
        "malicious/benign: 0.00% (0/114)\n",
        "malicious/malicious: 100.00% (114/114)\n"
       ]
      },
      {
       "metadata": {},
       "output_type": "display_data",
       "png": "[encoded data removed]",
       "text": [
        "<matplotlib.figure.Figure at 0x11b869b10>"
       ]
      }
     ],
     "prompt_number": 180
    },
    {
     "cell_type": "code",
     "collapsed": false,
     "input": [
      "import sklearn.svm\n",
      "import sklearn.preprocessing\n",
      "clf_svc = sklearn.svm.SVC()\n",
      "X_svc = df.as_matrix(all_features)\n",
      "X_svc = sklearn.preprocessing.scale(X_svc)\n",
      "y_svc = np.array(df['label'].tolist())\n",
      "labels = ['benign', 'malicious']\n",
      "\n",
      "scores = sklearn.cross_validation.cross_val_score(clf_svc, X_svc, y_svc, cv=10)\n",
      "print(\"Accuracy: %0.3f (+/- %0.3f)\" % (scores.mean(), scores.std() * 2))"
     ],
     "language": "python",
     "metadata": {},
     "outputs": [
      {
       "output_type": "stream",
       "stream": "stdout",
       "text": [
        "Accuracy: 0.993 (+/- 0.015)\n"
       ]
      }
     ],
     "prompt_number": 181
    },
    {
     "cell_type": "code",
     "collapsed": false,
     "input": [
      "# 80/20 Split for predictive test\n",
      "X_train, X_test, y_train, y_test = train_test_split(X_svc, y_svc, test_size=my_tsize, random_state=my_seed)\n",
      "clf_svc.fit(X_train, y_train)\n",
      "y_pred = clf_svc.predict(X_test)\n",
      "cm = confusion_matrix(y_test, y_pred, labels)\n",
      "plot_cm(cm, labels)"
     ],
     "language": "python",
     "metadata": {},
     "outputs": [
      {
       "output_type": "stream",
       "stream": "stdout",
       "text": [
        "Confusion Matrix Stats\n",
        "benign/benign: 98.89% (89/90)\n",
        "benign/malicious: 1.11% (1/90)\n",
        "malicious/benign: 0.00% (0/114)\n",
        "malicious/malicious: 100.00% (114/114)\n"
       ]
      },
      {
       "metadata": {},
       "output_type": "display_data",
       "png": "[encoded data removed]",
       "text": [
        "<matplotlib.figure.Figure at 0x1136e4b50>"
       ]
      }
     ],
     "prompt_number": 182
    },
    {
     "cell_type": "code",
     "collapsed": false,
     "input": [
      "# Now we can use scikit learn's cross validation to assess predictive performance.\n",
      "scores = sklearn.cross_validation.cross_val_score(clf_all, X_all, y_all, cv=20)\n",
      "print(\"Accuracy: %0.3f (+/- %0.3f)\" % (scores.mean(), scores.std() * 2))"
     ],
     "language": "python",
     "metadata": {},
     "outputs": [
      {
       "output_type": "stream",
       "stream": "stdout",
       "text": [
        "Accuracy: 0.992 (+/- 0.029)\n"
       ]
      }
     ],
     "prompt_number": 183
    },
    {
     "cell_type": "code",
     "collapsed": false,
     "input": [
      "# Now we can use scikit learn's cross validation to assess predictive performance.\n",
      "scores = sklearn.cross_validation.cross_val_score(clf_er, X_er, y_er, cv=20)\n",
      "print(\"Accuracy: %0.3f (+/- %0.3f)\" % (scores.mean(), scores.std() * 2))"
     ],
     "language": "python",
     "metadata": {},
     "outputs": [
      {
       "output_type": "stream",
       "stream": "stdout",
       "text": [
        "Accuracy: 0.995 (+/- 0.017)\n"
       ]
      }
     ],
     "prompt_number": 184
    },
    {
     "cell_type": "markdown",
     "metadata": {},
     "source": [
      "### Testing on a large corpus of files\n",
      "\n",
      "#### In the next couple steps, we train a classifier on all the data, and then test it on approximately 366K files.  This data is not labeled, but I would expect them all to be benign.  Maybe a few malicious ones, but a small number."
     ]
    },
    {
     "cell_type": "code",
     "collapsed": false,
     "input": [
      "clf_everything = sklearn.ensemble.RandomForestClassifier(n_estimators=50)\n",
      "all_features = ['acc_abstract', 'acc_annotation', 'acc_enum', 'acc_final', 'acc_interface',\n",
      "                    'acc_public', 'acc_super', 'acc_synthetic', 'ap_count', 'constant_pool_count',\n",
      "                    'entropy', 'size', 'interface_count', 'major version', 'methods_count', 'minor version',\n",
      "                    'method_name_digit_run_avg', 'method_name_digit_run_longest',\n",
      "                    'method_name_lowercase_run_avg', 'method_name_lowercase_run_longest',\n",
      "                    'method_name_uppercase_run_avg', 'method_name_uppercase_run_longest',\n",
      "                    'class_name_digit_run_avg', 'class_name_digit_run_longest',\n",
      "                    'class_name_length', 'class_name_lowercase_run_avg',\n",
      "                    'class_name_lowercase_run_longest', 'class_name_slash_count',\n",
      "                    'class_name_uppercase_run_avg', 'class_name_uppercase_run_longest'] \n",
      "\n",
      "X_all = df.as_matrix(all_features)\n",
      "y_all = np.array(df['label'].tolist())\n",
      "\n",
      "clf_everything.fit(X_all, y_all)"
     ],
     "language": "python",
     "metadata": {},
     "outputs": [
      {
       "metadata": {},
       "output_type": "pyout",
       "prompt_number": 185,
       "text": [
        "RandomForestClassifier(bootstrap=True, compute_importances=None,\n",
        "            criterion='gini', max_depth=None, max_features='auto',\n",
        "            min_density=None, min_samples_leaf=1, min_samples_split=2,\n",
        "            n_estimators=50, n_jobs=1, oob_score=False, random_state=None,\n",
        "            verbose=0)"
       ]
      }
     ],
     "prompt_number": 185
    },
    {
     "cell_type": "code",
     "collapsed": false,
     "input": [
      "java_big_pile_df = pd.read_hdf('data/java_clean_df.hd5', 'table')"
     ],
     "language": "python",
     "metadata": {},
     "outputs": [
      {
       "output_type": "stream",
       "stream": "stderr",
       "text": [
        "/opt/visiblerisk/lib/python2.7/site-packages/pandas/io/pytables.py:520: DeprecationWarning: openFile() is pending deprecation, use open_file() instead. You may use the pt2to3 tool to update your source code.\n",
        "  self._handle = tables.openFile(self._path, self._mode, **kwargs)\n",
        "/opt/visiblerisk/lib/python2.7/site-packages/pandas/io/pytables.py:1017: DeprecationWarning: getNode() is pending deprecation, use get_node() instead. You may use the pt2to3 tool to update your source code.\n",
        "  return self._handle.getNode(self.root, key)\n"
       ]
      }
     ],
     "prompt_number": 190
    },
    {
     "cell_type": "markdown",
     "metadata": {},
     "source": [
      "#### Again, one of the features of the classifier is the ability to give a probability that the feature set belongs to a specific class.  In the code below, we are asking the classifier to give us the probability the feature set (file) belongs to the malicious class.  We interpret these results as anything less the 0.5 is benign, 0.5 - 0.8 is a gray area, and 0.8 and above is malicious."
     ]
    },
    {
     "cell_type": "code",
     "collapsed": false,
     "input": [
      "clean = 0\n",
      "gray = 0\n",
      "bad = 0\n",
      "for x in java_big_pile_df.as_matrix(all_features):\n",
      "    try:\n",
      "        score = clf_everything.predict_proba(x)[:,1][0]\n",
      "        if score < 0.5:\n",
      "            clean += 1\n",
      "        elif score < 0.8:\n",
      "            gray += 1\n",
      "        else:\n",
      "            bad += 1\n",
      "    except:\n",
      "        print \"Sad\"\n",
      "        print x\n",
      "        break\n",
      "\n",
      "print java_big_pile_df.shape\n",
      "print clean\n",
      "print gray\n",
      "print bad"
     ],
     "language": "python",
     "metadata": {},
     "outputs": [
      {
       "output_type": "stream",
       "stream": "stdout",
       "text": [
        "['acc_abstract', 'acc_annotation', 'acc_enum', 'acc_final', 'acc_interface', 'acc_public', 'acc_super', 'acc_synthetic', 'ap_count', 'constant_pool_count', 'entropy', 'size', 'interface_count', 'major version', 'methods_count', 'minor version', 'method_name_digit_run_avg', 'method_name_digit_run_longest', 'method_name_lowercase_run_avg', 'method_name_lowercase_run_longest', 'method_name_uppercase_run_avg', 'method_name_uppercase_run_longest', 'class_name_digit_run_avg', 'class_name_digit_run_longest', 'class_name_length', 'class_name_lowercase_run_avg', 'class_name_lowercase_run_longest', 'class_name_slash_count', 'class_name_uppercase_run_avg', 'class_name_uppercase_run_longest']\n",
        "(366341, 35)"
       ]
      },
      {
       "output_type": "stream",
       "stream": "stdout",
       "text": [
        "\n",
        "339771\n",
        "10971\n",
        "15599\n"
       ]
      }
     ],
     "prompt_number": 191
    },
    {
     "cell_type": "markdown",
     "metadata": {},
     "source": [
      "#### Wow.  That looks mostly horrible.  We did only start with 500 files of each, maybe more training data will help.  We expand to about 2,000 malicious files and 2,000 benign files.  We randomly select 2000 files from the large corpus as label them as benign."
     ]
    },
    {
     "cell_type": "code",
     "collapsed": false,
     "input": [
      "java_more_bad_df = pd.read_hdf('data/java_malicious_df.hd5', 'table')"
     ],
     "language": "python",
     "metadata": {},
     "outputs": [
      {
       "output_type": "stream",
       "stream": "stderr",
       "text": [
        "/opt/visiblerisk/lib/python2.7/site-packages/pandas/io/pytables.py:520: DeprecationWarning: openFile() is pending deprecation, use open_file() instead. You may use the pt2to3 tool to update your source code.\n",
        "  self._handle = tables.openFile(self._path, self._mode, **kwargs)\n",
        "/opt/visiblerisk/lib/python2.7/site-packages/pandas/io/pytables.py:1017: DeprecationWarning: getNode() is pending deprecation, use get_node() instead. You may use the pt2to3 tool to update your source code.\n",
        "  return self._handle.getNode(self.root, key)\n"
       ]
      }
     ],
     "prompt_number": 219
    },
    {
     "cell_type": "code",
     "collapsed": false,
     "input": [
      "java_big_pile_df.head()"
     ],
     "language": "python",
     "metadata": {},
     "outputs": [
      {
       "html": [
        "<div style=\"max-height:1000px;max-width:1500px;overflow:auto;\">\n",
        "<table border=\"1\" class=\"dataframe\">\n",
        "  <thead>\n",
        "    <tr style=\"text-align: right;\">\n",
        "      <th></th>\n",
        "      <th>acc_abstract</th>\n",
        "      <th>acc_annotation</th>\n",
        "      <th>acc_enum</th>\n",
        "      <th>acc_final</th>\n",
        "      <th>acc_interface</th>\n",
        "      <th>acc_public</th>\n",
        "      <th>acc_super</th>\n",
        "      <th>acc_synthetic</th>\n",
        "      <th>ap_count</th>\n",
        "      <th>attributes count</th>\n",
        "      <th>class name</th>\n",
        "      <th>class_name_digit_run_avg</th>\n",
        "      <th>class_name_digit_run_longest</th>\n",
        "      <th>class_name_length</th>\n",
        "      <th>class_name_lowercase_run_avg</th>\n",
        "      <th>class_name_lowercase_run_longest</th>\n",
        "      <th>class_name_slash_count</th>\n",
        "      <th>class_name_uppercase_run_avg</th>\n",
        "      <th>class_name_uppercase_run_longest</th>\n",
        "      <th>constant_pool_count</th>\n",
        "      <th></th>\n",
        "    </tr>\n",
        "  </thead>\n",
        "  <tbody>\n",
        "    <tr>\n",
        "      <th>0</th>\n",
        "      <td> 0</td>\n",
        "      <td> 0</td>\n",
        "      <td> 0</td>\n",
        "      <td> 0</td>\n",
        "      <td> 0</td>\n",
        "      <td> 1</td>\n",
        "      <td> 1</td>\n",
        "      <td> 0</td>\n",
        "      <td> 2</td>\n",
        "      <td> 1</td>\n",
        "      <td>     com/jidesoft/combobox/DateChooserPanel</td>\n",
        "      <td> 0</td>\n",
        "      <td> 0</td>\n",
        "      <td> 38</td>\n",
        "      <td> 5.333333</td>\n",
        "      <td> 8</td>\n",
        "      <td> 3</td>\n",
        "      <td> 1</td>\n",
        "      <td> 1</td>\n",
        "      <td> 1037</td>\n",
        "      <td>...</td>\n",
        "    </tr>\n",
        "    <tr>\n",
        "      <th>1</th>\n",
        "      <td> 1</td>\n",
        "      <td> 0</td>\n",
        "      <td> 0</td>\n",
        "      <td> 0</td>\n",
        "      <td> 1</td>\n",
        "      <td> 1</td>\n",
        "      <td> 0</td>\n",
        "      <td> 0</td>\n",
        "      <td> 3</td>\n",
        "      <td> 0</td>\n",
        "      <td>             org/jmol/modelset/BondIterator</td>\n",
        "      <td> 0</td>\n",
        "      <td> 0</td>\n",
        "      <td> 30</td>\n",
        "      <td> 5.000000</td>\n",
        "      <td> 8</td>\n",
        "      <td> 3</td>\n",
        "      <td> 1</td>\n",
        "      <td> 1</td>\n",
        "      <td>   11</td>\n",
        "      <td>...</td>\n",
        "    </tr>\n",
        "    <tr>\n",
        "      <th>2</th>\n",
        "      <td> 0</td>\n",
        "      <td> 0</td>\n",
        "      <td> 0</td>\n",
        "      <td> 0</td>\n",
        "      <td> 0</td>\n",
        "      <td> 1</td>\n",
        "      <td> 1</td>\n",
        "      <td> 0</td>\n",
        "      <td> 2</td>\n",
        "      <td> 2</td>\n",
        "      <td> org/hibernate/engine/query/ParameterParser</td>\n",
        "      <td> 0</td>\n",
        "      <td> 0</td>\n",
        "      <td> 42</td>\n",
        "      <td> 6.000000</td>\n",
        "      <td> 9</td>\n",
        "      <td> 4</td>\n",
        "      <td> 1</td>\n",
        "      <td> 1</td>\n",
        "      <td>  152</td>\n",
        "      <td>...</td>\n",
        "    </tr>\n",
        "    <tr>\n",
        "      <th>3</th>\n",
        "      <td> 0</td>\n",
        "      <td> 0</td>\n",
        "      <td> 0</td>\n",
        "      <td> 0</td>\n",
        "      <td> 0</td>\n",
        "      <td> 1</td>\n",
        "      <td> 1</td>\n",
        "      <td> 0</td>\n",
        "      <td> 2</td>\n",
        "      <td> 1</td>\n",
        "      <td>                 com/intellij/updater/Utils</td>\n",
        "      <td> 0</td>\n",
        "      <td> 0</td>\n",
        "      <td> 26</td>\n",
        "      <td> 5.500000</td>\n",
        "      <td> 8</td>\n",
        "      <td> 3</td>\n",
        "      <td> 1</td>\n",
        "      <td> 1</td>\n",
        "      <td>  330</td>\n",
        "      <td>...</td>\n",
        "    </tr>\n",
        "    <tr>\n",
        "      <th>4</th>\n",
        "      <td> 0</td>\n",
        "      <td> 0</td>\n",
        "      <td> 0</td>\n",
        "      <td> 0</td>\n",
        "      <td> 0</td>\n",
        "      <td> 1</td>\n",
        "      <td> 1</td>\n",
        "      <td> 0</td>\n",
        "      <td> 2</td>\n",
        "      <td> 1</td>\n",
        "      <td>        com/kiwisoft/db/driver/SybaseDriver</td>\n",
        "      <td> 0</td>\n",
        "      <td> 0</td>\n",
        "      <td> 35</td>\n",
        "      <td> 4.833333</td>\n",
        "      <td> 8</td>\n",
        "      <td> 4</td>\n",
        "      <td> 1</td>\n",
        "      <td> 1</td>\n",
        "      <td>  151</td>\n",
        "      <td>...</td>\n",
        "    </tr>\n",
        "  </tbody>\n",
        "</table>\n",
        "<p>5 rows \u00d7 35 columns</p>\n",
        "</div>"
       ],
       "metadata": {},
       "output_type": "pyout",
       "prompt_number": 220,
       "text": [
        "   acc_abstract  acc_annotation  acc_enum  acc_final  acc_interface  \\\n",
        "0             0               0         0          0              0   \n",
        "1             1               0         0          0              1   \n",
        "2             0               0         0          0              0   \n",
        "3             0               0         0          0              0   \n",
        "4             0               0         0          0              0   \n",
        "\n",
        "   acc_public  acc_super  acc_synthetic  ap_count  attributes count  \\\n",
        "0           1          1              0         2                 1   \n",
        "1           1          0              0         3                 0   \n",
        "2           1          1              0         2                 2   \n",
        "3           1          1              0         2                 1   \n",
        "4           1          1              0         2                 1   \n",
        "\n",
        "                                   class name  class_name_digit_run_avg  \\\n",
        "0      com/jidesoft/combobox/DateChooserPanel                         0   \n",
        "1              org/jmol/modelset/BondIterator                         0   \n",
        "2  org/hibernate/engine/query/ParameterParser                         0   \n",
        "3                  com/intellij/updater/Utils                         0   \n",
        "4         com/kiwisoft/db/driver/SybaseDriver                         0   \n",
        "\n",
        "   class_name_digit_run_longest  class_name_length  \\\n",
        "0                             0                 38   \n",
        "1                             0                 30   \n",
        "2                             0                 42   \n",
        "3                             0                 26   \n",
        "4                             0                 35   \n",
        "\n",
        "   class_name_lowercase_run_avg  class_name_lowercase_run_longest  \\\n",
        "0                      5.333333                                 8   \n",
        "1                      5.000000                                 8   \n",
        "2                      6.000000                                 9   \n",
        "3                      5.500000                                 8   \n",
        "4                      4.833333                                 8   \n",
        "\n",
        "   class_name_slash_count  class_name_uppercase_run_avg  \\\n",
        "0                       3                             1   \n",
        "1                       3                             1   \n",
        "2                       4                             1   \n",
        "3                       3                             1   \n",
        "4                       4                             1   \n",
        "\n",
        "   class_name_uppercase_run_longest  constant_pool_count      \n",
        "0                                 1                 1037 ...  \n",
        "1                                 1                   11 ...  \n",
        "2                                 1                  152 ...  \n",
        "3                                 1                  330 ...  \n",
        "4                                 1                  151 ...  \n",
        "\n",
        "[5 rows x 35 columns]"
       ]
      }
     ],
     "prompt_number": 220
    },
    {
     "cell_type": "code",
     "collapsed": false,
     "input": [
      "java_big_pile_df['class_name_length'].describe()"
     ],
     "language": "python",
     "metadata": {},
     "outputs": [
      {
       "metadata": {},
       "output_type": "pyout",
       "prompt_number": 221,
       "text": [
        "count    366341.000000\n",
        "mean         48.081181\n",
        "std          19.812234\n",
        "min           1.000000\n",
        "25%          36.000000\n",
        "50%          47.000000\n",
        "75%          61.000000\n",
        "max         161.000000\n",
        "Name: class_name_length, dtype: float64"
       ]
      }
     ],
     "prompt_number": 221
    },
    {
     "cell_type": "markdown",
     "metadata": {},
     "source": [
      "Randomize list"
     ]
    },
    {
     "cell_type": "code",
     "collapsed": false,
     "input": [
      "java_random_df = java_big_pile_df.reindex(np.random.permutation(java_big_pile_df.index))\n",
      "java_random_2k_df = java_random_df[0:2000]\n",
      "java_random_the_rest_df = java_random_df[2000:]"
     ],
     "language": "python",
     "metadata": {},
     "outputs": [],
     "prompt_number": 239
    },
    {
     "cell_type": "code",
     "collapsed": false,
     "input": [
      "java_random_2k_df['label'] = 'benign'"
     ],
     "language": "python",
     "metadata": {},
     "outputs": [],
     "prompt_number": 240
    },
    {
     "cell_type": "code",
     "collapsed": false,
     "input": [
      "java_more_bad_df['label'] = 'malicious'"
     ],
     "language": "python",
     "metadata": {},
     "outputs": [],
     "prompt_number": 241
    },
    {
     "cell_type": "code",
     "collapsed": false,
     "input": [
      "java_4k_df = pd.concat([java_more_bad_df, java_random_2k_df], ignore_index=True)\n",
      "java_4k_df.fillna(0, inplace=True)"
     ],
     "language": "python",
     "metadata": {},
     "outputs": [],
     "prompt_number": 242
    },
    {
     "cell_type": "code",
     "collapsed": false,
     "input": [
      "clf_4k = sklearn.ensemble.RandomForestClassifier(n_estimators=75)\n",
      "all_features = ['acc_abstract', 'acc_annotation', 'acc_enum', 'acc_final', 'acc_interface',\n",
      "                'acc_public', 'acc_super', 'acc_synthetic', 'ap_count',\n",
      "                'class_name_digit_run_avg', 'class_name_digit_run_longest',\n",
      "                'class_name_length', 'class_name_lowercase_run_avg',\n",
      "                'class_name_lowercase_run_longest', 'class_name_slash_count',\n",
      "                'class_name_uppercase_run_avg', 'class_name_uppercase_run_longest',\n",
      "                'constant_pool_count', 'entropy', 'interface_count', 'major version',\n",
      "                'method_name_digit_run_avg', 'method_name_digit_run_longest',\n",
      "                'method_name_lowercase_run_avg', 'method_name_lowercase_run_longest',\n",
      "                'method_name_uppercase_run_avg', 'method_name_uppercase_run_longest',\n",
      "                'methods_count', 'minor version', 'size']\n",
      "\n",
      "X = java_4k_df.as_matrix(all_features)\n",
      "y = np.array(java_4k_df['label'].tolist())\n",
      "\n",
      "scores = sklearn.cross_validation.cross_val_score(clf_4k, X, y, cv=10)\n",
      "print(\"Accuracy: %0.3f (+/- %0.3f)\" % (scores.mean(), scores.std() * 2))"
     ],
     "language": "python",
     "metadata": {},
     "outputs": [
      {
       "output_type": "stream",
       "stream": "stdout",
       "text": [
        "Accuracy: 0.989 (+/- 0.008)\n"
       ]
      }
     ],
     "prompt_number": 243
    },
    {
     "cell_type": "markdown",
     "metadata": {},
     "source": [
      "#### Testing out this new classifier still shows us good results."
     ]
    },
    {
     "cell_type": "code",
     "collapsed": false,
     "input": [
      "import sklearn.ensemble\n",
      "from sklearn.metrics import confusion_matrix\n",
      "from sklearn.cross_validation import train_test_split\n",
      "\n",
      "# 80/20 Split for predictive test\n",
      "X_train, X_test, y_train, y_test = train_test_split(X, y, test_size=0.2)\n",
      "clf_4k.fit(X_train, y_train)\n",
      "y_pred = clf_4k.predict(X_test)\n",
      "labels = ['benign', 'malicious']\n",
      "cm = confusion_matrix(y_test, y_pred, labels)\n",
      "plot_cm(cm, labels)"
     ],
     "language": "python",
     "metadata": {},
     "outputs": [
      {
       "output_type": "stream",
       "stream": "stdout",
       "text": [
        "Confusion Matrix Stats\n",
        "benign/benign: 99.00% (398/402)\n",
        "benign/malicious: 1.00% (4/402)\n",
        "malicious/benign: 0.79% (3/382)\n",
        "malicious/malicious: 99.21% (379/382)\n"
       ]
      },
      {
       "metadata": {},
       "output_type": "display_data",
       "png": "[encoded data removed]",
       "text": [
        "<matplotlib.figure.Figure at 0x1128638d0>"
       ]
      }
     ],
     "prompt_number": 244
    },
    {
     "cell_type": "code",
     "collapsed": false,
     "input": [
      "# Feature Selection\n",
      "# Which features best deferentiated the two classes?\n",
      "# Here we're going to grab the feature_importances from the classifier itself, \n",
      "importances = zip(all_features, clf_4k.feature_importances_)\n",
      "importances.sort(key=lambda k:k[1], reverse=True)\n",
      "sum = 0\n",
      "for idx, im in enumerate(importances):\n",
      "    sum += round(im[1], 5)\n",
      "    print (str(idx+1) + ':').ljust(4), im[0].ljust(35), round(im[1], 5), sum"
     ],
     "language": "python",
     "metadata": {},
     "outputs": [
      {
       "output_type": "stream",
       "stream": "stdout",
       "text": [
        "1:   class_name_slash_count              0.25082 0.25082\n",
        "2:   class_name_length                   0.22822 0.47904\n",
        "3:   entropy                             0.0733 0.55234\n",
        "4:   constant_pool_count                 0.06575 0.61809\n",
        "5:   class_name_uppercase_run_avg        0.06179 0.67988\n",
        "6:   size                                0.05436 0.73424\n",
        "7:   class_name_lowercase_run_longest    0.05158 0.78582\n",
        "8:   class_name_uppercase_run_longest    0.04584 0.83166\n",
        "9:   method_name_lowercase_run_longest   0.03077 0.86243\n",
        "10:  method_name_lowercase_run_avg       0.02461 0.88704\n",
        "11:  class_name_lowercase_run_avg        0.02118 0.90822\n",
        "12:  interface_count                     0.01524 0.92346\n",
        "13:  major version                       0.01305 0.93651\n",
        "14:  method_name_uppercase_run_longest   0.01267 0.94918\n",
        "15:  method_name_uppercase_run_avg       0.01198 0.96116\n",
        "16:  methods_count                       0.01062 0.97178\n",
        "17:  ap_count                            0.00603 0.97781\n",
        "18:  class_name_digit_run_avg            0.00561 0.98342\n",
        "19:  minor version                       0.00547 0.98889\n",
        "20:  acc_public                          0.00262 0.99151\n",
        "21:  acc_abstract                        0.00221 0.99372\n",
        "22:  class_name_digit_run_longest        0.00133 0.99505\n",
        "23:  acc_super                           0.00132 0.99637\n",
        "24:  acc_final                           0.00128 0.99765\n",
        "25:  method_name_digit_run_avg           0.00089 0.99854\n",
        "26:  method_name_digit_run_longest       0.0008 0.99934\n",
        "27:  acc_interface                       0.00065 0.99999\n",
        "28:  acc_annotation                      0.0 0.99999\n",
        "29:  acc_enum                            0.0 0.99999\n",
        "30:  acc_synthetic                       0.0 0.99999\n"
       ]
      }
     ],
     "prompt_number": 245
    },
    {
     "cell_type": "markdown",
     "metadata": {},
     "source": [
      "#### Let's test on the large corpus again."
     ]
    },
    {
     "cell_type": "code",
     "collapsed": false,
     "input": [
      "clf_everything_4k = sklearn.ensemble.RandomForestClassifier(n_estimators=50)\n",
      "\n",
      "X_all = java_4k_df.as_matrix(all_features)\n",
      "y_all = np.array(java_4k_df['label'].tolist())\n",
      "\n",
      "clf_everything_4k.fit(X_all, y_all)"
     ],
     "language": "python",
     "metadata": {},
     "outputs": [
      {
       "metadata": {},
       "output_type": "pyout",
       "prompt_number": 246,
       "text": [
        "RandomForestClassifier(bootstrap=True, compute_importances=None,\n",
        "            criterion='gini', max_depth=None, max_features='auto',\n",
        "            min_density=None, min_samples_leaf=1, min_samples_split=2,\n",
        "            n_estimators=50, n_jobs=1, oob_score=False, random_state=None,\n",
        "            verbose=0)"
       ]
      }
     ],
     "prompt_number": 246
    },
    {
     "cell_type": "code",
     "collapsed": false,
     "input": [
      "clean = 0\n",
      "gray = 0\n",
      "bad = 0\n",
      "X_rest = java_random_the_rest_df.as_matrix(all_features)\n",
      "for x in X_rest:\n",
      "    score = clf_everything_4k.predict_proba(x)[:,1][0]\n",
      "    if score < 0.5:\n",
      "        clean += 1\n",
      "    elif score < 0.8:\n",
      "        gray += 1\n",
      "    else:\n",
      "        bad += 1\n",
      "\n",
      "print java_random_the_rest_df.shape[0]\n",
      "print clean\n",
      "print gray\n",
      "print bad"
     ],
     "language": "python",
     "metadata": {},
     "outputs": [
      {
       "output_type": "stream",
       "stream": "stdout",
       "text": [
        "364341\n",
        "359198\n",
        "3766\n",
        "1377\n"
       ]
      }
     ],
     "prompt_number": 247
    },
    {
     "cell_type": "markdown",
     "metadata": {},
     "source": [
      "#### That's much better.  But still a large number of files in the gray area and marked as malicious.  More than I would expect.  This means we either need more training data, or better features."
     ]
    },
    {
     "cell_type": "code",
     "collapsed": false,
     "input": [],
     "language": "python",
     "metadata": {},
     "outputs": []
    }
   ],
   "metadata": {}
  }
 ]
}