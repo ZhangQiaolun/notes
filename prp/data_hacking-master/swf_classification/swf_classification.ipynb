{
 "metadata": {
  "name": "",
  "signature": "sha256:75b85376676c5998818b628f19bc7882d637e2112f7b5ddb731c76d1cbecd20d"
 },
 "nbformat": 3,
 "nbformat_minor": 0,
 "worksheets": [
  {
   "cells": [
    {
     "cell_type": "markdown",
     "metadata": {},
     "source": [
      "<div style=\"float: right; padding: 20px 0px 0px 20px;\"><img src=\"images/flash.jpg\" width=\"250px\"></div>\n",
      "# SWF Data Analysis\n",
      "<font size=4>In this notebook we're going to explore, understand, and classify shockwave flash files as being 'benign' or 'malicious'.  We will explore the data, apply machine learning algorithms to the data, add new features, do more machine learning.  Then we will test our classifier on a large amount of files to measure it's effectiveness.\n",
      "<br><br>\n",
      "** DISCLAIMER:** This exercise is for illustrative purposes and only uses about 500 samples which is too small for a generalizable model.\n",
      "</font>\n",
      "### References\n",
      "<font size=4>\n",
      "<ul>\n",
      "    <li>http://wwwimages.adobe.com/www.adobe.com/content/dam/Adobe/en/devnet/swf/pdf/swf-file-format-spec.pdf</li>\n",
      "    <li>http://www.adobe.com/content/dam/Adobe/en/devnet/actionscript/articles/avm2overview.pdf</li>\n",
      "</ul>\n",
      "</font>\n",
      "### Python Modules Used:\n",
      "<font size=4>\n",
      "<ul>\n",
      "<li>Pandas: Python Data Analysis Library (http://pandas.pydata.org)\n",
      "<li>Scikit Learn (http://scikit-learn.org) Scikit-learn: Machine Learning in Python, Pedregosa et al., JMLR 12, pp. 2825-2830, 2011.\n",
      "<li>Matplotlib: Python 2D plotting library (http://matplotlib.org)\n",
      "</ul>\n",
      "</font>\n",
      "### IPython Notebook for this talk: http://clicksecurity.github.io/data_hacking\n",
      "<br>"
     ]
    },
    {
     "cell_type": "markdown",
     "metadata": {},
     "source": [
      "### Imports and plot defaults"
     ]
    },
    {
     "cell_type": "code",
     "collapsed": false,
     "input": [
      "import pandas as pd\n",
      "print 'pandas version is', pd.__version__\n",
      "import numpy as np\n",
      "print 'numpy version is', np.__version__\n",
      "import sklearn\n",
      "print 'scikit-learn version is', sklearn.__version__\n",
      "import matplotlib\n",
      "print 'matplotlib version is', matplotlib.__version__\n",
      "import matplotlib.pyplot as plt"
     ],
     "language": "python",
     "metadata": {},
     "outputs": [
      {
       "output_type": "stream",
       "stream": "stdout",
       "text": [
        "pandas version is 0.13.0\n",
        "numpy version is 1.7.1\n",
        "scikit-learn version is 0.14.1\n",
        "matplotlib version is 1.4.1\n"
       ]
      }
     ],
     "prompt_number": 1
    },
    {
     "cell_type": "markdown",
     "metadata": {},
     "source": [
      "### Plotting defaults and helper functions"
     ]
    },
    {
     "cell_type": "code",
     "collapsed": false,
     "input": [
      "%matplotlib inline\n",
      "plt.rcParams['font.size'] = 18.0\n",
      "plt.rcParams['figure.figsize'] = 16.0, 5.0"
     ],
     "language": "python",
     "metadata": {},
     "outputs": [],
     "prompt_number": 2
    },
    {
     "cell_type": "code",
     "collapsed": false,
     "input": [
      "def plot_cm(cm, labels):\n",
      "    # Compute percentanges\n",
      "    percent = (cm*100.0)/np.array(np.matrix(cm.sum(axis=1)).T)\n",
      "    print 'Confusion Matrix Stats'\n",
      "    for i, label_i in enumerate(labels):\n",
      "        for j, label_j in enumerate(labels):\n",
      "            print \"%s/%s: %.2f%% (%d/%d)\" % (label_i, label_j, (percent[i][j]), cm[i][j], cm[i].sum())\n",
      "\n",
      "    # Show confusion matrix\n",
      "    # Thanks to kermit666 from stackoverflow\n",
      "    fig = plt.figure()\n",
      "    ax = fig.add_subplot(111)\n",
      "    ax.grid(b=False)\n",
      "    cax = ax.matshow(percent, cmap='coolwarm',vmin=0,vmax=100)\n",
      "    plt.title('')\n",
      "    fig.colorbar(cax)\n",
      "    ax.set_xticklabels([''] + labels)\n",
      "    ax.set_yticklabels([''] + labels)\n",
      "    plt.xlabel('Predicted')\n",
      "    plt.ylabel('True')\n",
      "    plt.show()"
     ],
     "language": "python",
     "metadata": {},
     "outputs": [],
     "prompt_number": 3
    },
    {
     "cell_type": "markdown",
     "metadata": {},
     "source": [
      "### Function to extract out the features we are interested with from the json blob"
     ]
    },
    {
     "cell_type": "code",
     "collapsed": false,
     "input": [
      "def extract_features(data):\n",
      "    features = {}\n",
      "    try:\n",
      "        features['sha256'] = data['metadata']['sha256']\n",
      "        features['size'] = data['metadata']['file_size']\n",
      "        features['entropy'] = data['metadata']['entropy']\n",
      "        features['version'] = data['characteristics']['swf']['swf metadata']['version']\n",
      "        features['frame count'] = data['characteristics']['swf']['swf metadata']['framecount']\n",
      "        features['frame rate'] = data['characteristics']['swf']['swf metadata']['framerate']\n",
      "        \n",
      "        x_min = data['characteristics']['swf']['swf metadata']['xmin']\n",
      "        x_max = data['characteristics']['swf']['swf metadata']['xmax']\n",
      "        y_min = data['characteristics']['swf']['swf metadata']['ymin']\n",
      "        y_max = data['characteristics']['swf']['swf metadata']['ymax']\n",
      "        x_length = x_max - x_min\n",
      "        y_length = y_max - y_min\n",
      "        features['swf area'] = x_length * y_length\n",
      "        features['swf perimeter'] = 2*(x_length+y_length)\n",
      "        \n",
      "        features['tag count'] = 0\n",
      "        for tag_info in data['characteristics']['swf']['tag types']:\n",
      "            features[tag_info['tag name']] = 1\n",
      "            features['tag count'] += tag_info['count']\n",
      "\n",
      "        abc_info = {}\n",
      "        for tag_info in data['verbose']['swf']['tags']:\n",
      "            if 'DoABC' in tag_info or 'DoABCDefine' in tag_info:\n",
      "                key = 'DoABC'\n",
      "                if 'DoABCDefine' in tag_info:\n",
      "                    key = 'DoABCDefine'\n",
      "                \n",
      "                if 'abc bytecodename' not in features:\n",
      "                    abc_info['abc bytecodename'] = []\n",
      "                try:\n",
      "                    abc_info['abc bytecodename'].append(tag_info[key]['bytecodename'])\n",
      "                except KeyError:\n",
      "                    abc_info['abc bytecodename'].append('DoABCDefine')\n",
      "                                                        \n",
      "                try:\n",
      "                    abc_info['abc flag'] = tag_info[key]['flag']\n",
      "                except KeyError:\n",
      "                    abc_info['abc flag'] = 0\n",
      "                \n",
      "                if 'abc strings' not in features:\n",
      "                    abc_info['abc strings'] = []\n",
      "                if 'abc string count' not in features:\n",
      "                    abc_info['abc string count'] = 0\n",
      "                    \n",
      "                abc_info['abc strings'].extend(tag_info[key]['abc']['strings'])\n",
      "\n",
      "        if abc_info:\n",
      "            if abc_info['abc bytecodename'][0] == '':\n",
      "                features['first abc bytecode name'] = 1\n",
      "            elif abc_info['abc bytecodename'][0] == 'DoABCDefine':\n",
      "                features['first abc bytecode name'] = 2\n",
      "            elif abc_info['abc bytecodename'][0] == 'frame1':\n",
      "                features['first abc bytecode name'] = 3\n",
      "            else:\n",
      "                features['first abc bytecode name'] = 4\n",
      "                \n",
      "            features['abc bytecode name'] = abc_info['abc bytecodename']\n",
      "            features['bytecode name count'] = len(abc_info['abc bytecodename'])\n",
      "            features['unique bytecode name count'] = len(set(abc_info['abc bytecodename']))\n",
      "            features['abc strings'] = abc_info['abc strings']\n",
      "            features['abc string count'] = len(features['abc strings'])\n",
      "            \n",
      "            features['long hex string'] = 0\n",
      "            for s in features['abc strings']:\n",
      "                if len(s) > 100:\n",
      "                    try:\n",
      "                        s.decode('hex')\n",
      "                        features['long hex string'] = 1\n",
      "                        break\n",
      "                    except:\n",
      "                        pass\n",
      "            try:\n",
      "                features['abc string m/m ratio'] = float(data['verbose']['swf']['SWF String Statistical Analysis']['ActionScript String Length Mean to Median Ratio'])\n",
      "            except KeyError as k:\n",
      "                features['abc string m/m ratio'] = 0.0         \n",
      "\n",
      "    except KeyError as ke:\n",
      "        print 'ERROR:', ke, data['metadata']['sha256']\n",
      "    return features"
     ],
     "language": "python",
     "metadata": {},
     "outputs": [],
     "prompt_number": 4
    },
    {
     "cell_type": "code",
     "collapsed": false,
     "input": [
      "def load_files(file_list):\n",
      "    import json\n",
      "    features_list = []\n",
      "    for filename in file_list:\n",
      "        with open(filename,'rb') as f:\n",
      "            features = extract_features(json.loads(f.read()))\n",
      "            features_list.append(features)\n",
      "    return features_list"
     ],
     "language": "python",
     "metadata": {},
     "outputs": [],
     "prompt_number": 5
    },
    {
     "cell_type": "code",
     "collapsed": false,
     "input": [
      "# Good files\n",
      "import glob\n",
      "good_list = glob.glob('data/clean/*.results')\n",
      "good_features = load_files(good_list)\n",
      "print \"Files:\", len(good_list)"
     ],
     "language": "python",
     "metadata": {},
     "outputs": [
      {
       "output_type": "stream",
       "stream": "stdout",
       "text": [
        "Files: 500\n"
       ]
      }
     ],
     "prompt_number": 6
    },
    {
     "cell_type": "markdown",
     "metadata": {},
     "source": [
      "####The set of bad files came from Contagio and VirusTotal"
     ]
    },
    {
     "cell_type": "code",
     "collapsed": false,
     "input": [
      "# Bad files\n",
      "bad_list = glob.glob('data/malicious/*.results')\n",
      "bad_features = load_files(bad_list)\n",
      "print \"Files:\", len(bad_list)"
     ],
     "language": "python",
     "metadata": {},
     "outputs": [
      {
       "output_type": "stream",
       "stream": "stdout",
       "text": [
        "Files: 620\n"
       ]
      }
     ],
     "prompt_number": 7
    },
    {
     "cell_type": "code",
     "collapsed": false,
     "input": [
      "df_good = pd.DataFrame.from_records(good_features)\n",
      "df_good.fillna(0, inplace=True)\n",
      "df_good['label'] = 'benign'\n",
      "df_good.head()"
     ],
     "language": "python",
     "metadata": {},
     "outputs": [
      {
       "html": [
        "<div style=\"max-height:1000px;max-width:1500px;overflow:auto;\">\n",
        "<table border=\"1\" class=\"dataframe\">\n",
        "  <thead>\n",
        "    <tr style=\"text-align: right;\">\n",
        "      <th></th>\n",
        "      <th>CSMTextSettings</th>\n",
        "      <th>DebugID</th>\n",
        "      <th>DefineBinaryData</th>\n",
        "      <th>DefineBits</th>\n",
        "      <th>DefineBitsJPEG2</th>\n",
        "      <th>DefineBitsJPEG3</th>\n",
        "      <th>DefineBitsLossless</th>\n",
        "      <th>DefineBitsLossless2</th>\n",
        "      <th>DefineButton</th>\n",
        "      <th>DefineButton2</th>\n",
        "      <th>DefineButtonSound</th>\n",
        "      <th>DefineEditText</th>\n",
        "      <th>DefineFont</th>\n",
        "      <th>DefineFont2</th>\n",
        "      <th>DefineFont3</th>\n",
        "      <th>DefineFont4</th>\n",
        "      <th>DefineFontAlignZones</th>\n",
        "      <th>DefineFontInfo2</th>\n",
        "      <th>DefineFontName</th>\n",
        "      <th>DefineMorphShape</th>\n",
        "      <th></th>\n",
        "    </tr>\n",
        "  </thead>\n",
        "  <tbody>\n",
        "    <tr>\n",
        "      <th>0</th>\n",
        "      <td> 0</td>\n",
        "      <td> 0</td>\n",
        "      <td> 0</td>\n",
        "      <td> 0</td>\n",
        "      <td> 0</td>\n",
        "      <td> 0</td>\n",
        "      <td> 0</td>\n",
        "      <td> 0</td>\n",
        "      <td> 0</td>\n",
        "      <td> 1</td>\n",
        "      <td> 0</td>\n",
        "      <td> 0</td>\n",
        "      <td> 0</td>\n",
        "      <td> 1</td>\n",
        "      <td> 0</td>\n",
        "      <td> 0</td>\n",
        "      <td> 0</td>\n",
        "      <td> 0</td>\n",
        "      <td> 0</td>\n",
        "      <td> 1</td>\n",
        "      <td>...</td>\n",
        "    </tr>\n",
        "    <tr>\n",
        "      <th>1</th>\n",
        "      <td> 0</td>\n",
        "      <td> 0</td>\n",
        "      <td> 0</td>\n",
        "      <td> 1</td>\n",
        "      <td> 1</td>\n",
        "      <td> 1</td>\n",
        "      <td> 0</td>\n",
        "      <td> 0</td>\n",
        "      <td> 0</td>\n",
        "      <td> 1</td>\n",
        "      <td> 0</td>\n",
        "      <td> 0</td>\n",
        "      <td> 0</td>\n",
        "      <td> 0</td>\n",
        "      <td> 0</td>\n",
        "      <td> 0</td>\n",
        "      <td> 0</td>\n",
        "      <td> 0</td>\n",
        "      <td> 0</td>\n",
        "      <td> 0</td>\n",
        "      <td>...</td>\n",
        "    </tr>\n",
        "    <tr>\n",
        "      <th>2</th>\n",
        "      <td> 0</td>\n",
        "      <td> 0</td>\n",
        "      <td> 0</td>\n",
        "      <td> 0</td>\n",
        "      <td> 1</td>\n",
        "      <td> 0</td>\n",
        "      <td> 0</td>\n",
        "      <td> 0</td>\n",
        "      <td> 0</td>\n",
        "      <td> 0</td>\n",
        "      <td> 0</td>\n",
        "      <td> 0</td>\n",
        "      <td> 0</td>\n",
        "      <td> 1</td>\n",
        "      <td> 0</td>\n",
        "      <td> 0</td>\n",
        "      <td> 0</td>\n",
        "      <td> 0</td>\n",
        "      <td> 0</td>\n",
        "      <td> 0</td>\n",
        "      <td>...</td>\n",
        "    </tr>\n",
        "    <tr>\n",
        "      <th>3</th>\n",
        "      <td> 0</td>\n",
        "      <td> 1</td>\n",
        "      <td> 1</td>\n",
        "      <td> 0</td>\n",
        "      <td> 0</td>\n",
        "      <td> 0</td>\n",
        "      <td> 0</td>\n",
        "      <td> 0</td>\n",
        "      <td> 0</td>\n",
        "      <td> 0</td>\n",
        "      <td> 0</td>\n",
        "      <td> 0</td>\n",
        "      <td> 0</td>\n",
        "      <td> 0</td>\n",
        "      <td> 0</td>\n",
        "      <td> 0</td>\n",
        "      <td> 0</td>\n",
        "      <td> 0</td>\n",
        "      <td> 0</td>\n",
        "      <td> 0</td>\n",
        "      <td>...</td>\n",
        "    </tr>\n",
        "    <tr>\n",
        "      <th>4</th>\n",
        "      <td> 0</td>\n",
        "      <td> 0</td>\n",
        "      <td> 0</td>\n",
        "      <td> 0</td>\n",
        "      <td> 0</td>\n",
        "      <td> 0</td>\n",
        "      <td> 0</td>\n",
        "      <td> 0</td>\n",
        "      <td> 0</td>\n",
        "      <td> 0</td>\n",
        "      <td> 0</td>\n",
        "      <td> 0</td>\n",
        "      <td> 0</td>\n",
        "      <td> 0</td>\n",
        "      <td> 0</td>\n",
        "      <td> 0</td>\n",
        "      <td> 0</td>\n",
        "      <td> 0</td>\n",
        "      <td> 0</td>\n",
        "      <td> 0</td>\n",
        "      <td>...</td>\n",
        "    </tr>\n",
        "  </tbody>\n",
        "</table>\n",
        "<p>5 rows \u00d7 76 columns</p>\n",
        "</div>"
       ],
       "metadata": {},
       "output_type": "pyout",
       "prompt_number": 8,
       "text": [
        "   CSMTextSettings  DebugID  DefineBinaryData  DefineBits  DefineBitsJPEG2  \\\n",
        "0                0        0                 0           0                0   \n",
        "1                0        0                 0           1                1   \n",
        "2                0        0                 0           0                1   \n",
        "3                0        1                 1           0                0   \n",
        "4                0        0                 0           0                0   \n",
        "\n",
        "   DefineBitsJPEG3  DefineBitsLossless  DefineBitsLossless2  DefineButton  \\\n",
        "0                0                   0                    0             0   \n",
        "1                1                   0                    0             0   \n",
        "2                0                   0                    0             0   \n",
        "3                0                   0                    0             0   \n",
        "4                0                   0                    0             0   \n",
        "\n",
        "   DefineButton2  DefineButtonSound  DefineEditText  DefineFont  DefineFont2  \\\n",
        "0              1                  0               0           0            1   \n",
        "1              1                  0               0           0            0   \n",
        "2              0                  0               0           0            1   \n",
        "3              0                  0               0           0            0   \n",
        "4              0                  0               0           0            0   \n",
        "\n",
        "   DefineFont3  DefineFont4  DefineFontAlignZones  DefineFontInfo2  \\\n",
        "0            0            0                     0                0   \n",
        "1            0            0                     0                0   \n",
        "2            0            0                     0                0   \n",
        "3            0            0                     0                0   \n",
        "4            0            0                     0                0   \n",
        "\n",
        "   DefineFontName  DefineMorphShape      \n",
        "0               0                 1 ...  \n",
        "1               0                 0 ...  \n",
        "2               0                 0 ...  \n",
        "3               0                 0 ...  \n",
        "4               0                 0 ...  \n",
        "\n",
        "[5 rows x 76 columns]"
       ]
      }
     ],
     "prompt_number": 8
    },
    {
     "cell_type": "code",
     "collapsed": false,
     "input": [
      "df_bad = pd.DataFrame.from_records(bad_features)\n",
      "df_bad.fillna(0, inplace=True)\n",
      "df_bad['label'] = 'malicious'\n",
      "df_bad.head()"
     ],
     "language": "python",
     "metadata": {},
     "outputs": [
      {
       "html": [
        "<div style=\"max-height:1000px;max-width:1500px;overflow:auto;\">\n",
        "<table border=\"1\" class=\"dataframe\">\n",
        "  <thead>\n",
        "    <tr style=\"text-align: right;\">\n",
        "      <th></th>\n",
        "      <th>CSMTextSettings</th>\n",
        "      <th>DebugID</th>\n",
        "      <th>DefineBinaryData</th>\n",
        "      <th>DefineBits</th>\n",
        "      <th>DefineBitsJPEG2</th>\n",
        "      <th>DefineBitsJPEG3</th>\n",
        "      <th>DefineBitsLossless</th>\n",
        "      <th>DefineBitsLossless2</th>\n",
        "      <th>DefineButton2</th>\n",
        "      <th>DefineButtonSound</th>\n",
        "      <th>DefineEditText</th>\n",
        "      <th>DefineFont</th>\n",
        "      <th>DefineFont2</th>\n",
        "      <th>DefineFont3</th>\n",
        "      <th>DefineFont4</th>\n",
        "      <th>DefineFontAlignZones</th>\n",
        "      <th>DefineFontInfo</th>\n",
        "      <th>DefineFontName</th>\n",
        "      <th>DefineMorphShape</th>\n",
        "      <th>DefineScalingGrid</th>\n",
        "      <th></th>\n",
        "    </tr>\n",
        "  </thead>\n",
        "  <tbody>\n",
        "    <tr>\n",
        "      <th>0</th>\n",
        "      <td> 0</td>\n",
        "      <td> 0</td>\n",
        "      <td> 0</td>\n",
        "      <td> 0</td>\n",
        "      <td> 0</td>\n",
        "      <td> 0</td>\n",
        "      <td> 0</td>\n",
        "      <td> 0</td>\n",
        "      <td> 0</td>\n",
        "      <td> 0</td>\n",
        "      <td> 0</td>\n",
        "      <td> 0</td>\n",
        "      <td> 0</td>\n",
        "      <td> 0</td>\n",
        "      <td> 0</td>\n",
        "      <td> 0</td>\n",
        "      <td> 0</td>\n",
        "      <td> 0</td>\n",
        "      <td> 0</td>\n",
        "      <td> 0</td>\n",
        "      <td>...</td>\n",
        "    </tr>\n",
        "    <tr>\n",
        "      <th>1</th>\n",
        "      <td> 0</td>\n",
        "      <td> 0</td>\n",
        "      <td> 0</td>\n",
        "      <td> 0</td>\n",
        "      <td> 0</td>\n",
        "      <td> 0</td>\n",
        "      <td> 0</td>\n",
        "      <td> 0</td>\n",
        "      <td> 0</td>\n",
        "      <td> 0</td>\n",
        "      <td> 0</td>\n",
        "      <td> 0</td>\n",
        "      <td> 0</td>\n",
        "      <td> 0</td>\n",
        "      <td> 0</td>\n",
        "      <td> 0</td>\n",
        "      <td> 0</td>\n",
        "      <td> 0</td>\n",
        "      <td> 0</td>\n",
        "      <td> 0</td>\n",
        "      <td>...</td>\n",
        "    </tr>\n",
        "    <tr>\n",
        "      <th>2</th>\n",
        "      <td> 0</td>\n",
        "      <td> 0</td>\n",
        "      <td> 0</td>\n",
        "      <td> 0</td>\n",
        "      <td> 0</td>\n",
        "      <td> 0</td>\n",
        "      <td> 0</td>\n",
        "      <td> 0</td>\n",
        "      <td> 0</td>\n",
        "      <td> 0</td>\n",
        "      <td> 0</td>\n",
        "      <td> 0</td>\n",
        "      <td> 0</td>\n",
        "      <td> 0</td>\n",
        "      <td> 0</td>\n",
        "      <td> 0</td>\n",
        "      <td> 0</td>\n",
        "      <td> 0</td>\n",
        "      <td> 0</td>\n",
        "      <td> 0</td>\n",
        "      <td>...</td>\n",
        "    </tr>\n",
        "    <tr>\n",
        "      <th>3</th>\n",
        "      <td> 0</td>\n",
        "      <td> 0</td>\n",
        "      <td> 0</td>\n",
        "      <td> 1</td>\n",
        "      <td> 0</td>\n",
        "      <td> 0</td>\n",
        "      <td> 0</td>\n",
        "      <td> 0</td>\n",
        "      <td> 0</td>\n",
        "      <td> 0</td>\n",
        "      <td> 0</td>\n",
        "      <td> 0</td>\n",
        "      <td> 0</td>\n",
        "      <td> 0</td>\n",
        "      <td> 0</td>\n",
        "      <td> 0</td>\n",
        "      <td> 0</td>\n",
        "      <td> 0</td>\n",
        "      <td> 0</td>\n",
        "      <td> 0</td>\n",
        "      <td>...</td>\n",
        "    </tr>\n",
        "    <tr>\n",
        "      <th>4</th>\n",
        "      <td> 0</td>\n",
        "      <td> 0</td>\n",
        "      <td> 0</td>\n",
        "      <td> 0</td>\n",
        "      <td> 0</td>\n",
        "      <td> 0</td>\n",
        "      <td> 0</td>\n",
        "      <td> 0</td>\n",
        "      <td> 0</td>\n",
        "      <td> 0</td>\n",
        "      <td> 0</td>\n",
        "      <td> 0</td>\n",
        "      <td> 0</td>\n",
        "      <td> 0</td>\n",
        "      <td> 0</td>\n",
        "      <td> 0</td>\n",
        "      <td> 0</td>\n",
        "      <td> 0</td>\n",
        "      <td> 0</td>\n",
        "      <td> 0</td>\n",
        "      <td>...</td>\n",
        "    </tr>\n",
        "  </tbody>\n",
        "</table>\n",
        "<p>5 rows \u00d7 73 columns</p>\n",
        "</div>"
       ],
       "metadata": {},
       "output_type": "pyout",
       "prompt_number": 9,
       "text": [
        "   CSMTextSettings  DebugID  DefineBinaryData  DefineBits  DefineBitsJPEG2  \\\n",
        "0                0        0                 0           0                0   \n",
        "1                0        0                 0           0                0   \n",
        "2                0        0                 0           0                0   \n",
        "3                0        0                 0           1                0   \n",
        "4                0        0                 0           0                0   \n",
        "\n",
        "   DefineBitsJPEG3  DefineBitsLossless  DefineBitsLossless2  DefineButton2  \\\n",
        "0                0                   0                    0              0   \n",
        "1                0                   0                    0              0   \n",
        "2                0                   0                    0              0   \n",
        "3                0                   0                    0              0   \n",
        "4                0                   0                    0              0   \n",
        "\n",
        "   DefineButtonSound  DefineEditText  DefineFont  DefineFont2  DefineFont3  \\\n",
        "0                  0               0           0            0            0   \n",
        "1                  0               0           0            0            0   \n",
        "2                  0               0           0            0            0   \n",
        "3                  0               0           0            0            0   \n",
        "4                  0               0           0            0            0   \n",
        "\n",
        "   DefineFont4  DefineFontAlignZones  DefineFontInfo  DefineFontName  \\\n",
        "0            0                     0               0               0   \n",
        "1            0                     0               0               0   \n",
        "2            0                     0               0               0   \n",
        "3            0                     0               0               0   \n",
        "4            0                     0               0               0   \n",
        "\n",
        "   DefineMorphShape  DefineScalingGrid      \n",
        "0                 0                  0 ...  \n",
        "1                 0                  0 ...  \n",
        "2                 0                  0 ...  \n",
        "3                 0                  0 ...  \n",
        "4                 0                  0 ...  \n",
        "\n",
        "[5 rows x 73 columns]"
       ]
      }
     ],
     "prompt_number": 9
    },
    {
     "cell_type": "markdown",
     "metadata": {},
     "source": [
      "### Let's explore the data.  "
     ]
    },
    {
     "cell_type": "code",
     "collapsed": false,
     "input": [
      "df = pd.concat([df_bad, df_good], ignore_index=True)\n",
      "df.fillna(0, inplace=True)"
     ],
     "language": "python",
     "metadata": {},
     "outputs": [],
     "prompt_number": 10
    },
    {
     "cell_type": "markdown",
     "metadata": {},
     "source": [
      "#### Let's start to explore the data, first with just the version numbers."
     ]
    },
    {
     "cell_type": "code",
     "collapsed": false,
     "input": [
      "df.groupby(['label', 'version'])['version'].count().unstack('label').fillna(0).plot(\n",
      "    colormap='GnBu', kind='bar', stacked=True, grid=False)"
     ],
     "language": "python",
     "metadata": {},
     "outputs": [
      {
       "metadata": {},
       "output_type": "pyout",
       "prompt_number": 11,
       "text": [
        "<matplotlib.axes._subplots.AxesSubplot at 0x112cf7190>"
       ]
      },
      {
       "metadata": {},
       "output_type": "display_data",
       "png": "[encoded data removed]",
       "text": [
        "<matplotlib.figure.Figure at 0x112cf7950>"
       ]
      }
     ],
     "prompt_number": 11
    },
    {
     "cell_type": "markdown",
     "metadata": {},
     "source": [
      "#### Next we see if there are any tendencies from the size of the file."
     ]
    },
    {
     "cell_type": "code",
     "collapsed": false,
     "input": [
      "df.boxplot(column='size', by='label')\n",
      "plt.ylabel('File Size')\n",
      "plt.xlabel('')\n",
      "plt.title('')\n",
      "plt.suptitle('')\n",
      "plt.ylim(0, 200000)"
     ],
     "language": "python",
     "metadata": {},
     "outputs": [
      {
       "metadata": {},
       "output_type": "pyout",
       "prompt_number": 12,
       "text": [
        "(0, 200000)"
       ]
      },
      {
       "metadata": {},
       "output_type": "display_data",
       "png": "[encoded data removed]",
       "text": [
        "<matplotlib.figure.Figure at 0x112dcec90>"
       ]
      }
     ],
     "prompt_number": 12
    },
    {
     "cell_type": "markdown",
     "metadata": {},
     "source": [
      "#### Next we compare the entropy"
     ]
    },
    {
     "cell_type": "code",
     "collapsed": false,
     "input": [
      "df.boxplot('entropy', 'label')\n",
      "plt.ylabel('Entropy')\n",
      "plt.xlabel('')\n",
      "plt.title('')\n",
      "plt.suptitle('')"
     ],
     "language": "python",
     "metadata": {},
     "outputs": [
      {
       "metadata": {},
       "output_type": "pyout",
       "prompt_number": 13,
       "text": [
        "<matplotlib.text.Text at 0x112e1d710>"
       ]
      },
      {
       "metadata": {},
       "output_type": "display_data",
       "png": "[encoded data removed]",
       "text": [
        "<matplotlib.figure.Figure at 0x112dbf690>"
       ]
      }
     ],
     "prompt_number": 13
    },
    {
     "cell_type": "markdown",
     "metadata": {},
     "source": [
      "### Compare the frame count"
     ]
    },
    {
     "cell_type": "code",
     "collapsed": false,
     "input": [
      "df.boxplot(column='frame count', by='label')\n",
      "plt.ylabel('Frame Count')\n",
      "plt.xlabel('')\n",
      "plt.title('')\n",
      "plt.suptitle('')\n",
      "plt.ylim(0, 5000)"
     ],
     "language": "python",
     "metadata": {},
     "outputs": [
      {
       "metadata": {},
       "output_type": "pyout",
       "prompt_number": 14,
       "text": [
        "(0, 5000)"
       ]
      },
      {
       "metadata": {},
       "output_type": "display_data",
       "png": "[encoded data removed]",
       "text": [
        "<matplotlib.figure.Figure at 0x112e4a250>"
       ]
      }
     ],
     "prompt_number": 14
    },
    {
     "cell_type": "markdown",
     "metadata": {},
     "source": [
      "#### The value for the benign files seems really low, let's dig a little deeper."
     ]
    },
    {
     "cell_type": "code",
     "collapsed": false,
     "input": [
      "df_good['frame count'].value_counts()[0:10]"
     ],
     "language": "python",
     "metadata": {},
     "outputs": [
      {
       "metadata": {},
       "output_type": "pyout",
       "prompt_number": 15,
       "text": [
        "1      390\n",
        "2       16\n",
        "3        3\n",
        "361      3\n",
        "25       3\n",
        "320      2\n",
        "200      2\n",
        "95       2\n",
        "300      2\n",
        "217      2\n",
        "dtype: int64"
       ]
      }
     ],
     "prompt_number": 15
    },
    {
     "cell_type": "markdown",
     "metadata": {},
     "source": [
      "#### That's kind of interesting, most of the values are 1.\n",
      "\n",
      "#### Next we compare the frame rate."
     ]
    },
    {
     "cell_type": "code",
     "collapsed": false,
     "input": [
      "df.boxplot(column='frame rate', by='label')\n",
      "plt.ylabel('Frame Rate')\n",
      "plt.xlabel('')\n",
      "plt.title('')\n",
      "plt.suptitle('')"
     ],
     "language": "python",
     "metadata": {},
     "outputs": [
      {
       "metadata": {},
       "output_type": "pyout",
       "prompt_number": 16,
       "text": [
        "<matplotlib.text.Text at 0x112e60090>"
       ]
      },
      {
       "metadata": {},
       "output_type": "display_data",
       "png": "[encoded data removed]",
       "text": [
        "<matplotlib.figure.Figure at 0x112de4810>"
       ]
      }
     ],
     "prompt_number": 16
    },
    {
     "cell_type": "markdown",
     "metadata": {},
     "source": [
      "#### Compare the area of the frame"
     ]
    },
    {
     "cell_type": "code",
     "collapsed": false,
     "input": [
      "df.boxplot('swf area', 'label')\n",
      "plt.xlabel('')\n",
      "plt.ylabel('Frame Area')\n",
      "plt.title('')\n",
      "plt.suptitle('')\n",
      "plt.ylim(0, 750000)"
     ],
     "language": "python",
     "metadata": {},
     "outputs": [
      {
       "metadata": {},
       "output_type": "pyout",
       "prompt_number": 17,
       "text": [
        "(0, 750000)"
       ]
      },
      {
       "metadata": {},
       "output_type": "display_data",
       "png": "[encoded data removed]",
       "text": [
        "<matplotlib.figure.Figure at 0x112e6fd10>"
       ]
      }
     ],
     "prompt_number": 17
    },
    {
     "cell_type": "markdown",
     "metadata": {},
     "source": [
      "#### Next compare the perimeter of the frame."
     ]
    },
    {
     "cell_type": "code",
     "collapsed": false,
     "input": [
      "df.boxplot('swf perimeter', 'label')\n",
      "plt.xlabel('')\n",
      "plt.ylabel('Frame Perimeter')\n",
      "plt.title('')\n",
      "plt.suptitle('')"
     ],
     "language": "python",
     "metadata": {},
     "outputs": [
      {
       "metadata": {},
       "output_type": "pyout",
       "prompt_number": 18,
       "text": [
        "<matplotlib.text.Text at 0x112e0c0d0>"
       ]
      },
      {
       "metadata": {},
       "output_type": "display_data",
       "png": "[encoded data removed]",
       "text": [
        "<matplotlib.figure.Figure at 0x112df4f50>"
       ]
      }
     ],
     "prompt_number": 18
    },
    {
     "cell_type": "markdown",
     "metadata": {},
     "source": [
      "### Classification\n",
      "\n",
      "#### First we try classifying binaries based on some of features from the SWF header.  The values we explored above.  There didn't seem to be a lot of separation, so I'm not expecting great results.  Yet."
     ]
    },
    {
     "cell_type": "code",
     "collapsed": false,
     "input": [
      "my_seed = 1022\n",
      "my_tsize = .2"
     ],
     "language": "python",
     "metadata": {},
     "outputs": [],
     "prompt_number": 19
    },
    {
     "cell_type": "code",
     "collapsed": false,
     "input": [
      "import sklearn.ensemble\n",
      "clf_simple = sklearn.ensemble.RandomForestClassifier(n_estimators=50)\n",
      "simple_features = ['entropy', 'frame count', 'frame rate', 'size', 'swf area', 'swf perimeter', 'version']\n",
      "\n",
      "X = df.as_matrix(simple_features)\n",
      "y = np.array(df['label'].tolist())\n",
      "\n",
      "scores = sklearn.cross_validation.cross_val_score(clf_simple, X, y, cv=10)\n",
      "print(\"Accuracy: %0.3f (+/- %0.3f)\" % (scores.mean(), scores.std() * 2))"
     ],
     "language": "python",
     "metadata": {},
     "outputs": [
      {
       "output_type": "stream",
       "stream": "stdout",
       "text": [
        "Accuracy: 0.963 (+/- 0.034)\n"
       ]
      }
     ],
     "prompt_number": 20
    },
    {
     "cell_type": "markdown",
     "metadata": {},
     "source": [
      "#### 96.1%?  That was better than I thought it would be.  Let's break the numbers down a little more."
     ]
    },
    {
     "cell_type": "code",
     "collapsed": false,
     "input": [
      "import sklearn.ensemble\n",
      "from sklearn.metrics import confusion_matrix\n",
      "from sklearn.cross_validation import train_test_split\n",
      "\n",
      "# 80/20 Split for predictive test\n",
      "X_train, X_test, y_train, y_test = train_test_split(X, y, test_size=0.2)\n",
      "clf_simple.fit(X_train, y_train)\n",
      "y_pred = clf_simple.predict(X_test)\n",
      "labels = ['benign', 'malicious']\n",
      "cm = confusion_matrix(y_test, y_pred, labels)\n",
      "plot_cm(cm, labels)"
     ],
     "language": "python",
     "metadata": {},
     "outputs": [
      {
       "output_type": "stream",
       "stream": "stdout",
       "text": [
        "Confusion Matrix Stats\n",
        "benign/benign: 96.04% (97/101)\n",
        "benign/malicious: 3.96% (4/101)\n",
        "malicious/benign: 3.25% (4/123)\n",
        "malicious/malicious: 96.75% (119/123)\n"
       ]
      },
      {
       "metadata": {},
       "output_type": "display_data",
       "png": "[encoded data removed]",
       "text": [
        "<matplotlib.figure.Figure at 0x112e8f790>"
       ]
      }
     ],
     "prompt_number": 21
    },
    {
     "cell_type": "markdown",
     "metadata": {},
     "source": [
      "#### Fairly equal on IDing benign and malicious files.  Next we will have the classifier tell use which features were most important and how important they were."
     ]
    },
    {
     "cell_type": "code",
     "collapsed": false,
     "input": [
      "# Feature Selection\n",
      "importances = zip(simple_features, clf_simple.feature_importances_)\n",
      "importances.sort(key=lambda k:k[1], reverse=True)\n",
      "for idx, im in enumerate(importances[0:10]):\n",
      "    print (str(idx+1) + ':').ljust(4), im[0].ljust(20), round(im[1], 5)"
     ],
     "language": "python",
     "metadata": {},
     "outputs": [
      {
       "output_type": "stream",
       "stream": "stdout",
       "text": [
        "1:   entropy              0.27378\n",
        "2:   swf perimeter        0.15704\n",
        "3:   size                 0.14867\n",
        "4:   swf area             0.13079\n",
        "5:   version              0.12864\n",
        "6:   frame rate           0.11256\n",
        "7:   frame count          0.04852\n"
       ]
      }
     ],
     "prompt_number": 22
    },
    {
     "cell_type": "markdown",
     "metadata": {},
     "source": [
      "### Tag Information\n",
      "\n",
      "\n",
      "#### Now we will add information about the tags present in the SWF file.  We do not take into condsideration the number of each tags, just that they exist in the file.  We also will take into consideration the number of tags.  Again, we start by exploring some of these values."
     ]
    },
    {
     "cell_type": "code",
     "collapsed": false,
     "input": [
      "df.boxplot('tag count', 'label')\n",
      "plt.xlabel('')\n",
      "plt.ylabel('Number of Tags')\n",
      "plt.title('')\n",
      "plt.suptitle('')\n",
      "plt.ylim(0,400)"
     ],
     "language": "python",
     "metadata": {},
     "outputs": [
      {
       "metadata": {},
       "output_type": "pyout",
       "prompt_number": 23,
       "text": [
        "(0, 400)"
       ]
      },
      {
       "metadata": {},
       "output_type": "display_data",
       "png": "[encoded data removed]",
       "text": [
        "<matplotlib.figure.Figure at 0x1146262d0>"
       ]
      }
     ],
     "prompt_number": 23
    },
    {
     "cell_type": "markdown",
     "metadata": {},
     "source": [
      "#### Next we switch it up to see how many files contain several tags from each file classification."
     ]
    },
    {
     "cell_type": "code",
     "collapsed": false,
     "input": [
      "p = df.groupby(['PlaceObject2','label'])['PlaceObject2'].count().unstack('PlaceObject2').fillna(0).plot(\n",
      "    kind='bar', stacked=False, grid=False)\n",
      "p.set_xlabel('')\n",
      "p.plot()"
     ],
     "language": "python",
     "metadata": {},
     "outputs": [
      {
       "metadata": {},
       "output_type": "pyout",
       "prompt_number": 24,
       "text": [
        "[]"
       ]
      },
      {
       "metadata": {},
       "output_type": "display_data",
       "png": "[encoded data removed]",
       "text": [
        "<matplotlib.figure.Figure at 0x112e1bc50>"
       ]
      }
     ],
     "prompt_number": 24
    },
    {
     "cell_type": "markdown",
     "metadata": {},
     "source": [
      "#### DoABC tags mean that the file contains ActionScript3"
     ]
    },
    {
     "cell_type": "code",
     "collapsed": false,
     "input": [
      "p = df.groupby(['DoABC','label'])['DoABC'].count().unstack('DoABC').fillna(0).plot(\n",
      "    kind='bar', stacked=False, grid=False)\n",
      "p.set_xlabel('')\n",
      "p.plot()"
     ],
     "language": "python",
     "metadata": {},
     "outputs": [
      {
       "metadata": {},
       "output_type": "pyout",
       "prompt_number": 25,
       "text": [
        "[]"
       ]
      },
      {
       "metadata": {},
       "output_type": "display_data",
       "png": "[encoded data removed]",
       "text": [
        "<matplotlib.figure.Figure at 0x112e4bd50>"
       ]
      }
     ],
     "prompt_number": 25
    },
    {
     "cell_type": "markdown",
     "metadata": {},
     "source": [
      "#### DoABCDefine is a deprecated way to do the same things."
     ]
    },
    {
     "cell_type": "code",
     "collapsed": false,
     "input": [
      "p = df.groupby(['DoABCDefine','label'])['DoABCDefine'].count().unstack('DoABCDefine').fillna(0).plot(\n",
      "    kind='bar', stacked=False, grid=False)\n",
      "p.set_xlabel('')\n",
      "p.plot()"
     ],
     "language": "python",
     "metadata": {},
     "outputs": [
      {
       "metadata": {},
       "output_type": "pyout",
       "prompt_number": 26,
       "text": [
        "[]"
       ]
      },
      {
       "metadata": {},
       "output_type": "display_data",
       "png": "[encoded data removed]",
       "text": [
        "<matplotlib.figure.Figure at 0x112e1bb50>"
       ]
      }
     ],
     "prompt_number": 26
    },
    {
     "cell_type": "code",
     "collapsed": false,
     "input": [
      "p = df.groupby(['DefineBitsJPEG2','label'])['DefineBitsJPEG2'].count().unstack('DefineBitsJPEG2').fillna(0).plot(\n",
      "    kind='bar', stacked=False, grid=False)\n",
      "p.set_xlabel('')\n",
      "p.plot()"
     ],
     "language": "python",
     "metadata": {},
     "outputs": [
      {
       "metadata": {},
       "output_type": "pyout",
       "prompt_number": 27,
       "text": [
        "[]"
       ]
      },
      {
       "metadata": {},
       "output_type": "display_data",
       "png": "[encoded data removed]",
       "text": [
        "<matplotlib.figure.Figure at 0x112dc7490>"
       ]
      }
     ],
     "prompt_number": 27
    },
    {
     "cell_type": "code",
     "collapsed": false,
     "input": [
      "p = df.groupby(['End','label'])['End'].count().unstack('End').fillna(0).plot(\n",
      "    kind='bar', stacked=False, grid=False)\n",
      "p.set_xlabel('')\n",
      "p.plot()"
     ],
     "language": "python",
     "metadata": {},
     "outputs": [
      {
       "metadata": {},
       "output_type": "pyout",
       "prompt_number": 28,
       "text": [
        "[]"
       ]
      },
      {
       "metadata": {},
       "output_type": "display_data",
       "png": "[encoded data removed]",
       "text": [
        "<matplotlib.figure.Figure at 0x112e96710>"
       ]
      }
     ],
     "prompt_number": 28
    },
    {
     "cell_type": "markdown",
     "metadata": {},
     "source": [
      "#### Now we add that information to the classifier and check the results again."
     ]
    },
    {
     "cell_type": "code",
     "collapsed": false,
     "input": [
      "import sklearn.ensemble\n",
      "clf_tags = sklearn.ensemble.RandomForestClassifier(n_estimators=50)\n",
      "tag_features = ['entropy', 'frame count', 'frame rate', 'size', 'swf area', 'swf perimeter', 'version',\n",
      "                    'CSMTextSettings', 'DebugID', 'DefineBinaryData', 'DefineBits',\n",
      "                    'DefineBitsJPEG2', 'DefineBitsJPEG3', 'DefineBitsLossless',\n",
      "                    'DefineBitsLossless2', 'DefineButton', 'DefineButton2',\n",
      "                    'DefineButtonSound', 'DefineEditText', 'DefineFont', 'DefineFont2',\n",
      "                    'DefineFont3', 'DefineFont4', 'DefineFontAlignZones', 'DefineFontInfo',\n",
      "                    'DefineFontInfo2', 'DefineFontName', 'DefineMorphShape',\n",
      "                    'DefineMorphShape2', 'DefineScalingGrid', 'DefineSceneAndFrameLabelData',\n",
      "                    'DefineShape', 'DefineShape2', 'DefineShape3', 'DefineShape4',\n",
      "                    'DefineSound', 'DefineSprite', 'DefineText', 'DefineText2',\n",
      "                    'DefineVideoStream', 'DoABC', 'DoABCDefine', 'DoAction', 'DoInitAction',\n",
      "                    'EnableDebugger2', 'End', 'ExportAssets', 'FileAttributes', 'FrameLabel',\n",
      "                    'ImportAssets2', 'JPEGTables', 'Metadata', 'PlaceObject', 'PlaceObject2',\n",
      "                    'PlaceObject3', 'ProductInfo', 'Protect', 'RemoveObject2', 'ScriptLimits',\n",
      "                    'SetBackgroundColor', 'ShowFrame', 'SoundStreamBlock', 'SoundStreamHead',\n",
      "                    'SoundStreamHead2', 'SymbolClass', 'Unknown', 'tag count']\n",
      "\n",
      "X = df.as_matrix(tag_features)\n",
      "y = np.array(df['label'].tolist())\n",
      "\n",
      "scores = sklearn.cross_validation.cross_val_score(clf_tags, X, y, cv=10)\n",
      "print(\"Accuracy: %0.3f (+/- %0.3f)\" % (scores.mean(), scores.std() * 2))"
     ],
     "language": "python",
     "metadata": {},
     "outputs": [
      {
       "output_type": "stream",
       "stream": "stdout",
       "text": [
        "Accuracy: 0.971 (+/- 0.029)\n"
       ]
      }
     ],
     "prompt_number": 29
    },
    {
     "cell_type": "markdown",
     "metadata": {},
     "source": [
      "#### They didn't really seem to help that much unfortunately.  Below, we check out the confusion matrix, and see similar results as before."
     ]
    },
    {
     "cell_type": "code",
     "collapsed": false,
     "input": [
      "import sklearn.ensemble\n",
      "from sklearn.metrics import confusion_matrix\n",
      "from sklearn.cross_validation import train_test_split\n",
      "\n",
      "# 80/20 Split for predictive test\n",
      "X_train, X_test, y_train, y_test = train_test_split(X, y, test_size=0.2)\n",
      "clf_tags.fit(X_train, y_train)\n",
      "y_pred = clf_tags.predict(X_test)\n",
      "labels = ['benign', 'malicious']\n",
      "cm = confusion_matrix(y_test, y_pred, labels)\n",
      "plot_cm(cm, labels)"
     ],
     "language": "python",
     "metadata": {},
     "outputs": [
      {
       "output_type": "stream",
       "stream": "stdout",
       "text": [
        "Confusion Matrix Stats\n",
        "benign/benign: 97.85% (91/93)\n",
        "benign/malicious: 2.15% (2/93)\n",
        "malicious/benign: 4.58% (6/131)\n",
        "malicious/malicious: 95.42% (125/131)\n"
       ]
      },
      {
       "metadata": {},
       "output_type": "display_data",
       "png": "[encoded data removed]",
       "text": [
        "<matplotlib.figure.Figure at 0x1149d2510>"
       ]
      }
     ],
     "prompt_number": 30
    },
    {
     "cell_type": "markdown",
     "metadata": {},
     "source": [
      "#### When checking the feature importance, we see that the new features were not really that important."
     ]
    },
    {
     "cell_type": "code",
     "collapsed": false,
     "input": [
      "importances = zip(tag_features, clf_tags.feature_importances_)\n",
      "importances.sort(key=lambda k:k[1], reverse=True)\n",
      "for idx, im in enumerate(importances[0:25]):\n",
      "    print (str(idx+1) + ':').ljust(4), im[0].ljust(40), round(im[1], 5)"
     ],
     "language": "python",
     "metadata": {},
     "outputs": [
      {
       "output_type": "stream",
       "stream": "stdout",
       "text": [
        "1:   PlaceObject2                             0.08836\n",
        "2:   swf perimeter                            0.08419\n",
        "3:   entropy                                  0.08106\n",
        "4:   swf area                                 0.07323\n",
        "5:   tag count                                0.06813\n",
        "6:   size                                     0.06797\n",
        "7:   frame rate                               0.06583\n",
        "8:   version                                  0.05843\n",
        "9:   DefineShape                              0.04059\n",
        "10:  DefineShape3                             0.03661\n",
        "11:  ProductInfo                              0.02833\n",
        "12:  DefineFontName                           0.02659\n",
        "13:  Unknown                                  0.02473\n",
        "14:  DefineFontAlignZones                     0.01981\n",
        "15:  frame count                              0.01832\n",
        "16:  ScriptLimits                             0.01822\n",
        "17:  DefineBitsJPEG2                          0.0174\n",
        "18:  DefineFont3                              0.01693\n",
        "19:  ExportAssets                             0.01529\n",
        "20:  Metadata                                 0.01521\n",
        "21:  DefineBitsJPEG3                          0.01431\n",
        "22:  DefineSprite                             0.01369\n",
        "23:  DefineBinaryData                         0.00869\n",
        "24:  DebugID                                  0.00738\n",
        "25:  DoABCDefine                              0.00667\n"
       ]
      }
     ],
     "prompt_number": 31
    },
    {
     "cell_type": "markdown",
     "metadata": {},
     "source": [
      "### ActionScript\n",
      "\n",
      "#### Next we will add in some features about ActionScript.  First up is the number of strings."
     ]
    },
    {
     "cell_type": "code",
     "collapsed": false,
     "input": [
      "df.boxplot('abc string count', 'label')\n",
      "plt.xlabel('')\n",
      "plt.ylabel('Number of ActionScript Strings')\n",
      "plt.title('')\n",
      "plt.suptitle('')\n",
      "plt.ylim(0, 1000)"
     ],
     "language": "python",
     "metadata": {},
     "outputs": [
      {
       "metadata": {},
       "output_type": "pyout",
       "prompt_number": 32,
       "text": [
        "(0, 1000)"
       ]
      },
      {
       "metadata": {},
       "output_type": "display_data",
       "png": "[encoded data removed]",
       "text": [
        "<matplotlib.figure.Figure at 0x1146dc850>"
       ]
      }
     ],
     "prompt_number": 32
    },
    {
     "cell_type": "markdown",
     "metadata": {},
     "source": [
      "#### This next feature is taking the length of every string and calculating the mean length and the median length of the string."
     ]
    },
    {
     "cell_type": "code",
     "collapsed": false,
     "input": [
      "df.boxplot('abc string m/m ratio', 'label')\n",
      "plt.xlabel('')\n",
      "plt.ylabel('ActionScript Mean/Median Ratio')\n",
      "plt.title('')\n",
      "plt.suptitle('')\n",
      "plt.ylim(0, 15)"
     ],
     "language": "python",
     "metadata": {},
     "outputs": [
      {
       "metadata": {},
       "output_type": "pyout",
       "prompt_number": 33,
       "text": [
        "(0, 15)"
       ]
      },
      {
       "metadata": {},
       "output_type": "display_data",
       "png": "[encoded data removed]",
       "text": [
        "<matplotlib.figure.Figure at 0x114ccf1d0>"
       ]
      }
     ],
     "prompt_number": 33
    },
    {
     "cell_type": "markdown",
     "metadata": {},
     "source": [
      "#### Now let's check out the classifier with these new features."
     ]
    },
    {
     "cell_type": "code",
     "collapsed": false,
     "input": [
      "import sklearn.ensemble\n",
      "clf_abc = sklearn.ensemble.RandomForestClassifier(n_estimators=50)\n",
      "abc_features = ['entropy', 'frame count', 'frame rate', 'size', 'swf area', 'swf perimeter', 'version',\n",
      "                    'CSMTextSettings', 'DebugID', 'DefineBinaryData', 'DefineBits',\n",
      "                    'DefineBitsJPEG2', 'DefineBitsJPEG3', 'DefineBitsLossless',\n",
      "                    'DefineBitsLossless2', 'DefineButton', 'DefineButton2',\n",
      "                    'DefineButtonSound', 'DefineEditText', 'DefineFont', 'DefineFont2',\n",
      "                    'DefineFont3', 'DefineFont4', 'DefineFontAlignZones', 'DefineFontInfo',\n",
      "                    'DefineFontInfo2', 'DefineFontName', 'DefineMorphShape',\n",
      "                    'DefineMorphShape2', 'DefineScalingGrid', 'DefineSceneAndFrameLabelData',\n",
      "                    'DefineShape', 'DefineShape2', 'DefineShape3', 'DefineShape4',\n",
      "                    'DefineSound', 'DefineSprite', 'DefineText', 'DefineText2',\n",
      "                    'DefineVideoStream', 'DoABC', 'DoABCDefine', 'DoAction', 'DoInitAction',\n",
      "                    'EnableDebugger2', 'End', 'ExportAssets', 'FileAttributes', 'FrameLabel',\n",
      "                    'ImportAssets2', 'JPEGTables', 'Metadata', 'PlaceObject', 'PlaceObject2',\n",
      "                    'PlaceObject3', 'ProductInfo', 'Protect', 'RemoveObject2', 'ScriptLimits',\n",
      "                    'SetBackgroundColor', 'ShowFrame', 'SoundStreamBlock', 'SoundStreamHead',\n",
      "                    'SoundStreamHead2', 'SymbolClass', 'Unknown', 'tag count',                    \n",
      "                    'abc string count', 'abc string m/m ratio',\n",
      "                    'bytecode name count', 'first abc bytecode name', 'long hex string',\n",
      "                    'unique bytecode name count']\n",
      "\n",
      "X = df.as_matrix(abc_features)\n",
      "y = np.array(df['label'].tolist())\n",
      "\n",
      "scores = sklearn.cross_validation.cross_val_score(clf_abc, X, y, cv=10)\n",
      "print(\"Accuracy: %0.3f (+/- %0.3f)\" % (scores.mean(), scores.std() * 2))"
     ],
     "language": "python",
     "metadata": {},
     "outputs": [
      {
       "output_type": "stream",
       "stream": "stdout",
       "text": [
        "Accuracy: 0.970 (+/- 0.028)\n"
       ]
      }
     ],
     "prompt_number": 34
    },
    {
     "cell_type": "code",
     "collapsed": false,
     "input": [
      "#### Again, not a real improvement."
     ],
     "language": "python",
     "metadata": {},
     "outputs": [],
     "prompt_number": 35
    },
    {
     "cell_type": "code",
     "collapsed": false,
     "input": [
      "import sklearn.ensemble\n",
      "from sklearn.metrics import confusion_matrix\n",
      "from sklearn.cross_validation import train_test_split\n",
      "\n",
      "# 80/20 Split for predictive test\n",
      "X_train, X_test, y_train, y_test = train_test_split(X, y, test_size=0.2)\n",
      "clf_abc.fit(X_train, y_train)\n",
      "y_pred = clf_abc.predict(X_test)\n",
      "labels = ['benign', 'malicious']\n",
      "cm = confusion_matrix(y_test, y_pred, labels)\n",
      "plot_cm(cm, labels)"
     ],
     "language": "python",
     "metadata": {},
     "outputs": [
      {
       "output_type": "stream",
       "stream": "stdout",
       "text": [
        "Confusion Matrix Stats\n",
        "benign/benign: 97.22% (105/108)\n",
        "benign/malicious: 2.78% (3/108)\n",
        "malicious/benign: 1.72% (2/116)\n",
        "malicious/malicious: 98.28% (114/116)\n"
       ]
      },
      {
       "metadata": {},
       "output_type": "display_data",
       "png": "[encoded data removed]",
       "text": [
        "<matplotlib.figure.Figure at 0x1146c98d0>"
       ]
      }
     ],
     "prompt_number": 36
    },
    {
     "cell_type": "markdown",
     "metadata": {},
     "source": [
      "#### We see the number of strings in actionscript is a relatively important feature, but not enough to make a significant improvement in the classifier."
     ]
    },
    {
     "cell_type": "code",
     "collapsed": false,
     "input": [
      "importances = zip(abc_features, clf_abc.feature_importances_)\n",
      "importances.sort(key=lambda k:k[1], reverse=True)\n",
      "total = 0\n",
      "for idx, im in enumerate(importances[0:20]):\n",
      "    total += round(im[1], 5)\n",
      "    print (str(idx+1) + ':').ljust(4), im[0].ljust(35), round(im[1], 5), total"
     ],
     "language": "python",
     "metadata": {},
     "outputs": [
      {
       "output_type": "stream",
       "stream": "stdout",
       "text": [
        "1:   abc string count                    0.08828 0.08828\n",
        "2:   entropy                             0.08444 0.17272\n",
        "3:   swf area                            0.06474 0.23746\n",
        "4:   swf perimeter                       0.05966 0.29712\n",
        "5:   tag count                           0.05951 0.35663\n",
        "6:   PlaceObject2                        0.05094 0.40757\n",
        "7:   DefineShape3                        0.05022 0.45779\n",
        "8:   size                                0.04628 0.50407\n",
        "9:   frame rate                          0.04317 0.54724\n",
        "10:  version                             0.04204 0.58928\n",
        "11:  abc string m/m ratio                0.03019 0.61947\n",
        "12:  DefineShape                         0.02958 0.64905\n",
        "13:  long hex string                     0.02897 0.67802\n",
        "14:  DefineSprite                        0.02816 0.70618\n",
        "15:  DefineFont3                         0.02448 0.73066\n",
        "16:  DefineBitsJPEG2                     0.02426 0.75492\n",
        "17:  DefineFontName                      0.01949 0.77441\n",
        "18:  ProductInfo                         0.01839 0.7928\n",
        "19:  Unknown                             0.01636 0.80916\n",
        "20:  first abc bytecode name             0.01585 0.82501\n"
       ]
      }
     ],
     "prompt_number": 37
    },
    {
     "cell_type": "markdown",
     "metadata": {},
     "source": [
      "### Testing on a large corpus of files\n",
      "\n",
      "#### In the next couple steps, we train a classifier on all the data, and then test it on approximately 289K files.  This data is not labeled, but I would expect them all to be benign.  Maybe a few malicious ones, but a small number."
     ]
    },
    {
     "cell_type": "code",
     "collapsed": false,
     "input": [
      "clf_everything = sklearn.ensemble.RandomForestClassifier(n_estimators=50)\n",
      "abc_features = ['entropy', 'frame count', 'frame rate', 'size', 'swf area', 'swf perimeter', 'version',\n",
      "                    'CSMTextSettings', 'DebugID', 'DefineBinaryData', 'DefineBits',\n",
      "                    'DefineBitsJPEG2', 'DefineBitsJPEG3', 'DefineBitsLossless',\n",
      "                    'DefineBitsLossless2', 'DefineButton', 'DefineButton2',\n",
      "                    'DefineButtonSound', 'DefineEditText', 'DefineFont', 'DefineFont2',\n",
      "                    'DefineFont3', 'DefineFont4', 'DefineFontAlignZones', 'DefineFontInfo',\n",
      "                    'DefineFontInfo2', 'DefineFontName', 'DefineMorphShape',\n",
      "                    'DefineMorphShape2', 'DefineScalingGrid', 'DefineSceneAndFrameLabelData',\n",
      "                    'DefineShape', 'DefineShape2', 'DefineShape3', 'DefineShape4',\n",
      "                    'DefineSound', 'DefineSprite', 'DefineText', 'DefineText2',\n",
      "                    'DefineVideoStream', 'DoABC', 'DoABCDefine', 'DoAction', 'DoInitAction',\n",
      "                    'EnableDebugger2', 'End', 'ExportAssets', 'FileAttributes', 'FrameLabel',\n",
      "                    'ImportAssets2', 'JPEGTables', 'Metadata', 'PlaceObject', 'PlaceObject2',\n",
      "                    'PlaceObject3', 'ProductInfo', 'Protect', 'RemoveObject2', 'ScriptLimits',\n",
      "                    'SetBackgroundColor', 'ShowFrame', 'SoundStreamBlock', 'SoundStreamHead',\n",
      "                    'SoundStreamHead2', 'SymbolClass', 'Unknown', 'tag count',                    \n",
      "                    'abc string count', 'abc string m/m ratio',\n",
      "                    'bytecode name count', 'first abc bytecode name', 'long hex string',\n",
      "                    'unique bytecode name count']\n",
      "\n",
      "X_all = df.as_matrix(abc_features)\n",
      "y_all = np.array(df['label'].tolist())\n",
      "clf_everything.fit(X_all, y_all)"
     ],
     "language": "python",
     "metadata": {},
     "outputs": [
      {
       "metadata": {},
       "output_type": "pyout",
       "prompt_number": 38,
       "text": [
        "RandomForestClassifier(bootstrap=True, compute_importances=None,\n",
        "            criterion='gini', max_depth=None, max_features='auto',\n",
        "            min_density=None, min_samples_leaf=1, min_samples_split=2,\n",
        "            n_estimators=50, n_jobs=1, oob_score=False, random_state=None,\n",
        "            verbose=0)"
       ]
      }
     ],
     "prompt_number": 38
    },
    {
     "cell_type": "code",
     "collapsed": false,
     "input": [
      "swf_malware_df = pd.read_hdf('data/swf_malware_df.hd5', 'table')\n",
      "swf_malware_df['label'] = 'malicious'\n",
      "swf_malware_df.shape"
     ],
     "language": "python",
     "metadata": {},
     "outputs": [
      {
       "output_type": "stream",
       "stream": "stderr",
       "text": [
        "/opt/visiblerisk/lib/python2.7/site-packages/pandas/io/pytables.py:520: DeprecationWarning: openFile() is pending deprecation, use open_file() instead. You may use the pt2to3 tool to update your source code.\n",
        "  self._handle = tables.openFile(self._path, self._mode, **kwargs)\n",
        "/opt/visiblerisk/lib/python2.7/site-packages/pandas/io/pytables.py:1017: DeprecationWarning: getNode() is pending deprecation, use get_node() instead. You may use the pt2to3 tool to update your source code.\n",
        "  return self._handle.getNode(self.root, key)\n"
       ]
      },
      {
       "metadata": {},
       "output_type": "pyout",
       "prompt_number": 39,
       "text": [
        "(621, 89)"
       ]
      }
     ],
     "prompt_number": 39
    },
    {
     "cell_type": "code",
     "collapsed": false,
     "input": [
      "swf_bigpile_df = pd.read_hdf('data/swf_bigpile_df.hd5', 'table')\n",
      "swf_bigpile_df['label'] = 'benign'\n",
      "swf_bigpile_df.shape"
     ],
     "language": "python",
     "metadata": {},
     "outputs": [
      {
       "output_type": "stream",
       "stream": "stderr",
       "text": [
        "/opt/visiblerisk/lib/python2.7/site-packages/pandas/io/pytables.py:520: DeprecationWarning: openFile() is pending deprecation, use open_file() instead. You may use the pt2to3 tool to update your source code.\n",
        "  self._handle = tables.openFile(self._path, self._mode, **kwargs)\n",
        "/opt/visiblerisk/lib/python2.7/site-packages/pandas/io/pytables.py:1017: DeprecationWarning: getNode() is pending deprecation, use get_node() instead. You may use the pt2to3 tool to update your source code.\n",
        "  return self._handle.getNode(self.root, key)\n"
       ]
      },
      {
       "metadata": {},
       "output_type": "pyout",
       "prompt_number": 40,
       "text": [
        "(288846, 90)"
       ]
      }
     ],
     "prompt_number": 40
    },
    {
     "cell_type": "markdown",
     "metadata": {},
     "source": [
      "#### One of the features of the classifier is the ability to give a probability that the feature set belongs to a specific class.  In the code below, we are asking the classifier to give us the probability the feature set (file) belongs to the malicious class.  We interpret these results as anything less the 0.5 is benign, 0.5 - 0.8 is a gray area, and 0.8 and above is malicious."
     ]
    },
    {
     "cell_type": "code",
     "collapsed": false,
     "input": [
      "clean = 0\n",
      "gray = 0\n",
      "bad = 0\n",
      "for x in swf_bigpile_df.as_matrix(abc_features):\n",
      "    try:\n",
      "        score = clf_everything.predict_proba(x)[:,1][0]\n",
      "        if score < 0.5:\n",
      "            clean += 1\n",
      "        elif score < 0.8:\n",
      "            gray += 1\n",
      "        else:\n",
      "            bad += 1\n",
      "    except:\n",
      "        print \"Sad\"\n",
      "        print x\n",
      "        break\n",
      "\n",
      "print swf_bigpile_df.shape\n",
      "print clean\n",
      "print gray\n",
      "print bad"
     ],
     "language": "python",
     "metadata": {},
     "outputs": [
      {
       "output_type": "stream",
       "stream": "stdout",
       "text": [
        "(288846, 90)\n",
        "279673\n",
        "7215\n",
        "1958\n"
       ]
      }
     ],
     "prompt_number": 41
    },
    {
     "cell_type": "markdown",
     "metadata": {},
     "source": [
      "#### 279K of the files were marked as clean.  Almost 8K of the files are in the gray area, and almost 2K were classified as malicious.  Clearly, this doesn't fit our expectations.  But, we only started with a small number of files to train on.  Next we will take 5K of the files, and blindly accept them as benign and add them to our training set. Ideally, we'd like to verify this first, but for now, we will just assume the random 5K are actually benign."
     ]
    },
    {
     "cell_type": "code",
     "collapsed": false,
     "input": [
      "swf_random_df = swf_bigpile_df.reindex(np.random.permutation(swf_bigpile_df.index))\n",
      "swf_random_5k_df = swf_random_df[0:5000]\n",
      "swf_random_the_rest_df = swf_random_df[5000:]"
     ],
     "language": "python",
     "metadata": {},
     "outputs": [],
     "prompt_number": 42
    },
    {
     "cell_type": "code",
     "collapsed": false,
     "input": [
      "swf_bigger_df = pd.concat([swf_malware_df, swf_random_5k_df], ignore_index=True)\n",
      "swf_bigger_df.fillna(0, inplace=True)"
     ],
     "language": "python",
     "metadata": {},
     "outputs": [],
     "prompt_number": 43
    },
    {
     "cell_type": "code",
     "collapsed": false,
     "input": [
      "import sklearn.ensemble\n",
      "from sklearn.metrics import confusion_matrix\n",
      "from sklearn.cross_validation import train_test_split\n",
      "\n",
      "clf_5k = sklearn.ensemble.RandomForestClassifier(n_estimators=50)\n",
      "abc_features = ['entropy', 'frame count', 'frame rate', 'size', 'swf area', 'swf perimeter', 'version',\n",
      "                    'CSMTextSettings', 'DebugID', 'DefineBinaryData', 'DefineBits',\n",
      "                    'DefineBitsJPEG2', 'DefineBitsJPEG3', 'DefineBitsLossless',\n",
      "                    'DefineBitsLossless2', 'DefineButton', 'DefineButton2',\n",
      "                    'DefineButtonSound', 'DefineEditText', 'DefineFont', 'DefineFont2',\n",
      "                    'DefineFont3', 'DefineFont4', 'DefineFontAlignZones', 'DefineFontInfo',\n",
      "                    'DefineFontInfo2', 'DefineFontName', 'DefineMorphShape',\n",
      "                    'DefineMorphShape2', 'DefineScalingGrid', 'DefineSceneAndFrameLabelData',\n",
      "                    'DefineShape', 'DefineShape2', 'DefineShape3', 'DefineShape4',\n",
      "                    'DefineSound', 'DefineSprite', 'DefineText', 'DefineText2',\n",
      "                    'DefineVideoStream', 'DoABC', 'DoABCDefine', 'DoAction', 'DoInitAction',\n",
      "                    'EnableDebugger2', 'End', 'ExportAssets', 'FileAttributes', 'FrameLabel',\n",
      "                    'ImportAssets2', 'JPEGTables', 'Metadata', 'PlaceObject', 'PlaceObject2',\n",
      "                    'PlaceObject3', 'ProductInfo', 'Protect', 'RemoveObject2', 'ScriptLimits',\n",
      "                    'SetBackgroundColor', 'ShowFrame', 'SoundStreamBlock', 'SoundStreamHead',\n",
      "                    'SoundStreamHead2', 'SymbolClass', 'Unknown', 'tag count',                    \n",
      "                    'abc string count', 'abc string m/m ratio',\n",
      "                    'bytecode name count', 'first abc bytecode name', 'long hex string',\n",
      "                    'unique bytecode name count']\n",
      "\n",
      "X = swf_bigger_df.as_matrix(abc_features)\n",
      "y = np.array(swf_bigger_df['label'].tolist())\n",
      "\n",
      "scores = sklearn.cross_validation.cross_val_score(clf_5k, X, y, cv=10)\n",
      "print(\"Accuracy: %0.3f (+/- %0.3f)\" % (scores.mean(), scores.std() * 2))"
     ],
     "language": "python",
     "metadata": {},
     "outputs": [
      {
       "output_type": "stream",
       "stream": "stdout",
       "text": [
        "Accuracy: 0.990 (+/- 0.006)\n"
       ]
      }
     ],
     "prompt_number": 44
    },
    {
     "cell_type": "markdown",
     "metadata": {},
     "source": [
      "#### You can see we actually get significant improvement in the classifier.  The rate is higher and the margin of error is smaller too.  And looking at the confusion matrix below shows one classification detection isn't better than the other."
     ]
    },
    {
     "cell_type": "code",
     "collapsed": false,
     "input": [
      "import sklearn.ensemble\n",
      "from sklearn.metrics import confusion_matrix\n",
      "from sklearn.cross_validation import train_test_split\n",
      "\n",
      "# 80/20 Split for predictive test\n",
      "X_train, X_test, y_train, y_test = train_test_split(X, y, test_size=0.2)\n",
      "clf_5k.fit(X_train, y_train)\n",
      "y_pred = clf_abc.predict(X_test)\n",
      "labels = ['benign', 'malicious']\n",
      "cm = confusion_matrix(y_test, y_pred, labels)\n",
      "plot_cm(cm, labels)"
     ],
     "language": "python",
     "metadata": {},
     "outputs": [
      {
       "output_type": "stream",
       "stream": "stdout",
       "text": [
        "Confusion Matrix Stats\n",
        "benign/benign: 95.01% (953/1003)\n",
        "benign/malicious: 4.99% (50/1003)\n",
        "malicious/benign: 0.00% (0/122)\n",
        "malicious/malicious: 100.00% (122/122)\n"
       ]
      },
      {
       "metadata": {},
       "output_type": "display_data",
       "png": "[encoded data removed]",
       "text": [
        "<matplotlib.figure.Figure at 0x114cccad0>"
       ]
      }
     ],
     "prompt_number": 45
    },
    {
     "cell_type": "markdown",
     "metadata": {},
     "source": [
      "#### Not surprisingly, the feature importance is very similar to the smaller training set"
     ]
    },
    {
     "cell_type": "code",
     "collapsed": false,
     "input": [
      "importances = zip(abc_features, clf_5k.feature_importances_)\n",
      "importances.sort(key=lambda k:k[1], reverse=True)\n",
      "total = 0\n",
      "for idx, im in enumerate(importances[0:20]):\n",
      "    total += round(im[1], 5)\n",
      "    print (str(idx+1) + ':').ljust(4), im[0].ljust(35), round(im[1], 5), total"
     ],
     "language": "python",
     "metadata": {},
     "outputs": [
      {
       "output_type": "stream",
       "stream": "stdout",
       "text": [
        "1:   swf perimeter                       0.11688 0.11688\n",
        "2:   swf area                            0.0828 0.19968\n",
        "3:   entropy                             0.08055 0.28023\n",
        "4:   abc string m/m ratio                0.06875 0.34898\n",
        "5:   size                                0.05404 0.40302\n",
        "6:   abc string count                    0.05321 0.45623\n",
        "7:   frame rate                          0.04839 0.50462\n",
        "8:   tag count                           0.04693 0.55155\n",
        "9:   frame count                         0.04146 0.59301\n",
        "10:  PlaceObject2                        0.0363 0.62931\n",
        "11:  Unknown                             0.03536 0.66467\n",
        "12:  End                                 0.03411 0.69878\n",
        "13:  first abc bytecode name             0.02746 0.72624\n",
        "14:  version                             0.02738 0.75362\n",
        "15:  DoABCDefine                         0.02428 0.7779\n",
        "16:  DefineShape3                        0.01646 0.79436\n",
        "17:  bytecode name count                 0.01576 0.81012\n",
        "18:  DefineShape                         0.01375 0.82387\n",
        "19:  DefineSprite                        0.01213 0.836\n",
        "20:  FrameLabel                          0.01186 0.84786\n"
       ]
      }
     ],
     "prompt_number": 46
    },
    {
     "cell_type": "code",
     "collapsed": false,
     "input": [
      "#### Next we training over all the data again, and test on the large corpus of files."
     ],
     "language": "python",
     "metadata": {},
     "outputs": [],
     "prompt_number": 47
    },
    {
     "cell_type": "code",
     "collapsed": false,
     "input": [
      "clf_everything_2 = sklearn.ensemble.RandomForestClassifier(n_estimators=50)\n",
      "abc_features = ['entropy', 'frame count', 'frame rate', 'size', 'swf area', 'swf perimeter', 'version',\n",
      "                    'CSMTextSettings', 'DebugID', 'DefineBinaryData', 'DefineBits',\n",
      "                    'DefineBitsJPEG2', 'DefineBitsJPEG3', 'DefineBitsLossless',\n",
      "                    'DefineBitsLossless2', 'DefineButton', 'DefineButton2',\n",
      "                    'DefineButtonSound', 'DefineEditText', 'DefineFont', 'DefineFont2',\n",
      "                    'DefineFont3', 'DefineFont4', 'DefineFontAlignZones', 'DefineFontInfo',\n",
      "                    'DefineFontInfo2', 'DefineFontName', 'DefineMorphShape',\n",
      "                    'DefineMorphShape2', 'DefineScalingGrid', 'DefineSceneAndFrameLabelData',\n",
      "                    'DefineShape', 'DefineShape2', 'DefineShape3', 'DefineShape4',\n",
      "                    'DefineSound', 'DefineSprite', 'DefineText', 'DefineText2',\n",
      "                    'DefineVideoStream', 'DoABC', 'DoABCDefine', 'DoAction', 'DoInitAction',\n",
      "                    'EnableDebugger2', 'End', 'ExportAssets', 'FileAttributes', 'FrameLabel',\n",
      "                    'ImportAssets2', 'JPEGTables', 'Metadata', 'PlaceObject', 'PlaceObject2',\n",
      "                    'PlaceObject3', 'ProductInfo', 'Protect', 'RemoveObject2', 'ScriptLimits',\n",
      "                    'SetBackgroundColor', 'ShowFrame', 'SoundStreamBlock', 'SoundStreamHead',\n",
      "                    'SoundStreamHead2', 'SymbolClass', 'Unknown', 'tag count',                    \n",
      "                    'abc string count', 'abc string m/m ratio',\n",
      "                    'bytecode name count', 'first abc bytecode name', 'long hex string',\n",
      "                    'unique bytecode name count']\n",
      "\n",
      "X_all_2 = swf_bigger_df.as_matrix(abc_features)\n",
      "y_all_2 = np.array(swf_bigger_df['label'].tolist())\n",
      "clf_everything_2.fit(X_all_2, y_all_2)"
     ],
     "language": "python",
     "metadata": {},
     "outputs": [
      {
       "metadata": {},
       "output_type": "pyout",
       "prompt_number": 48,
       "text": [
        "RandomForestClassifier(bootstrap=True, compute_importances=None,\n",
        "            criterion='gini', max_depth=None, max_features='auto',\n",
        "            min_density=None, min_samples_leaf=1, min_samples_split=2,\n",
        "            n_estimators=50, n_jobs=1, oob_score=False, random_state=None,\n",
        "            verbose=0)"
       ]
      }
     ],
     "prompt_number": 48
    },
    {
     "cell_type": "code",
     "collapsed": false,
     "input": [
      "clean = 0\n",
      "gray = 0\n",
      "bad = 0\n",
      "for x in swf_random_the_rest_df.as_matrix(abc_features):\n",
      "    try:\n",
      "        score = clf_everything_2.predict_proba(x)[:,1][0]\n",
      "        if score < 0.5:\n",
      "            clean += 1\n",
      "        elif score < 0.8:\n",
      "            gray += 1\n",
      "        else:\n",
      "            bad += 1\n",
      "    except:\n",
      "        print \"Sad\"\n",
      "        print x\n",
      "        break\n",
      "\n",
      "print swf_bigpile_df.shape\n",
      "print clean\n",
      "print gray\n",
      "print bad"
     ],
     "language": "python",
     "metadata": {},
     "outputs": [
      {
       "output_type": "stream",
       "stream": "stdout",
       "text": [
        "(288846, 90)\n",
        "282662\n",
        "800\n",
        "384\n"
       ]
      }
     ],
     "prompt_number": 49
    },
    {
     "cell_type": "markdown",
     "metadata": {},
     "source": [
      "#### You can see that there is a big improvement in the gray and malicious classification.  There is still room for improvement, but we are moving closer to a manageable level of detections an analyst could look at.\n",
      "\n",
      "\n",
      "#### Next we explore the idea that since we added features about actionscript, maybe we should limit the classifier to only train and test on files that contain actionscript since those features will be meaningless when actionscript is not present."
     ]
    },
    {
     "cell_type": "code",
     "collapsed": false,
     "input": [
      "df_abc_only = swf_bigger_df[(swf_bigger_df['DoABC'] == 1) | (swf_bigger_df['DoABCDefine'] == 1)]\n",
      "df_abc_only.shape"
     ],
     "language": "python",
     "metadata": {},
     "outputs": [
      {
       "metadata": {},
       "output_type": "pyout",
       "prompt_number": 50,
       "text": [
        "(3246, 90)"
       ]
      }
     ],
     "prompt_number": 50
    },
    {
     "cell_type": "code",
     "collapsed": false,
     "input": [
      "import sklearn.ensemble\n",
      "from sklearn.metrics import confusion_matrix\n",
      "from sklearn.cross_validation import train_test_split\n",
      "\n",
      "clf_abc_only = sklearn.ensemble.RandomForestClassifier(n_estimators=50)\n",
      "abc_features = ['entropy', 'frame count', 'frame rate', 'size', 'swf area', 'swf perimeter', 'version',\n",
      "                    'CSMTextSettings', 'DebugID', 'DefineBinaryData', 'DefineBits',\n",
      "                    'DefineBitsJPEG2', 'DefineBitsJPEG3', 'DefineBitsLossless',\n",
      "                    'DefineBitsLossless2', 'DefineButton', 'DefineButton2',\n",
      "                    'DefineButtonSound', 'DefineEditText', 'DefineFont', 'DefineFont2',\n",
      "                    'DefineFont3', 'DefineFont4', 'DefineFontAlignZones', 'DefineFontInfo',\n",
      "                    'DefineFontInfo2', 'DefineFontName', 'DefineMorphShape',\n",
      "                    'DefineMorphShape2', 'DefineScalingGrid', 'DefineSceneAndFrameLabelData',\n",
      "                    'DefineShape', 'DefineShape2', 'DefineShape3', 'DefineShape4',\n",
      "                    'DefineSound', 'DefineSprite', 'DefineText', 'DefineText2',\n",
      "                    'DefineVideoStream', 'DoABC', 'DoABCDefine', 'DoAction', 'DoInitAction',\n",
      "                    'EnableDebugger2', 'End', 'ExportAssets', 'FileAttributes', 'FrameLabel',\n",
      "                    'ImportAssets2', 'JPEGTables', 'Metadata', 'PlaceObject', 'PlaceObject2',\n",
      "                    'PlaceObject3', 'ProductInfo', 'Protect', 'RemoveObject2', 'ScriptLimits',\n",
      "                    'SetBackgroundColor', 'ShowFrame', 'SoundStreamBlock', 'SoundStreamHead',\n",
      "                    'SoundStreamHead2', 'SymbolClass', 'Unknown', 'tag count',                    \n",
      "                    'abc string count', 'abc string m/m ratio',\n",
      "                    'bytecode name count', 'first abc bytecode name', 'long hex string',\n",
      "                    'unique bytecode name count']\n",
      "\n",
      "X = df_abc_only.as_matrix(abc_features)\n",
      "y = np.array(df_abc_only['label'].tolist())\n",
      "\n",
      "scores = sklearn.cross_validation.cross_val_score(clf_abc_only, X, y, cv=10)\n",
      "print(\"Accuracy: %0.3f (+/- %0.3f)\" % (scores.mean(), scores.std() * 2))"
     ],
     "language": "python",
     "metadata": {},
     "outputs": [
      {
       "output_type": "stream",
       "stream": "stdout",
       "text": [
        "Accuracy: 0.992 (+/- 0.008)\n"
       ]
      }
     ],
     "prompt_number": 51
    },
    {
     "cell_type": "markdown",
     "metadata": {},
     "source": [
      "#### Surprisingly (at least to me), no significant improvement was noticed."
     ]
    },
    {
     "cell_type": "code",
     "collapsed": false,
     "input": [
      "import sklearn.ensemble\n",
      "from sklearn.metrics import confusion_matrix\n",
      "from sklearn.cross_validation import train_test_split\n",
      "\n",
      "# 80/20 Split for predictive test\n",
      "X_train, X_test, y_train, y_test = train_test_split(X, y, test_size=0.2)\n",
      "clf_abc_only.fit(X_train, y_train)\n",
      "y_pred = clf_abc.predict(X_test)\n",
      "labels = ['benign', 'malicious']\n",
      "cm = confusion_matrix(y_test, y_pred, labels)\n",
      "plot_cm(cm, labels)"
     ],
     "language": "python",
     "metadata": {},
     "outputs": [
      {
       "output_type": "stream",
       "stream": "stdout",
       "text": [
        "Confusion Matrix Stats\n",
        "benign/benign: 96.92% (535/552)\n",
        "benign/malicious: 3.08% (17/552)\n",
        "malicious/benign: 0.00% (0/98)\n",
        "malicious/malicious: 100.00% (98/98)\n"
       ]
      },
      {
       "metadata": {},
       "output_type": "display_data",
       "png": "[encoded data removed]",
       "text": [
        "<matplotlib.figure.Figure at 0x1146e0810>"
       ]
      }
     ],
     "prompt_number": 53
    },
    {
     "cell_type": "markdown",
     "metadata": {},
     "source": [
      "#### When we check the importance, we see some of the actionscript feature are more prominent, but they don't contain enough information to make a significant improvement to the classifier."
     ]
    },
    {
     "cell_type": "code",
     "collapsed": false,
     "input": [
      "importances = zip(abc_features, clf_abc.feature_importances_)\n",
      "importances.sort(key=lambda k:k[1], reverse=True)\n",
      "total = 0\n",
      "for idx, im in enumerate(importances[0:20]):\n",
      "    total += round(im[1], 5)\n",
      "    print (str(idx+1) + ':').ljust(4), im[0].ljust(35), round(im[1], 5), total"
     ],
     "language": "python",
     "metadata": {},
     "outputs": [
      {
       "output_type": "stream",
       "stream": "stdout",
       "text": [
        "1:   abc string count                    0.08828 0.08828\n",
        "2:   entropy                             0.08444 0.17272\n",
        "3:   swf area                            0.06474 0.23746\n",
        "4:   swf perimeter                       0.05966 0.29712\n",
        "5:   tag count                           0.05951 0.35663\n",
        "6:   PlaceObject2                        0.05094 0.40757\n",
        "7:   DefineShape3                        0.05022 0.45779\n",
        "8:   size                                0.04628 0.50407\n",
        "9:   frame rate                          0.04317 0.54724\n",
        "10:  version                             0.04204 0.58928\n",
        "11:  abc string m/m ratio                0.03019 0.61947\n",
        "12:  DefineShape                         0.02958 0.64905\n",
        "13:  long hex string                     0.02897 0.67802\n",
        "14:  DefineSprite                        0.02816 0.70618\n",
        "15:  DefineFont3                         0.02448 0.73066\n",
        "16:  DefineBitsJPEG2                     0.02426 0.75492\n",
        "17:  DefineFontName                      0.01949 0.77441\n",
        "18:  ProductInfo                         0.01839 0.7928\n",
        "19:  Unknown                             0.01636 0.80916\n",
        "20:  first abc bytecode name             0.01585 0.82501\n"
       ]
      }
     ],
     "prompt_number": 54
    },
    {
     "cell_type": "markdown",
     "metadata": {},
     "source": [
      "#### Finally, we test on the large corpus of files, but limit them to just actionscript again."
     ]
    },
    {
     "cell_type": "code",
     "collapsed": false,
     "input": [
      "swf_abc_only_the_rest_df = swf_random_the_rest_df[(swf_random_the_rest_df['DoABC'] == 1) | (swf_random_the_rest_df['DoABCDefine'] == 1)]"
     ],
     "language": "python",
     "metadata": {},
     "outputs": [],
     "prompt_number": 55
    },
    {
     "cell_type": "code",
     "collapsed": false,
     "input": [
      "clf_everything_abc = sklearn.ensemble.RandomForestClassifier(n_estimators=50)\n",
      "abc_features = ['entropy', 'frame count', 'frame rate', 'size', 'swf area', 'swf perimeter', 'version',\n",
      "                    'CSMTextSettings', 'DebugID', 'DefineBinaryData', 'DefineBits',\n",
      "                    'DefineBitsJPEG2', 'DefineBitsJPEG3', 'DefineBitsLossless',\n",
      "                    'DefineBitsLossless2', 'DefineButton', 'DefineButton2',\n",
      "                    'DefineButtonSound', 'DefineEditText', 'DefineFont', 'DefineFont2',\n",
      "                    'DefineFont3', 'DefineFont4', 'DefineFontAlignZones', 'DefineFontInfo',\n",
      "                    'DefineFontInfo2', 'DefineFontName', 'DefineMorphShape',\n",
      "                    'DefineMorphShape2', 'DefineScalingGrid', 'DefineSceneAndFrameLabelData',\n",
      "                    'DefineShape', 'DefineShape2', 'DefineShape3', 'DefineShape4',\n",
      "                    'DefineSound', 'DefineSprite', 'DefineText', 'DefineText2',\n",
      "                    'DefineVideoStream', 'DoABC', 'DoABCDefine', 'DoAction', 'DoInitAction',\n",
      "                    'EnableDebugger2', 'End', 'ExportAssets', 'FileAttributes', 'FrameLabel',\n",
      "                    'ImportAssets2', 'JPEGTables', 'Metadata', 'PlaceObject', 'PlaceObject2',\n",
      "                    'PlaceObject3', 'ProductInfo', 'Protect', 'RemoveObject2', 'ScriptLimits',\n",
      "                    'SetBackgroundColor', 'ShowFrame', 'SoundStreamBlock', 'SoundStreamHead',\n",
      "                    'SoundStreamHead2', 'SymbolClass', 'Unknown', 'tag count',                    \n",
      "                    'abc string count', 'abc string m/m ratio',\n",
      "                    'bytecode name count', 'first abc bytecode name', 'long hex string',\n",
      "                    'unique bytecode name count']\n",
      "\n",
      "X_all_3 = df_abc_only.as_matrix(abc_features)\n",
      "y_all_3 = np.array(df_abc_only['label'].tolist())\n",
      "clf_everything_abc.fit(X_all_3, y_all_3)"
     ],
     "language": "python",
     "metadata": {},
     "outputs": [
      {
       "metadata": {},
       "output_type": "pyout",
       "prompt_number": 56,
       "text": [
        "RandomForestClassifier(bootstrap=True, compute_importances=None,\n",
        "            criterion='gini', max_depth=None, max_features='auto',\n",
        "            min_density=None, min_samples_leaf=1, min_samples_split=2,\n",
        "            n_estimators=50, n_jobs=1, oob_score=False, random_state=None,\n",
        "            verbose=0)"
       ]
      }
     ],
     "prompt_number": 56
    },
    {
     "cell_type": "code",
     "collapsed": false,
     "input": [
      "clean = 0\n",
      "gray = 0\n",
      "bad = 0\n",
      "for x in swf_abc_only_the_rest_df.as_matrix(abc_features):\n",
      "    try:\n",
      "        score = clf_everything_abc.predict_proba(x)[:,1][0]\n",
      "        if score < 0.5:\n",
      "            clean += 1\n",
      "        elif score < 0.8:\n",
      "            gray += 1\n",
      "        else:\n",
      "            bad += 1\n",
      "    except Exception as e:\n",
      "        print \"Sad\"\n",
      "        print e\n",
      "        print x\n",
      "        break\n",
      "\n",
      "print swf_abc_only_the_rest_df.shape\n",
      "print clean\n",
      "print gray\n",
      "print bad"
     ],
     "language": "python",
     "metadata": {},
     "outputs": [
      {
       "output_type": "stream",
       "stream": "stdout",
       "text": [
        "(152768, 90)\n",
        "151967\n",
        "474\n",
        "327\n"
       ]
      }
     ],
     "prompt_number": 57
    },
    {
     "cell_type": "markdown",
     "metadata": {},
     "source": [
      "#### The percentage marked as gray and malicious are about the same, so again, no real improvement."
     ]
    }
   ],
   "metadata": {}
  }
 ]
}